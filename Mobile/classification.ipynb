{
 "cells": [
  {
   "cell_type": "code",
   "execution_count": 1,
   "id": "f3e5a6c5",
   "metadata": {
    "_cell_guid": "b1076dfc-b9ad-4769-8c92-a6c4dae69d19",
    "_uuid": "8f2839f25d086af736a60e9eeb907d3b93b6e0e5",
    "execution": {
     "iopub.execute_input": "2022-07-19T22:46:06.178337Z",
     "iopub.status.busy": "2022-07-19T22:46:06.177707Z",
     "iopub.status.idle": "2022-07-19T22:46:07.795770Z",
     "shell.execute_reply": "2022-07-19T22:46:07.794427Z"
    },
    "papermill": {
     "duration": 1.630214,
     "end_time": "2022-07-19T22:46:07.798996",
     "exception": false,
     "start_time": "2022-07-19T22:46:06.168782",
     "status": "completed"
    },
    "tags": []
   },
   "outputs": [
    {
     "name": "stdout",
     "output_type": "stream",
     "text": [
      "/kaggle/input/mobile-price-classification/train.csv\n",
      "/kaggle/input/mobile-price-classification/test.csv\n"
     ]
    }
   ],
   "source": [
    "# This Python 3 environment comes with many helpful analytics libraries installed\n",
    "# It is defined by the kaggle/python Docker image: https://github.com/kaggle/docker-python\n",
    "# For example, here's several helpful packages to load\n",
    "\n",
    "import numpy as np # linear algebra\n",
    "import pandas as pd # data processing, CSV file I/O (e.g. pd.read_csv)\n",
    "from sklearn.model_selection import train_test_split,GridSearchCV\n",
    "from sklearn.tree import DecisionTreeClassifier\n",
    "from sklearn.metrics import classification_report, confusion_matrix\n",
    "import matplotlib.pyplot as plt\n",
    "import xgboost as xgb\n",
    "from sklearn.ensemble import RandomForestClassifier\n",
    "from sklearn.preprocessing import MinMaxScaler\n",
    "from sklearn.svm import SVC\n",
    "\n",
    "# Input data files are available in the read-only \"../input/\" directory\n",
    "# For example, running this (by clicking run or pressing Shift+Enter) will list all files under the input directory\n",
    "\n",
    "import os\n",
    "for dirname, _, filenames in os.walk('/kaggle/input'):\n",
    "    for filename in filenames:\n",
    "        print(os.path.join(dirname, filename))\n",
    "\n",
    "# You can write up to 20GB to the current directory (/kaggle/working/) that gets preserved as output when you create a version using \"Save & Run All\" \n",
    "# You can also write temporary files to /kaggle/temp/, but they won't be saved outside of the current session"
   ]
  },
  {
   "cell_type": "markdown",
   "id": "4a51fe08",
   "metadata": {
    "papermill": {
     "duration": 0.004833,
     "end_time": "2022-07-19T22:46:07.810189",
     "exception": false,
     "start_time": "2022-07-19T22:46:07.805356",
     "status": "completed"
    },
    "tags": []
   },
   "source": [
    "# 1-) Leitura dos Dados"
   ]
  },
  {
   "cell_type": "code",
   "execution_count": 2,
   "id": "0c1d6855",
   "metadata": {
    "execution": {
     "iopub.execute_input": "2022-07-19T22:46:07.822218Z",
     "iopub.status.busy": "2022-07-19T22:46:07.821371Z",
     "iopub.status.idle": "2022-07-19T22:46:07.881488Z",
     "shell.execute_reply": "2022-07-19T22:46:07.880069Z"
    },
    "papermill": {
     "duration": 0.069385,
     "end_time": "2022-07-19T22:46:07.884181",
     "exception": false,
     "start_time": "2022-07-19T22:46:07.814796",
     "status": "completed"
    },
    "tags": []
   },
   "outputs": [
    {
     "name": "stdout",
     "output_type": "stream",
     "text": [
      "(2000, 21)\n",
      "(1000, 21)\n"
     ]
    },
    {
     "data": {
      "text/html": [
       "<div>\n",
       "<style scoped>\n",
       "    .dataframe tbody tr th:only-of-type {\n",
       "        vertical-align: middle;\n",
       "    }\n",
       "\n",
       "    .dataframe tbody tr th {\n",
       "        vertical-align: top;\n",
       "    }\n",
       "\n",
       "    .dataframe thead th {\n",
       "        text-align: right;\n",
       "    }\n",
       "</style>\n",
       "<table border=\"1\" class=\"dataframe\">\n",
       "  <thead>\n",
       "    <tr style=\"text-align: right;\">\n",
       "      <th></th>\n",
       "      <th>battery_power</th>\n",
       "      <th>blue</th>\n",
       "      <th>clock_speed</th>\n",
       "      <th>dual_sim</th>\n",
       "      <th>fc</th>\n",
       "      <th>four_g</th>\n",
       "      <th>int_memory</th>\n",
       "      <th>m_dep</th>\n",
       "      <th>mobile_wt</th>\n",
       "      <th>n_cores</th>\n",
       "      <th>...</th>\n",
       "      <th>px_height</th>\n",
       "      <th>px_width</th>\n",
       "      <th>ram</th>\n",
       "      <th>sc_h</th>\n",
       "      <th>sc_w</th>\n",
       "      <th>talk_time</th>\n",
       "      <th>three_g</th>\n",
       "      <th>touch_screen</th>\n",
       "      <th>wifi</th>\n",
       "      <th>price_range</th>\n",
       "    </tr>\n",
       "  </thead>\n",
       "  <tbody>\n",
       "    <tr>\n",
       "      <th>0</th>\n",
       "      <td>842</td>\n",
       "      <td>0</td>\n",
       "      <td>2.2</td>\n",
       "      <td>0</td>\n",
       "      <td>1</td>\n",
       "      <td>0</td>\n",
       "      <td>7</td>\n",
       "      <td>0.6</td>\n",
       "      <td>188</td>\n",
       "      <td>2</td>\n",
       "      <td>...</td>\n",
       "      <td>20</td>\n",
       "      <td>756</td>\n",
       "      <td>2549</td>\n",
       "      <td>9</td>\n",
       "      <td>7</td>\n",
       "      <td>19</td>\n",
       "      <td>0</td>\n",
       "      <td>0</td>\n",
       "      <td>1</td>\n",
       "      <td>1</td>\n",
       "    </tr>\n",
       "    <tr>\n",
       "      <th>1</th>\n",
       "      <td>1021</td>\n",
       "      <td>1</td>\n",
       "      <td>0.5</td>\n",
       "      <td>1</td>\n",
       "      <td>0</td>\n",
       "      <td>1</td>\n",
       "      <td>53</td>\n",
       "      <td>0.7</td>\n",
       "      <td>136</td>\n",
       "      <td>3</td>\n",
       "      <td>...</td>\n",
       "      <td>905</td>\n",
       "      <td>1988</td>\n",
       "      <td>2631</td>\n",
       "      <td>17</td>\n",
       "      <td>3</td>\n",
       "      <td>7</td>\n",
       "      <td>1</td>\n",
       "      <td>1</td>\n",
       "      <td>0</td>\n",
       "      <td>2</td>\n",
       "    </tr>\n",
       "    <tr>\n",
       "      <th>2</th>\n",
       "      <td>563</td>\n",
       "      <td>1</td>\n",
       "      <td>0.5</td>\n",
       "      <td>1</td>\n",
       "      <td>2</td>\n",
       "      <td>1</td>\n",
       "      <td>41</td>\n",
       "      <td>0.9</td>\n",
       "      <td>145</td>\n",
       "      <td>5</td>\n",
       "      <td>...</td>\n",
       "      <td>1263</td>\n",
       "      <td>1716</td>\n",
       "      <td>2603</td>\n",
       "      <td>11</td>\n",
       "      <td>2</td>\n",
       "      <td>9</td>\n",
       "      <td>1</td>\n",
       "      <td>1</td>\n",
       "      <td>0</td>\n",
       "      <td>2</td>\n",
       "    </tr>\n",
       "    <tr>\n",
       "      <th>3</th>\n",
       "      <td>615</td>\n",
       "      <td>1</td>\n",
       "      <td>2.5</td>\n",
       "      <td>0</td>\n",
       "      <td>0</td>\n",
       "      <td>0</td>\n",
       "      <td>10</td>\n",
       "      <td>0.8</td>\n",
       "      <td>131</td>\n",
       "      <td>6</td>\n",
       "      <td>...</td>\n",
       "      <td>1216</td>\n",
       "      <td>1786</td>\n",
       "      <td>2769</td>\n",
       "      <td>16</td>\n",
       "      <td>8</td>\n",
       "      <td>11</td>\n",
       "      <td>1</td>\n",
       "      <td>0</td>\n",
       "      <td>0</td>\n",
       "      <td>2</td>\n",
       "    </tr>\n",
       "    <tr>\n",
       "      <th>4</th>\n",
       "      <td>1821</td>\n",
       "      <td>1</td>\n",
       "      <td>1.2</td>\n",
       "      <td>0</td>\n",
       "      <td>13</td>\n",
       "      <td>1</td>\n",
       "      <td>44</td>\n",
       "      <td>0.6</td>\n",
       "      <td>141</td>\n",
       "      <td>2</td>\n",
       "      <td>...</td>\n",
       "      <td>1208</td>\n",
       "      <td>1212</td>\n",
       "      <td>1411</td>\n",
       "      <td>8</td>\n",
       "      <td>2</td>\n",
       "      <td>15</td>\n",
       "      <td>1</td>\n",
       "      <td>1</td>\n",
       "      <td>0</td>\n",
       "      <td>1</td>\n",
       "    </tr>\n",
       "  </tbody>\n",
       "</table>\n",
       "<p>5 rows × 21 columns</p>\n",
       "</div>"
      ],
      "text/plain": [
       "   battery_power  blue  clock_speed  dual_sim  fc  four_g  int_memory  m_dep  \\\n",
       "0            842     0          2.2         0   1       0           7    0.6   \n",
       "1           1021     1          0.5         1   0       1          53    0.7   \n",
       "2            563     1          0.5         1   2       1          41    0.9   \n",
       "3            615     1          2.5         0   0       0          10    0.8   \n",
       "4           1821     1          1.2         0  13       1          44    0.6   \n",
       "\n",
       "   mobile_wt  n_cores  ...  px_height  px_width   ram  sc_h  sc_w  talk_time  \\\n",
       "0        188        2  ...         20       756  2549     9     7         19   \n",
       "1        136        3  ...        905      1988  2631    17     3          7   \n",
       "2        145        5  ...       1263      1716  2603    11     2          9   \n",
       "3        131        6  ...       1216      1786  2769    16     8         11   \n",
       "4        141        2  ...       1208      1212  1411     8     2         15   \n",
       "\n",
       "   three_g  touch_screen  wifi  price_range  \n",
       "0        0             0     1            1  \n",
       "1        1             1     0            2  \n",
       "2        1             1     0            2  \n",
       "3        1             0     0            2  \n",
       "4        1             1     0            1  \n",
       "\n",
       "[5 rows x 21 columns]"
      ]
     },
     "execution_count": 2,
     "metadata": {},
     "output_type": "execute_result"
    }
   ],
   "source": [
    "train_df = pd.read_csv('../input/mobile-price-classification/train.csv')\n",
    "test_df = pd.read_csv('../input/mobile-price-classification/test.csv')\n",
    "\n",
    "print(train_df.shape)\n",
    "print(test_df.shape)\n",
    "train_df.head()"
   ]
  },
  {
   "cell_type": "markdown",
   "id": "4d1c67e7",
   "metadata": {
    "papermill": {
     "duration": 0.004712,
     "end_time": "2022-07-19T22:46:07.894382",
     "exception": false,
     "start_time": "2022-07-19T22:46:07.889670",
     "status": "completed"
    },
    "tags": []
   },
   "source": [
    "1.1-) Preprocessing"
   ]
  },
  {
   "cell_type": "code",
   "execution_count": 3,
   "id": "0930c636",
   "metadata": {
    "execution": {
     "iopub.execute_input": "2022-07-19T22:46:07.906779Z",
     "iopub.status.busy": "2022-07-19T22:46:07.906402Z",
     "iopub.status.idle": "2022-07-19T22:46:07.917488Z",
     "shell.execute_reply": "2022-07-19T22:46:07.916204Z"
    },
    "papermill": {
     "duration": 0.0208,
     "end_time": "2022-07-19T22:46:07.920050",
     "exception": false,
     "start_time": "2022-07-19T22:46:07.899250",
     "status": "completed"
    },
    "tags": []
   },
   "outputs": [],
   "source": [
    "# Existem alguns problemas na base, sc_w=0 não faz sentido, e na EDA foi possivel perceber que existem valores zeros.\n",
    "\n",
    "train_df = train_df[(train_df['sc_w']!=0) & (train_df['px_height']!=0)]"
   ]
  },
  {
   "cell_type": "markdown",
   "id": "bdadbcf5",
   "metadata": {
    "papermill": {
     "duration": 0.004549,
     "end_time": "2022-07-19T22:46:07.929600",
     "exception": false,
     "start_time": "2022-07-19T22:46:07.925051",
     "status": "completed"
    },
    "tags": []
   },
   "source": [
    "# 2-) Feature Engineering"
   ]
  },
  {
   "cell_type": "code",
   "execution_count": 4,
   "id": "1a877ab5",
   "metadata": {
    "execution": {
     "iopub.execute_input": "2022-07-19T22:46:07.941827Z",
     "iopub.status.busy": "2022-07-19T22:46:07.941441Z",
     "iopub.status.idle": "2022-07-19T22:46:07.971361Z",
     "shell.execute_reply": "2022-07-19T22:46:07.970505Z"
    },
    "papermill": {
     "duration": 0.038895,
     "end_time": "2022-07-19T22:46:07.973365",
     "exception": false,
     "start_time": "2022-07-19T22:46:07.934470",
     "status": "completed"
    },
    "tags": []
   },
   "outputs": [
    {
     "data": {
      "text/html": [
       "<div>\n",
       "<style scoped>\n",
       "    .dataframe tbody tr th:only-of-type {\n",
       "        vertical-align: middle;\n",
       "    }\n",
       "\n",
       "    .dataframe tbody tr th {\n",
       "        vertical-align: top;\n",
       "    }\n",
       "\n",
       "    .dataframe thead th {\n",
       "        text-align: right;\n",
       "    }\n",
       "</style>\n",
       "<table border=\"1\" class=\"dataframe\">\n",
       "  <thead>\n",
       "    <tr style=\"text-align: right;\">\n",
       "      <th></th>\n",
       "      <th>battery_power</th>\n",
       "      <th>blue</th>\n",
       "      <th>clock_speed</th>\n",
       "      <th>dual_sim</th>\n",
       "      <th>fc</th>\n",
       "      <th>four_g</th>\n",
       "      <th>int_memory</th>\n",
       "      <th>m_dep</th>\n",
       "      <th>mobile_wt</th>\n",
       "      <th>n_cores</th>\n",
       "      <th>...</th>\n",
       "      <th>sc_w</th>\n",
       "      <th>talk_time</th>\n",
       "      <th>three_g</th>\n",
       "      <th>touch_screen</th>\n",
       "      <th>wifi</th>\n",
       "      <th>price_range</th>\n",
       "      <th>n_cores_bck_g2_c</th>\n",
       "      <th>n_cores_bck_g3_c</th>\n",
       "      <th>n_cores_bck_g4_c</th>\n",
       "      <th>n_cores_bck_g5_c</th>\n",
       "    </tr>\n",
       "  </thead>\n",
       "  <tbody>\n",
       "    <tr>\n",
       "      <th>0</th>\n",
       "      <td>842</td>\n",
       "      <td>0</td>\n",
       "      <td>2.2</td>\n",
       "      <td>0</td>\n",
       "      <td>1</td>\n",
       "      <td>0</td>\n",
       "      <td>7</td>\n",
       "      <td>0.6</td>\n",
       "      <td>188</td>\n",
       "      <td>2</td>\n",
       "      <td>...</td>\n",
       "      <td>7</td>\n",
       "      <td>19</td>\n",
       "      <td>0</td>\n",
       "      <td>0</td>\n",
       "      <td>1</td>\n",
       "      <td>1</td>\n",
       "      <td>0</td>\n",
       "      <td>0</td>\n",
       "      <td>0</td>\n",
       "      <td>0</td>\n",
       "    </tr>\n",
       "    <tr>\n",
       "      <th>1</th>\n",
       "      <td>1021</td>\n",
       "      <td>1</td>\n",
       "      <td>0.5</td>\n",
       "      <td>1</td>\n",
       "      <td>0</td>\n",
       "      <td>1</td>\n",
       "      <td>53</td>\n",
       "      <td>0.7</td>\n",
       "      <td>136</td>\n",
       "      <td>3</td>\n",
       "      <td>...</td>\n",
       "      <td>3</td>\n",
       "      <td>7</td>\n",
       "      <td>1</td>\n",
       "      <td>1</td>\n",
       "      <td>0</td>\n",
       "      <td>2</td>\n",
       "      <td>1</td>\n",
       "      <td>0</td>\n",
       "      <td>0</td>\n",
       "      <td>0</td>\n",
       "    </tr>\n",
       "    <tr>\n",
       "      <th>2</th>\n",
       "      <td>563</td>\n",
       "      <td>1</td>\n",
       "      <td>0.5</td>\n",
       "      <td>1</td>\n",
       "      <td>2</td>\n",
       "      <td>1</td>\n",
       "      <td>41</td>\n",
       "      <td>0.9</td>\n",
       "      <td>145</td>\n",
       "      <td>5</td>\n",
       "      <td>...</td>\n",
       "      <td>2</td>\n",
       "      <td>9</td>\n",
       "      <td>1</td>\n",
       "      <td>1</td>\n",
       "      <td>0</td>\n",
       "      <td>2</td>\n",
       "      <td>0</td>\n",
       "      <td>1</td>\n",
       "      <td>0</td>\n",
       "      <td>0</td>\n",
       "    </tr>\n",
       "    <tr>\n",
       "      <th>3</th>\n",
       "      <td>615</td>\n",
       "      <td>1</td>\n",
       "      <td>2.5</td>\n",
       "      <td>0</td>\n",
       "      <td>0</td>\n",
       "      <td>0</td>\n",
       "      <td>10</td>\n",
       "      <td>0.8</td>\n",
       "      <td>131</td>\n",
       "      <td>6</td>\n",
       "      <td>...</td>\n",
       "      <td>8</td>\n",
       "      <td>11</td>\n",
       "      <td>1</td>\n",
       "      <td>0</td>\n",
       "      <td>0</td>\n",
       "      <td>2</td>\n",
       "      <td>0</td>\n",
       "      <td>0</td>\n",
       "      <td>1</td>\n",
       "      <td>0</td>\n",
       "    </tr>\n",
       "    <tr>\n",
       "      <th>4</th>\n",
       "      <td>1821</td>\n",
       "      <td>1</td>\n",
       "      <td>1.2</td>\n",
       "      <td>0</td>\n",
       "      <td>13</td>\n",
       "      <td>1</td>\n",
       "      <td>44</td>\n",
       "      <td>0.6</td>\n",
       "      <td>141</td>\n",
       "      <td>2</td>\n",
       "      <td>...</td>\n",
       "      <td>2</td>\n",
       "      <td>15</td>\n",
       "      <td>1</td>\n",
       "      <td>1</td>\n",
       "      <td>0</td>\n",
       "      <td>1</td>\n",
       "      <td>0</td>\n",
       "      <td>0</td>\n",
       "      <td>0</td>\n",
       "      <td>0</td>\n",
       "    </tr>\n",
       "  </tbody>\n",
       "</table>\n",
       "<p>5 rows × 25 columns</p>\n",
       "</div>"
      ],
      "text/plain": [
       "   battery_power  blue  clock_speed  dual_sim  fc  four_g  int_memory  m_dep  \\\n",
       "0            842     0          2.2         0   1       0           7    0.6   \n",
       "1           1021     1          0.5         1   0       1          53    0.7   \n",
       "2            563     1          0.5         1   2       1          41    0.9   \n",
       "3            615     1          2.5         0   0       0          10    0.8   \n",
       "4           1821     1          1.2         0  13       1          44    0.6   \n",
       "\n",
       "   mobile_wt  n_cores  ...  sc_w  talk_time  three_g  touch_screen  wifi  \\\n",
       "0        188        2  ...     7         19        0             0     1   \n",
       "1        136        3  ...     3          7        1             1     0   \n",
       "2        145        5  ...     2          9        1             1     0   \n",
       "3        131        6  ...     8         11        1             0     0   \n",
       "4        141        2  ...     2         15        1             1     0   \n",
       "\n",
       "   price_range  n_cores_bck_g2_c  n_cores_bck_g3_c  n_cores_bck_g4_c  \\\n",
       "0            1                 0                 0                 0   \n",
       "1            2                 1                 0                 0   \n",
       "2            2                 0                 1                 0   \n",
       "3            2                 0                 0                 1   \n",
       "4            1                 0                 0                 0   \n",
       "\n",
       "   n_cores_bck_g5_c  \n",
       "0                 0  \n",
       "1                 0  \n",
       "2                 0  \n",
       "3                 0  \n",
       "4                 0  \n",
       "\n",
       "[5 rows x 25 columns]"
      ]
     },
     "execution_count": 4,
     "metadata": {},
     "output_type": "execute_result"
    }
   ],
   "source": [
    "def bck_cores(nc):\n",
    "    if(nc<2.5):\n",
    "        return 'g1_c'\n",
    "    elif(nc>2.5 and nc<3.5):\n",
    "        return 'g2_c'\n",
    "    elif(nc>3.5 and nc<5.5):\n",
    "        return 'g3_c'\n",
    "    elif(nc>5.5 and nc<6.5):\n",
    "        return 'g4_c'\n",
    "    else:\n",
    "        return 'g5_c'\n",
    "\n",
    "train_df['n_cores_bck'] = train_df['n_cores'].apply(lambda nc: bck_cores(nc))\n",
    "train_df = pd.get_dummies(train_df,columns=['n_cores_bck'],drop_first=True)\n",
    "train_df.head()"
   ]
  },
  {
   "cell_type": "code",
   "execution_count": 5,
   "id": "633ef8e8",
   "metadata": {
    "execution": {
     "iopub.execute_input": "2022-07-19T22:46:07.985929Z",
     "iopub.status.busy": "2022-07-19T22:46:07.985331Z",
     "iopub.status.idle": "2022-07-19T22:46:08.010606Z",
     "shell.execute_reply": "2022-07-19T22:46:08.009475Z"
    },
    "papermill": {
     "duration": 0.034024,
     "end_time": "2022-07-19T22:46:08.012910",
     "exception": false,
     "start_time": "2022-07-19T22:46:07.978886",
     "status": "completed"
    },
    "tags": []
   },
   "outputs": [
    {
     "data": {
      "text/html": [
       "<div>\n",
       "<style scoped>\n",
       "    .dataframe tbody tr th:only-of-type {\n",
       "        vertical-align: middle;\n",
       "    }\n",
       "\n",
       "    .dataframe tbody tr th {\n",
       "        vertical-align: top;\n",
       "    }\n",
       "\n",
       "    .dataframe thead th {\n",
       "        text-align: right;\n",
       "    }\n",
       "</style>\n",
       "<table border=\"1\" class=\"dataframe\">\n",
       "  <thead>\n",
       "    <tr style=\"text-align: right;\">\n",
       "      <th></th>\n",
       "      <th>battery_power</th>\n",
       "      <th>blue</th>\n",
       "      <th>clock_speed</th>\n",
       "      <th>dual_sim</th>\n",
       "      <th>fc</th>\n",
       "      <th>four_g</th>\n",
       "      <th>int_memory</th>\n",
       "      <th>m_dep</th>\n",
       "      <th>mobile_wt</th>\n",
       "      <th>n_cores</th>\n",
       "      <th>...</th>\n",
       "      <th>three_g</th>\n",
       "      <th>touch_screen</th>\n",
       "      <th>wifi</th>\n",
       "      <th>price_range</th>\n",
       "      <th>n_cores_bck_g2_c</th>\n",
       "      <th>n_cores_bck_g3_c</th>\n",
       "      <th>n_cores_bck_g4_c</th>\n",
       "      <th>n_cores_bck_g5_c</th>\n",
       "      <th>m_dep_bck_g2_dep</th>\n",
       "      <th>m_dep_bck_g3_dep</th>\n",
       "    </tr>\n",
       "  </thead>\n",
       "  <tbody>\n",
       "    <tr>\n",
       "      <th>0</th>\n",
       "      <td>842</td>\n",
       "      <td>0</td>\n",
       "      <td>2.2</td>\n",
       "      <td>0</td>\n",
       "      <td>1</td>\n",
       "      <td>0</td>\n",
       "      <td>7</td>\n",
       "      <td>0.6</td>\n",
       "      <td>188</td>\n",
       "      <td>2</td>\n",
       "      <td>...</td>\n",
       "      <td>0</td>\n",
       "      <td>0</td>\n",
       "      <td>1</td>\n",
       "      <td>1</td>\n",
       "      <td>0</td>\n",
       "      <td>0</td>\n",
       "      <td>0</td>\n",
       "      <td>0</td>\n",
       "      <td>1</td>\n",
       "      <td>0</td>\n",
       "    </tr>\n",
       "    <tr>\n",
       "      <th>1</th>\n",
       "      <td>1021</td>\n",
       "      <td>1</td>\n",
       "      <td>0.5</td>\n",
       "      <td>1</td>\n",
       "      <td>0</td>\n",
       "      <td>1</td>\n",
       "      <td>53</td>\n",
       "      <td>0.7</td>\n",
       "      <td>136</td>\n",
       "      <td>3</td>\n",
       "      <td>...</td>\n",
       "      <td>1</td>\n",
       "      <td>1</td>\n",
       "      <td>0</td>\n",
       "      <td>2</td>\n",
       "      <td>1</td>\n",
       "      <td>0</td>\n",
       "      <td>0</td>\n",
       "      <td>0</td>\n",
       "      <td>0</td>\n",
       "      <td>1</td>\n",
       "    </tr>\n",
       "    <tr>\n",
       "      <th>2</th>\n",
       "      <td>563</td>\n",
       "      <td>1</td>\n",
       "      <td>0.5</td>\n",
       "      <td>1</td>\n",
       "      <td>2</td>\n",
       "      <td>1</td>\n",
       "      <td>41</td>\n",
       "      <td>0.9</td>\n",
       "      <td>145</td>\n",
       "      <td>5</td>\n",
       "      <td>...</td>\n",
       "      <td>1</td>\n",
       "      <td>1</td>\n",
       "      <td>0</td>\n",
       "      <td>2</td>\n",
       "      <td>0</td>\n",
       "      <td>1</td>\n",
       "      <td>0</td>\n",
       "      <td>0</td>\n",
       "      <td>0</td>\n",
       "      <td>1</td>\n",
       "    </tr>\n",
       "    <tr>\n",
       "      <th>3</th>\n",
       "      <td>615</td>\n",
       "      <td>1</td>\n",
       "      <td>2.5</td>\n",
       "      <td>0</td>\n",
       "      <td>0</td>\n",
       "      <td>0</td>\n",
       "      <td>10</td>\n",
       "      <td>0.8</td>\n",
       "      <td>131</td>\n",
       "      <td>6</td>\n",
       "      <td>...</td>\n",
       "      <td>1</td>\n",
       "      <td>0</td>\n",
       "      <td>0</td>\n",
       "      <td>2</td>\n",
       "      <td>0</td>\n",
       "      <td>0</td>\n",
       "      <td>1</td>\n",
       "      <td>0</td>\n",
       "      <td>0</td>\n",
       "      <td>1</td>\n",
       "    </tr>\n",
       "    <tr>\n",
       "      <th>4</th>\n",
       "      <td>1821</td>\n",
       "      <td>1</td>\n",
       "      <td>1.2</td>\n",
       "      <td>0</td>\n",
       "      <td>13</td>\n",
       "      <td>1</td>\n",
       "      <td>44</td>\n",
       "      <td>0.6</td>\n",
       "      <td>141</td>\n",
       "      <td>2</td>\n",
       "      <td>...</td>\n",
       "      <td>1</td>\n",
       "      <td>1</td>\n",
       "      <td>0</td>\n",
       "      <td>1</td>\n",
       "      <td>0</td>\n",
       "      <td>0</td>\n",
       "      <td>0</td>\n",
       "      <td>0</td>\n",
       "      <td>1</td>\n",
       "      <td>0</td>\n",
       "    </tr>\n",
       "  </tbody>\n",
       "</table>\n",
       "<p>5 rows × 27 columns</p>\n",
       "</div>"
      ],
      "text/plain": [
       "   battery_power  blue  clock_speed  dual_sim  fc  four_g  int_memory  m_dep  \\\n",
       "0            842     0          2.2         0   1       0           7    0.6   \n",
       "1           1021     1          0.5         1   0       1          53    0.7   \n",
       "2            563     1          0.5         1   2       1          41    0.9   \n",
       "3            615     1          2.5         0   0       0          10    0.8   \n",
       "4           1821     1          1.2         0  13       1          44    0.6   \n",
       "\n",
       "   mobile_wt  n_cores  ...  three_g  touch_screen  wifi  price_range  \\\n",
       "0        188        2  ...        0             0     1            1   \n",
       "1        136        3  ...        1             1     0            2   \n",
       "2        145        5  ...        1             1     0            2   \n",
       "3        131        6  ...        1             0     0            2   \n",
       "4        141        2  ...        1             1     0            1   \n",
       "\n",
       "   n_cores_bck_g2_c  n_cores_bck_g3_c  n_cores_bck_g4_c  n_cores_bck_g5_c  \\\n",
       "0                 0                 0                 0                 0   \n",
       "1                 1                 0                 0                 0   \n",
       "2                 0                 1                 0                 0   \n",
       "3                 0                 0                 1                 0   \n",
       "4                 0                 0                 0                 0   \n",
       "\n",
       "   m_dep_bck_g2_dep  m_dep_bck_g3_dep  \n",
       "0                 1                 0  \n",
       "1                 0                 1  \n",
       "2                 0                 1  \n",
       "3                 0                 1  \n",
       "4                 1                 0  \n",
       "\n",
       "[5 rows x 27 columns]"
      ]
     },
     "execution_count": 5,
     "metadata": {},
     "output_type": "execute_result"
    }
   ],
   "source": [
    "def bck_mdep(nc):\n",
    "    if(nc<0.45):\n",
    "        return 'g1_dep'\n",
    "    elif(nc>0.45 and nc<0.65):\n",
    "        return 'g2_dep'\n",
    "    else:\n",
    "        return 'g3_dep'\n",
    "\n",
    "train_df['m_dep_bck'] = train_df['m_dep'].apply(lambda nc: bck_mdep(nc))\n",
    "train_df = pd.get_dummies(train_df,columns=['m_dep_bck'],drop_first=True)\n",
    "train_df.head()"
   ]
  },
  {
   "cell_type": "code",
   "execution_count": 6,
   "id": "807047f1",
   "metadata": {
    "execution": {
     "iopub.execute_input": "2022-07-19T22:46:08.025837Z",
     "iopub.status.busy": "2022-07-19T22:46:08.025489Z",
     "iopub.status.idle": "2022-07-19T22:46:08.045761Z",
     "shell.execute_reply": "2022-07-19T22:46:08.044732Z"
    },
    "papermill": {
     "duration": 0.029543,
     "end_time": "2022-07-19T22:46:08.048044",
     "exception": false,
     "start_time": "2022-07-19T22:46:08.018501",
     "status": "completed"
    },
    "tags": []
   },
   "outputs": [
    {
     "data": {
      "text/html": [
       "<div>\n",
       "<style scoped>\n",
       "    .dataframe tbody tr th:only-of-type {\n",
       "        vertical-align: middle;\n",
       "    }\n",
       "\n",
       "    .dataframe tbody tr th {\n",
       "        vertical-align: top;\n",
       "    }\n",
       "\n",
       "    .dataframe thead th {\n",
       "        text-align: right;\n",
       "    }\n",
       "</style>\n",
       "<table border=\"1\" class=\"dataframe\">\n",
       "  <thead>\n",
       "    <tr style=\"text-align: right;\">\n",
       "      <th></th>\n",
       "      <th>battery_power</th>\n",
       "      <th>blue</th>\n",
       "      <th>clock_speed</th>\n",
       "      <th>dual_sim</th>\n",
       "      <th>fc</th>\n",
       "      <th>four_g</th>\n",
       "      <th>int_memory</th>\n",
       "      <th>m_dep</th>\n",
       "      <th>mobile_wt</th>\n",
       "      <th>n_cores</th>\n",
       "      <th>...</th>\n",
       "      <th>wifi</th>\n",
       "      <th>price_range</th>\n",
       "      <th>n_cores_bck_g2_c</th>\n",
       "      <th>n_cores_bck_g3_c</th>\n",
       "      <th>n_cores_bck_g4_c</th>\n",
       "      <th>n_cores_bck_g5_c</th>\n",
       "      <th>m_dep_bck_g2_dep</th>\n",
       "      <th>m_dep_bck_g3_dep</th>\n",
       "      <th>resolution</th>\n",
       "      <th>area</th>\n",
       "    </tr>\n",
       "  </thead>\n",
       "  <tbody>\n",
       "    <tr>\n",
       "      <th>0</th>\n",
       "      <td>842</td>\n",
       "      <td>0</td>\n",
       "      <td>2.2</td>\n",
       "      <td>0</td>\n",
       "      <td>1</td>\n",
       "      <td>0</td>\n",
       "      <td>7</td>\n",
       "      <td>0.6</td>\n",
       "      <td>188</td>\n",
       "      <td>2</td>\n",
       "      <td>...</td>\n",
       "      <td>1</td>\n",
       "      <td>1</td>\n",
       "      <td>0</td>\n",
       "      <td>0</td>\n",
       "      <td>0</td>\n",
       "      <td>0</td>\n",
       "      <td>1</td>\n",
       "      <td>0</td>\n",
       "      <td>15120</td>\n",
       "      <td>63</td>\n",
       "    </tr>\n",
       "    <tr>\n",
       "      <th>1</th>\n",
       "      <td>1021</td>\n",
       "      <td>1</td>\n",
       "      <td>0.5</td>\n",
       "      <td>1</td>\n",
       "      <td>0</td>\n",
       "      <td>1</td>\n",
       "      <td>53</td>\n",
       "      <td>0.7</td>\n",
       "      <td>136</td>\n",
       "      <td>3</td>\n",
       "      <td>...</td>\n",
       "      <td>0</td>\n",
       "      <td>2</td>\n",
       "      <td>1</td>\n",
       "      <td>0</td>\n",
       "      <td>0</td>\n",
       "      <td>0</td>\n",
       "      <td>0</td>\n",
       "      <td>1</td>\n",
       "      <td>1799140</td>\n",
       "      <td>51</td>\n",
       "    </tr>\n",
       "    <tr>\n",
       "      <th>2</th>\n",
       "      <td>563</td>\n",
       "      <td>1</td>\n",
       "      <td>0.5</td>\n",
       "      <td>1</td>\n",
       "      <td>2</td>\n",
       "      <td>1</td>\n",
       "      <td>41</td>\n",
       "      <td>0.9</td>\n",
       "      <td>145</td>\n",
       "      <td>5</td>\n",
       "      <td>...</td>\n",
       "      <td>0</td>\n",
       "      <td>2</td>\n",
       "      <td>0</td>\n",
       "      <td>1</td>\n",
       "      <td>0</td>\n",
       "      <td>0</td>\n",
       "      <td>0</td>\n",
       "      <td>1</td>\n",
       "      <td>2167308</td>\n",
       "      <td>22</td>\n",
       "    </tr>\n",
       "    <tr>\n",
       "      <th>3</th>\n",
       "      <td>615</td>\n",
       "      <td>1</td>\n",
       "      <td>2.5</td>\n",
       "      <td>0</td>\n",
       "      <td>0</td>\n",
       "      <td>0</td>\n",
       "      <td>10</td>\n",
       "      <td>0.8</td>\n",
       "      <td>131</td>\n",
       "      <td>6</td>\n",
       "      <td>...</td>\n",
       "      <td>0</td>\n",
       "      <td>2</td>\n",
       "      <td>0</td>\n",
       "      <td>0</td>\n",
       "      <td>1</td>\n",
       "      <td>0</td>\n",
       "      <td>0</td>\n",
       "      <td>1</td>\n",
       "      <td>2171776</td>\n",
       "      <td>128</td>\n",
       "    </tr>\n",
       "    <tr>\n",
       "      <th>4</th>\n",
       "      <td>1821</td>\n",
       "      <td>1</td>\n",
       "      <td>1.2</td>\n",
       "      <td>0</td>\n",
       "      <td>13</td>\n",
       "      <td>1</td>\n",
       "      <td>44</td>\n",
       "      <td>0.6</td>\n",
       "      <td>141</td>\n",
       "      <td>2</td>\n",
       "      <td>...</td>\n",
       "      <td>0</td>\n",
       "      <td>1</td>\n",
       "      <td>0</td>\n",
       "      <td>0</td>\n",
       "      <td>0</td>\n",
       "      <td>0</td>\n",
       "      <td>1</td>\n",
       "      <td>0</td>\n",
       "      <td>1464096</td>\n",
       "      <td>16</td>\n",
       "    </tr>\n",
       "  </tbody>\n",
       "</table>\n",
       "<p>5 rows × 29 columns</p>\n",
       "</div>"
      ],
      "text/plain": [
       "   battery_power  blue  clock_speed  dual_sim  fc  four_g  int_memory  m_dep  \\\n",
       "0            842     0          2.2         0   1       0           7    0.6   \n",
       "1           1021     1          0.5         1   0       1          53    0.7   \n",
       "2            563     1          0.5         1   2       1          41    0.9   \n",
       "3            615     1          2.5         0   0       0          10    0.8   \n",
       "4           1821     1          1.2         0  13       1          44    0.6   \n",
       "\n",
       "   mobile_wt  n_cores  ...  wifi  price_range  n_cores_bck_g2_c  \\\n",
       "0        188        2  ...     1            1                 0   \n",
       "1        136        3  ...     0            2                 1   \n",
       "2        145        5  ...     0            2                 0   \n",
       "3        131        6  ...     0            2                 0   \n",
       "4        141        2  ...     0            1                 0   \n",
       "\n",
       "   n_cores_bck_g3_c  n_cores_bck_g4_c  n_cores_bck_g5_c  m_dep_bck_g2_dep  \\\n",
       "0                 0                 0                 0                 1   \n",
       "1                 0                 0                 0                 0   \n",
       "2                 1                 0                 0                 0   \n",
       "3                 0                 1                 0                 0   \n",
       "4                 0                 0                 0                 1   \n",
       "\n",
       "   m_dep_bck_g3_dep  resolution  area  \n",
       "0                 0       15120    63  \n",
       "1                 1     1799140    51  \n",
       "2                 1     2167308    22  \n",
       "3                 1     2171776   128  \n",
       "4                 0     1464096    16  \n",
       "\n",
       "[5 rows x 29 columns]"
      ]
     },
     "execution_count": 6,
     "metadata": {},
     "output_type": "execute_result"
    }
   ],
   "source": [
    "train_df['resolution'] = train_df['px_height'] * train_df['px_width']\n",
    "train_df['area'] = train_df['sc_h'] * train_df['sc_w']\n",
    "\n",
    "train_df.head()"
   ]
  },
  {
   "cell_type": "markdown",
   "id": "d7c279bf",
   "metadata": {
    "papermill": {
     "duration": 0.006451,
     "end_time": "2022-07-19T22:46:08.060357",
     "exception": false,
     "start_time": "2022-07-19T22:46:08.053906",
     "status": "completed"
    },
    "tags": []
   },
   "source": [
    "# 3-) Feature Selection"
   ]
  },
  {
   "cell_type": "code",
   "execution_count": 7,
   "id": "e29156f5",
   "metadata": {
    "execution": {
     "iopub.execute_input": "2022-07-19T22:46:08.075912Z",
     "iopub.status.busy": "2022-07-19T22:46:08.075233Z",
     "iopub.status.idle": "2022-07-19T22:46:08.085556Z",
     "shell.execute_reply": "2022-07-19T22:46:08.084650Z"
    },
    "papermill": {
     "duration": 0.020248,
     "end_time": "2022-07-19T22:46:08.087555",
     "exception": false,
     "start_time": "2022-07-19T22:46:08.067307",
     "status": "completed"
    },
    "tags": []
   },
   "outputs": [
    {
     "data": {
      "text/plain": [
       "Index(['battery_power', 'blue', 'clock_speed', 'dual_sim', 'fc', 'four_g',\n",
       "       'int_memory', 'mobile_wt', 'ram', 'talk_time', 'touch_screen', 'wifi',\n",
       "       'price_range', 'n_cores_bck_g2_c', 'n_cores_bck_g3_c',\n",
       "       'n_cores_bck_g4_c', 'n_cores_bck_g5_c', 'm_dep_bck_g2_dep',\n",
       "       'm_dep_bck_g3_dep', 'resolution', 'area'],\n",
       "      dtype='object')"
      ]
     },
     "execution_count": 7,
     "metadata": {},
     "output_type": "execute_result"
    }
   ],
   "source": [
    "drop_columns = ['n_cores','m_dep','px_height','px_width','sc_h','sc_w','three_g','pc']\n",
    "df = train_df.drop(columns=drop_columns,axis=1)\n",
    "df.columns"
   ]
  },
  {
   "cell_type": "code",
   "execution_count": 8,
   "id": "e15711ad",
   "metadata": {
    "execution": {
     "iopub.execute_input": "2022-07-19T22:46:08.102535Z",
     "iopub.status.busy": "2022-07-19T22:46:08.100895Z",
     "iopub.status.idle": "2022-07-19T22:46:08.110436Z",
     "shell.execute_reply": "2022-07-19T22:46:08.108770Z"
    },
    "papermill": {
     "duration": 0.018891,
     "end_time": "2022-07-19T22:46:08.112567",
     "exception": false,
     "start_time": "2022-07-19T22:46:08.093676",
     "status": "completed"
    },
    "tags": []
   },
   "outputs": [
    {
     "name": "stdout",
     "output_type": "stream",
     "text": [
      "X: (1819, 20)\n",
      "y: (1819,)\n"
     ]
    }
   ],
   "source": [
    "X = df.drop(columns=['price_range'],axis=1).values\n",
    "y = df['price_range'].values\n",
    "\n",
    "print(f'X: {X.shape}')\n",
    "print(f'y: {y.shape}')"
   ]
  },
  {
   "cell_type": "code",
   "execution_count": 9,
   "id": "185aac79",
   "metadata": {
    "execution": {
     "iopub.execute_input": "2022-07-19T22:46:08.126649Z",
     "iopub.status.busy": "2022-07-19T22:46:08.126021Z",
     "iopub.status.idle": "2022-07-19T22:46:08.143910Z",
     "shell.execute_reply": "2022-07-19T22:46:08.142632Z"
    },
    "papermill": {
     "duration": 0.028041,
     "end_time": "2022-07-19T22:46:08.146459",
     "exception": false,
     "start_time": "2022-07-19T22:46:08.118418",
     "status": "completed"
    },
    "tags": []
   },
   "outputs": [],
   "source": [
    "df.to_csv('features_mobile.csv')"
   ]
  },
  {
   "cell_type": "markdown",
   "id": "08e71479",
   "metadata": {
    "papermill": {
     "duration": 0.005621,
     "end_time": "2022-07-19T22:46:08.158130",
     "exception": false,
     "start_time": "2022-07-19T22:46:08.152509",
     "status": "completed"
    },
    "tags": []
   },
   "source": [
    "# 4-) Modelo"
   ]
  },
  {
   "cell_type": "code",
   "execution_count": 10,
   "id": "fb1796b1",
   "metadata": {
    "execution": {
     "iopub.execute_input": "2022-07-19T22:46:08.172582Z",
     "iopub.status.busy": "2022-07-19T22:46:08.172020Z",
     "iopub.status.idle": "2022-07-19T22:46:08.183322Z",
     "shell.execute_reply": "2022-07-19T22:46:08.182510Z"
    },
    "papermill": {
     "duration": 0.022051,
     "end_time": "2022-07-19T22:46:08.186362",
     "exception": false,
     "start_time": "2022-07-19T22:46:08.164311",
     "status": "completed"
    },
    "tags": []
   },
   "outputs": [
    {
     "name": "stdout",
     "output_type": "stream",
     "text": [
      "X train: (1218, 20)\n",
      "X val: (601, 20)\n",
      "y train: (1218,)\n",
      "y val: (601,)\n"
     ]
    }
   ],
   "source": [
    "seed = 10\n",
    "X_train,X_val,y_train,y_val = train_test_split(X,y,random_state=seed,stratify=y,test_size=0.33)\n",
    "\n",
    "print(f'X train: {X_train.shape}')\n",
    "print(f'X val: {X_val.shape}')\n",
    "\n",
    "print(f'y train: {y_train.shape}')\n",
    "print(f'y val: {y_val.shape}')"
   ]
  },
  {
   "cell_type": "code",
   "execution_count": 11,
   "id": "37238b73",
   "metadata": {
    "execution": {
     "iopub.execute_input": "2022-07-19T22:46:08.202757Z",
     "iopub.status.busy": "2022-07-19T22:46:08.201598Z",
     "iopub.status.idle": "2022-07-19T22:46:08.437296Z",
     "shell.execute_reply": "2022-07-19T22:46:08.435651Z"
    },
    "papermill": {
     "duration": 0.24639,
     "end_time": "2022-07-19T22:46:08.439582",
     "exception": false,
     "start_time": "2022-07-19T22:46:08.193192",
     "status": "completed"
    },
    "tags": []
   },
   "outputs": [
    {
     "name": "stdout",
     "output_type": "stream",
     "text": [
      "Acuracia para o treino: 0.961\n",
      "Acuracia para a validacao: 0.847\n"
     ]
    }
   ],
   "source": [
    "# Árvore de decisão\n",
    "\n",
    "tree = DecisionTreeClassifier(random_state=seed)\n",
    "\n",
    "params = {'max_depth' : [2,3,5,7,10,12,15]}\n",
    "\n",
    "clf = GridSearchCV(tree,params)\n",
    "clf.fit(X_train, y_train)\n",
    "best_hiperparams = clf.best_params_\n",
    "\n",
    "tree = DecisionTreeClassifier(max_depth = best_hiperparams['max_depth'])\n",
    "tree.fit(X_train, y_train)\n",
    "\n",
    "print(f'Acuracia para o treino: {tree.score(X_train,y_train):.3f}')\n",
    "print(f'Acuracia para a validacao: {tree.score(X_val,y_val):.3f}')"
   ]
  },
  {
   "cell_type": "code",
   "execution_count": 12,
   "id": "0d869aeb",
   "metadata": {
    "execution": {
     "iopub.execute_input": "2022-07-19T22:46:08.453939Z",
     "iopub.status.busy": "2022-07-19T22:46:08.452793Z",
     "iopub.status.idle": "2022-07-19T22:46:08.754015Z",
     "shell.execute_reply": "2022-07-19T22:46:08.753148Z"
    },
    "papermill": {
     "duration": 0.310911,
     "end_time": "2022-07-19T22:46:08.756558",
     "exception": false,
     "start_time": "2022-07-19T22:46:08.445647",
     "status": "completed"
    },
    "tags": []
   },
   "outputs": [
    {
     "name": "stdout",
     "output_type": "stream",
     "text": [
      "Matrix de Confusão para a arvore de decisão no dataset de validação:\n",
      " [[139  10   0   0]\n",
      " [ 15 113  21   0]\n",
      " [  0  14 122  15]\n",
      " [  0   0  17 135]]\n"
     ]
    },
    {
     "name": "stderr",
     "output_type": "stream",
     "text": [
      "/opt/conda/lib/python3.7/site-packages/ipykernel_launcher.py:8: UserWarning: FixedFormatter should only be used together with FixedLocator\n",
      "  \n"
     ]
    },
    {
     "data": {
      "image/png": "[encoded data removed]",
      "text/plain": [
       "<Figure size 1152x648 with 1 Axes>"
      ]
     },
     "metadata": {
      "needs_background": "light"
     },
     "output_type": "display_data"
    }
   ],
   "source": [
    "y_pred_val_dtree = tree.predict(X_val)\n",
    "print(f'Matrix de Confusão para a arvore de decisão no dataset de validação:\\n {confusion_matrix(y_val,y_pred_val_dtree)}')\n",
    "\n",
    "fig,ax = plt.subplots(figsize=(16,9))\n",
    "xticklabels = df.drop(columns=['price_range'],axis=1).columns.values\n",
    "ax.bar(x=xticklabels,height=tree.feature_importances_)\n",
    "ax.set_title(\"Feature Importance para a Arvore de Decisão\")\n",
    "ax.set_xticklabels(xticklabels,rotation=45)\n",
    "fig.show()"
   ]
  },
  {
   "cell_type": "code",
   "execution_count": 13,
   "id": "2eb015b6",
   "metadata": {
    "execution": {
     "iopub.execute_input": "2022-07-19T22:46:08.774729Z",
     "iopub.status.busy": "2022-07-19T22:46:08.774212Z",
     "iopub.status.idle": "2022-07-19T22:49:04.674643Z",
     "shell.execute_reply": "2022-07-19T22:49:04.672571Z"
    },
    "papermill": {
     "duration": 175.91748,
     "end_time": "2022-07-19T22:49:04.681345",
     "exception": false,
     "start_time": "2022-07-19T22:46:08.763865",
     "status": "completed"
    },
    "tags": []
   },
   "outputs": [
    {
     "name": "stdout",
     "output_type": "stream",
     "text": [
      "Acuracia para o treino: 1.000\n",
      "Acuracia para a validacao: 0.897\n"
     ]
    }
   ],
   "source": [
    "# XGBoost\n",
    "xgb_model = xgb.XGBClassifier(random_state=seed)\n",
    "\n",
    "params2 = {'max_depth' : [2,3,5,7,10,12,15], 'learning_rate':[0.05,0.1,0.15,0.2,0.4,0.6]}\n",
    "\n",
    "clf2 = GridSearchCV(xgb_model,params2)\n",
    "clf2.fit(X_train, y_train)\n",
    "\n",
    "xgb_model.set_params(learning_rate = clf2.best_params_['learning_rate'],max_depth = clf2.best_params_['max_depth'])\n",
    "xgb_model.fit(X_train, y_train)\n",
    "\n",
    "print(f'Acuracia para o treino: {xgb_model.score(X_train,y_train):.3f}')\n",
    "print(f'Acuracia para a validacao: {xgb_model.score(X_val,y_val):.3f}')"
   ]
  },
  {
   "cell_type": "code",
   "execution_count": 14,
   "id": "37f42715",
   "metadata": {
    "execution": {
     "iopub.execute_input": "2022-07-19T22:49:04.696792Z",
     "iopub.status.busy": "2022-07-19T22:49:04.696363Z",
     "iopub.status.idle": "2022-07-19T22:49:05.031294Z",
     "shell.execute_reply": "2022-07-19T22:49:05.029245Z"
    },
    "papermill": {
     "duration": 0.346001,
     "end_time": "2022-07-19T22:49:05.034205",
     "exception": false,
     "start_time": "2022-07-19T22:49:04.688204",
     "status": "completed"
    },
    "tags": []
   },
   "outputs": [
    {
     "name": "stdout",
     "output_type": "stream",
     "text": [
      "Melhores Hiperparametros para o XGBoost: {'learning_rate': 0.2, 'max_depth': 5}\n"
     ]
    },
    {
     "name": "stderr",
     "output_type": "stream",
     "text": [
      "/opt/conda/lib/python3.7/site-packages/ipykernel_launcher.py:7: UserWarning: FixedFormatter should only be used together with FixedLocator\n",
      "  import sys\n"
     ]
    },
    {
     "data": {
      "image/png": "[encoded data removed]",
      "text/plain": [
       "<Figure size 1152x648 with 1 Axes>"
      ]
     },
     "metadata": {
      "needs_background": "light"
     },
     "output_type": "display_data"
    }
   ],
   "source": [
    "print(f'Melhores Hiperparametros para o XGBoost: {clf2.best_params_}')\n",
    "\n",
    "fig,ax = plt.subplots(figsize=(16,9))\n",
    "xticklabels = df.drop(columns=['price_range'],axis=1).columns.values\n",
    "ax.bar(x=xticklabels,height=xgb_model.feature_importances_)\n",
    "ax.set_title(\"Feature Importance para  XGBoost\")\n",
    "ax.set_xticklabels(xticklabels,rotation=45)\n",
    "fig.show()"
   ]
  },
  {
   "cell_type": "code",
   "execution_count": 15,
   "id": "88b54485",
   "metadata": {
    "execution": {
     "iopub.execute_input": "2022-07-19T22:49:05.055294Z",
     "iopub.status.busy": "2022-07-19T22:49:05.053397Z",
     "iopub.status.idle": "2022-07-19T22:49:23.378984Z",
     "shell.execute_reply": "2022-07-19T22:49:23.377374Z"
    },
    "papermill": {
     "duration": 18.33911,
     "end_time": "2022-07-19T22:49:23.381729",
     "exception": false,
     "start_time": "2022-07-19T22:49:05.042619",
     "status": "completed"
    },
    "tags": []
   },
   "outputs": [
    {
     "name": "stdout",
     "output_type": "stream",
     "text": [
      "Acuracia para o treino: 1.000\n",
      "Acuracia para a validacao: 0.890\n"
     ]
    }
   ],
   "source": [
    "# Random Forest\n",
    "\n",
    "rf = RandomForestClassifier(random_state=seed)\n",
    "\n",
    "params_rf = {'max_depth' : [2,3,4,5,6,7,10,12,15]}\n",
    "\n",
    "clf3 = GridSearchCV(rf,params_rf,cv = 10)\n",
    "clf3.fit(X_train[:,[0,8,18]], y_train)\n",
    "\n",
    "rf.set_params(max_depth = clf3.best_params_['max_depth'])\n",
    "rf.fit(X_train[:,[0,8,18]], y_train)\n",
    "\n",
    "print(f'Acuracia para o treino: {rf.score(X_train[:,[0,8,18]],y_train):.3f}')\n",
    "print(f'Acuracia para a validacao: {rf.score(X_val[:,[0,8,18]],y_val):.3f}')"
   ]
  },
  {
   "cell_type": "code",
   "execution_count": 16,
   "id": "17bb6929",
   "metadata": {
    "execution": {
     "iopub.execute_input": "2022-07-19T22:49:23.399482Z",
     "iopub.status.busy": "2022-07-19T22:49:23.398338Z",
     "iopub.status.idle": "2022-07-19T22:49:23.404481Z",
     "shell.execute_reply": "2022-07-19T22:49:23.403287Z"
    },
    "papermill": {
     "duration": 0.017668,
     "end_time": "2022-07-19T22:49:23.406860",
     "exception": false,
     "start_time": "2022-07-19T22:49:23.389192",
     "status": "completed"
    },
    "tags": []
   },
   "outputs": [
    {
     "name": "stdout",
     "output_type": "stream",
     "text": [
      "Melhores Hiperparametros para o Random Forest: {'max_depth': 12}\n"
     ]
    }
   ],
   "source": [
    "print(f'Melhores Hiperparametros para o Random Forest: {clf3.best_params_}')\n"
   ]
  }
 ],
 "metadata": {
  "kernelspec": {
   "display_name": "Python 3",
   "language": "python",
   "name": "python3"
  },
  "language_info": {
   "codemirror_mode": {
    "name": "ipython",
    "version": 3
   },
   "file_extension": ".py",
   "mimetype": "text/x-python",
   "name": "python",
   "nbconvert_exporter": "python",
   "pygments_lexer": "ipython3",
   "version": "3.7.12"
  },
  "papermill": {
   "default_parameters": {},
   "duration": 208.567737,
   "end_time": "2022-07-19T22:49:24.239086",
   "environment_variables": {},
   "exception": null,
   "input_path": "__notebook__.ipynb",
   "output_path": "__notebook__.ipynb",
   "parameters": {},
   "start_time": "2022-07-19T22:45:55.671349",
   "version": "2.3.4"
  }
 },
 "nbformat": 4,
 "nbformat_minor": 5
}
