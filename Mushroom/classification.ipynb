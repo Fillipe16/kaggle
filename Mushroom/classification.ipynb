{
 "cells": [
  {
   "cell_type": "code",
   "execution_count": null,
   "id": "35587c68",
   "metadata": {
    "papermill": {
     "duration": 0.005974,
     "end_time": "2022-07-17T17:54:37.922832",
     "exception": false,
     "start_time": "2022-07-17T17:54:37.916858",
     "status": "completed"
    },
    "tags": []
   },
   "outputs": [],
   "source": []
  },
  {
   "cell_type": "code",
   "execution_count": null,
   "id": "5106da4f",
   "metadata": {
    "papermill": {
     "duration": 0.00462,
     "end_time": "2022-07-17T17:54:37.932684",
     "exception": false,
     "start_time": "2022-07-17T17:54:37.928064",
     "status": "completed"
    },
    "tags": []
   },
   "outputs": [],
   "source": []
  },
  {
   "cell_type": "code",
   "execution_count": 1,
   "id": "6b3dc925",
   "metadata": {
    "_cell_guid": "b1076dfc-b9ad-4769-8c92-a6c4dae69d19",
    "_uuid": "8f2839f25d086af736a60e9eeb907d3b93b6e0e5",
    "execution": {
     "iopub.execute_input": "2022-07-17T17:54:37.944607Z",
     "iopub.status.busy": "2022-07-17T17:54:37.944179Z",
     "iopub.status.idle": "2022-07-17T17:54:39.142746Z",
     "shell.execute_reply": "2022-07-17T17:54:39.141248Z"
    },
    "papermill": {
     "duration": 1.208587,
     "end_time": "2022-07-17T17:54:39.146159",
     "exception": false,
     "start_time": "2022-07-17T17:54:37.937572",
     "status": "completed"
    },
    "tags": []
   },
   "outputs": [
    {
     "name": "stdout",
     "output_type": "stream",
     "text": [
      "/kaggle/input/mushroom-classification/mushrooms.csv\n"
     ]
    }
   ],
   "source": [
    "# This Python 3 environment comes with many helpful analytics libraries installed\n",
    "# It is defined by the kaggle/python Docker image: https://github.com/kaggle/docker-python\n",
    "# For example, here's several helpful packages to load\n",
    "\n",
    "import numpy as np # linear algebra\n",
    "import pandas as pd # data processing, CSV file I/O (e.g. pd.read_csv)\n",
    "from sklearn.model_selection import train_test_split\n",
    "from sklearn.metrics import roc_auc_score, classification_report, confusion_matrix\n",
    "import matplotlib.pyplot as plt\n",
    "\n",
    "# Input data files are available in the read-only \"../input/\" directory\n",
    "# For example, running this (by clicking run or pressing Shift+Enter) will list all files under the input directory\n",
    "\n",
    "import os\n",
    "for dirname, _, filenames in os.walk('/kaggle/input'):\n",
    "    for filename in filenames:\n",
    "        print(os.path.join(dirname, filename))\n",
    "\n",
    "# You can write up to 20GB to the current directory (/kaggle/working/) that gets preserved as output when you create a version using \"Save & Run All\" \n",
    "# You can also write temporary files to /kaggle/temp/, but they won't be saved outside of the current session"
   ]
  },
  {
   "cell_type": "markdown",
   "id": "699f422f",
   "metadata": {
    "papermill": {
     "duration": 0.004783,
     "end_time": "2022-07-17T17:54:39.156760",
     "exception": false,
     "start_time": "2022-07-17T17:54:39.151977",
     "status": "completed"
    },
    "tags": []
   },
   "source": [
    "# 1-) Leitura dos Ddos"
   ]
  },
  {
   "cell_type": "code",
   "execution_count": 2,
   "id": "84741420",
   "metadata": {
    "execution": {
     "iopub.execute_input": "2022-07-17T17:54:39.169014Z",
     "iopub.status.busy": "2022-07-17T17:54:39.168383Z",
     "iopub.status.idle": "2022-07-17T17:54:39.238681Z",
     "shell.execute_reply": "2022-07-17T17:54:39.237479Z"
    },
    "papermill": {
     "duration": 0.079292,
     "end_time": "2022-07-17T17:54:39.241105",
     "exception": false,
     "start_time": "2022-07-17T17:54:39.161813",
     "status": "completed"
    },
    "tags": []
   },
   "outputs": [
    {
     "name": "stdout",
     "output_type": "stream",
     "text": [
      "(8124, 23)\n"
     ]
    },
    {
     "data": {
      "text/html": [
       "<div>\n",
       "<style scoped>\n",
       "    .dataframe tbody tr th:only-of-type {\n",
       "        vertical-align: middle;\n",
       "    }\n",
       "\n",
       "    .dataframe tbody tr th {\n",
       "        vertical-align: top;\n",
       "    }\n",
       "\n",
       "    .dataframe thead th {\n",
       "        text-align: right;\n",
       "    }\n",
       "</style>\n",
       "<table border=\"1\" class=\"dataframe\">\n",
       "  <thead>\n",
       "    <tr style=\"text-align: right;\">\n",
       "      <th></th>\n",
       "      <th>class</th>\n",
       "      <th>cap-shape</th>\n",
       "      <th>cap-surface</th>\n",
       "      <th>cap-color</th>\n",
       "      <th>bruises</th>\n",
       "      <th>odor</th>\n",
       "      <th>gill-attachment</th>\n",
       "      <th>gill-spacing</th>\n",
       "      <th>gill-size</th>\n",
       "      <th>gill-color</th>\n",
       "      <th>...</th>\n",
       "      <th>stalk-surface-below-ring</th>\n",
       "      <th>stalk-color-above-ring</th>\n",
       "      <th>stalk-color-below-ring</th>\n",
       "      <th>veil-type</th>\n",
       "      <th>veil-color</th>\n",
       "      <th>ring-number</th>\n",
       "      <th>ring-type</th>\n",
       "      <th>spore-print-color</th>\n",
       "      <th>population</th>\n",
       "      <th>habitat</th>\n",
       "    </tr>\n",
       "  </thead>\n",
       "  <tbody>\n",
       "    <tr>\n",
       "      <th>0</th>\n",
       "      <td>p</td>\n",
       "      <td>x</td>\n",
       "      <td>s</td>\n",
       "      <td>n</td>\n",
       "      <td>t</td>\n",
       "      <td>p</td>\n",
       "      <td>f</td>\n",
       "      <td>c</td>\n",
       "      <td>n</td>\n",
       "      <td>k</td>\n",
       "      <td>...</td>\n",
       "      <td>s</td>\n",
       "      <td>w</td>\n",
       "      <td>w</td>\n",
       "      <td>p</td>\n",
       "      <td>w</td>\n",
       "      <td>o</td>\n",
       "      <td>p</td>\n",
       "      <td>k</td>\n",
       "      <td>s</td>\n",
       "      <td>u</td>\n",
       "    </tr>\n",
       "    <tr>\n",
       "      <th>1</th>\n",
       "      <td>e</td>\n",
       "      <td>x</td>\n",
       "      <td>s</td>\n",
       "      <td>y</td>\n",
       "      <td>t</td>\n",
       "      <td>a</td>\n",
       "      <td>f</td>\n",
       "      <td>c</td>\n",
       "      <td>b</td>\n",
       "      <td>k</td>\n",
       "      <td>...</td>\n",
       "      <td>s</td>\n",
       "      <td>w</td>\n",
       "      <td>w</td>\n",
       "      <td>p</td>\n",
       "      <td>w</td>\n",
       "      <td>o</td>\n",
       "      <td>p</td>\n",
       "      <td>n</td>\n",
       "      <td>n</td>\n",
       "      <td>g</td>\n",
       "    </tr>\n",
       "    <tr>\n",
       "      <th>2</th>\n",
       "      <td>e</td>\n",
       "      <td>b</td>\n",
       "      <td>s</td>\n",
       "      <td>w</td>\n",
       "      <td>t</td>\n",
       "      <td>l</td>\n",
       "      <td>f</td>\n",
       "      <td>c</td>\n",
       "      <td>b</td>\n",
       "      <td>n</td>\n",
       "      <td>...</td>\n",
       "      <td>s</td>\n",
       "      <td>w</td>\n",
       "      <td>w</td>\n",
       "      <td>p</td>\n",
       "      <td>w</td>\n",
       "      <td>o</td>\n",
       "      <td>p</td>\n",
       "      <td>n</td>\n",
       "      <td>n</td>\n",
       "      <td>m</td>\n",
       "    </tr>\n",
       "    <tr>\n",
       "      <th>3</th>\n",
       "      <td>p</td>\n",
       "      <td>x</td>\n",
       "      <td>y</td>\n",
       "      <td>w</td>\n",
       "      <td>t</td>\n",
       "      <td>p</td>\n",
       "      <td>f</td>\n",
       "      <td>c</td>\n",
       "      <td>n</td>\n",
       "      <td>n</td>\n",
       "      <td>...</td>\n",
       "      <td>s</td>\n",
       "      <td>w</td>\n",
       "      <td>w</td>\n",
       "      <td>p</td>\n",
       "      <td>w</td>\n",
       "      <td>o</td>\n",
       "      <td>p</td>\n",
       "      <td>k</td>\n",
       "      <td>s</td>\n",
       "      <td>u</td>\n",
       "    </tr>\n",
       "    <tr>\n",
       "      <th>4</th>\n",
       "      <td>e</td>\n",
       "      <td>x</td>\n",
       "      <td>s</td>\n",
       "      <td>g</td>\n",
       "      <td>f</td>\n",
       "      <td>n</td>\n",
       "      <td>f</td>\n",
       "      <td>w</td>\n",
       "      <td>b</td>\n",
       "      <td>k</td>\n",
       "      <td>...</td>\n",
       "      <td>s</td>\n",
       "      <td>w</td>\n",
       "      <td>w</td>\n",
       "      <td>p</td>\n",
       "      <td>w</td>\n",
       "      <td>o</td>\n",
       "      <td>e</td>\n",
       "      <td>n</td>\n",
       "      <td>a</td>\n",
       "      <td>g</td>\n",
       "    </tr>\n",
       "  </tbody>\n",
       "</table>\n",
       "<p>5 rows × 23 columns</p>\n",
       "</div>"
      ],
      "text/plain": [
       "  class cap-shape cap-surface cap-color bruises odor gill-attachment  \\\n",
       "0     p         x           s         n       t    p               f   \n",
       "1     e         x           s         y       t    a               f   \n",
       "2     e         b           s         w       t    l               f   \n",
       "3     p         x           y         w       t    p               f   \n",
       "4     e         x           s         g       f    n               f   \n",
       "\n",
       "  gill-spacing gill-size gill-color  ... stalk-surface-below-ring  \\\n",
       "0            c         n          k  ...                        s   \n",
       "1            c         b          k  ...                        s   \n",
       "2            c         b          n  ...                        s   \n",
       "3            c         n          n  ...                        s   \n",
       "4            w         b          k  ...                        s   \n",
       "\n",
       "  stalk-color-above-ring stalk-color-below-ring veil-type veil-color  \\\n",
       "0                      w                      w         p          w   \n",
       "1                      w                      w         p          w   \n",
       "2                      w                      w         p          w   \n",
       "3                      w                      w         p          w   \n",
       "4                      w                      w         p          w   \n",
       "\n",
       "  ring-number ring-type spore-print-color population habitat  \n",
       "0           o         p                 k          s       u  \n",
       "1           o         p                 n          n       g  \n",
       "2           o         p                 n          n       m  \n",
       "3           o         p                 k          s       u  \n",
       "4           o         e                 n          a       g  \n",
       "\n",
       "[5 rows x 23 columns]"
      ]
     },
     "execution_count": 2,
     "metadata": {},
     "output_type": "execute_result"
    }
   ],
   "source": [
    "mushroom_df = pd.read_csv('../input/mushroom-classification/mushrooms.csv')\n",
    "print(mushroom_df.shape)\n",
    "mushroom_df.head()"
   ]
  },
  {
   "cell_type": "markdown",
   "id": "05f0fd5a",
   "metadata": {
    "papermill": {
     "duration": 0.005116,
     "end_time": "2022-07-17T17:54:39.251724",
     "exception": false,
     "start_time": "2022-07-17T17:54:39.246608",
     "status": "completed"
    },
    "tags": []
   },
   "source": [
    "# 2-) Feaure Selection"
   ]
  },
  {
   "cell_type": "code",
   "execution_count": 3,
   "id": "362577a7",
   "metadata": {
    "execution": {
     "iopub.execute_input": "2022-07-17T17:54:39.264405Z",
     "iopub.status.busy": "2022-07-17T17:54:39.263986Z",
     "iopub.status.idle": "2022-07-17T17:54:39.290914Z",
     "shell.execute_reply": "2022-07-17T17:54:39.290126Z"
    },
    "papermill": {
     "duration": 0.036191,
     "end_time": "2022-07-17T17:54:39.293176",
     "exception": false,
     "start_time": "2022-07-17T17:54:39.256985",
     "status": "completed"
    },
    "tags": []
   },
   "outputs": [
    {
     "data": {
      "text/html": [
       "<div>\n",
       "<style scoped>\n",
       "    .dataframe tbody tr th:only-of-type {\n",
       "        vertical-align: middle;\n",
       "    }\n",
       "\n",
       "    .dataframe tbody tr th {\n",
       "        vertical-align: top;\n",
       "    }\n",
       "\n",
       "    .dataframe thead th {\n",
       "        text-align: right;\n",
       "    }\n",
       "</style>\n",
       "<table border=\"1\" class=\"dataframe\">\n",
       "  <thead>\n",
       "    <tr style=\"text-align: right;\">\n",
       "      <th></th>\n",
       "      <th>class</th>\n",
       "      <th>cap-shape</th>\n",
       "      <th>cap-surface</th>\n",
       "      <th>cap-color</th>\n",
       "      <th>odor</th>\n",
       "      <th>gill-spacing</th>\n",
       "      <th>gill-color</th>\n",
       "      <th>stalk-shape</th>\n",
       "      <th>stalk-root</th>\n",
       "      <th>stalk-surface-above-ring</th>\n",
       "      <th>stalk-surface-below-ring</th>\n",
       "      <th>stalk-color-above-ring</th>\n",
       "      <th>stalk-color-below-ring</th>\n",
       "      <th>ring-type</th>\n",
       "      <th>spore-print-color</th>\n",
       "      <th>population</th>\n",
       "      <th>habitat</th>\n",
       "    </tr>\n",
       "  </thead>\n",
       "  <tbody>\n",
       "    <tr>\n",
       "      <th>0</th>\n",
       "      <td>p</td>\n",
       "      <td>x</td>\n",
       "      <td>s</td>\n",
       "      <td>n</td>\n",
       "      <td>p</td>\n",
       "      <td>c</td>\n",
       "      <td>k</td>\n",
       "      <td>e</td>\n",
       "      <td>e</td>\n",
       "      <td>s</td>\n",
       "      <td>s</td>\n",
       "      <td>w</td>\n",
       "      <td>w</td>\n",
       "      <td>p</td>\n",
       "      <td>k</td>\n",
       "      <td>s</td>\n",
       "      <td>u</td>\n",
       "    </tr>\n",
       "    <tr>\n",
       "      <th>1</th>\n",
       "      <td>e</td>\n",
       "      <td>x</td>\n",
       "      <td>s</td>\n",
       "      <td>y</td>\n",
       "      <td>a</td>\n",
       "      <td>c</td>\n",
       "      <td>k</td>\n",
       "      <td>e</td>\n",
       "      <td>c</td>\n",
       "      <td>s</td>\n",
       "      <td>s</td>\n",
       "      <td>w</td>\n",
       "      <td>w</td>\n",
       "      <td>p</td>\n",
       "      <td>n</td>\n",
       "      <td>n</td>\n",
       "      <td>g</td>\n",
       "    </tr>\n",
       "    <tr>\n",
       "      <th>2</th>\n",
       "      <td>e</td>\n",
       "      <td>b</td>\n",
       "      <td>s</td>\n",
       "      <td>w</td>\n",
       "      <td>l</td>\n",
       "      <td>c</td>\n",
       "      <td>n</td>\n",
       "      <td>e</td>\n",
       "      <td>c</td>\n",
       "      <td>s</td>\n",
       "      <td>s</td>\n",
       "      <td>w</td>\n",
       "      <td>w</td>\n",
       "      <td>p</td>\n",
       "      <td>n</td>\n",
       "      <td>n</td>\n",
       "      <td>m</td>\n",
       "    </tr>\n",
       "    <tr>\n",
       "      <th>3</th>\n",
       "      <td>p</td>\n",
       "      <td>x</td>\n",
       "      <td>y</td>\n",
       "      <td>w</td>\n",
       "      <td>p</td>\n",
       "      <td>c</td>\n",
       "      <td>n</td>\n",
       "      <td>e</td>\n",
       "      <td>e</td>\n",
       "      <td>s</td>\n",
       "      <td>s</td>\n",
       "      <td>w</td>\n",
       "      <td>w</td>\n",
       "      <td>p</td>\n",
       "      <td>k</td>\n",
       "      <td>s</td>\n",
       "      <td>u</td>\n",
       "    </tr>\n",
       "    <tr>\n",
       "      <th>4</th>\n",
       "      <td>e</td>\n",
       "      <td>x</td>\n",
       "      <td>s</td>\n",
       "      <td>g</td>\n",
       "      <td>n</td>\n",
       "      <td>w</td>\n",
       "      <td>k</td>\n",
       "      <td>t</td>\n",
       "      <td>e</td>\n",
       "      <td>s</td>\n",
       "      <td>s</td>\n",
       "      <td>w</td>\n",
       "      <td>w</td>\n",
       "      <td>e</td>\n",
       "      <td>n</td>\n",
       "      <td>a</td>\n",
       "      <td>g</td>\n",
       "    </tr>\n",
       "  </tbody>\n",
       "</table>\n",
       "</div>"
      ],
      "text/plain": [
       "  class cap-shape cap-surface cap-color odor gill-spacing gill-color  \\\n",
       "0     p         x           s         n    p            c          k   \n",
       "1     e         x           s         y    a            c          k   \n",
       "2     e         b           s         w    l            c          n   \n",
       "3     p         x           y         w    p            c          n   \n",
       "4     e         x           s         g    n            w          k   \n",
       "\n",
       "  stalk-shape stalk-root stalk-surface-above-ring stalk-surface-below-ring  \\\n",
       "0           e          e                        s                        s   \n",
       "1           e          c                        s                        s   \n",
       "2           e          c                        s                        s   \n",
       "3           e          e                        s                        s   \n",
       "4           t          e                        s                        s   \n",
       "\n",
       "  stalk-color-above-ring stalk-color-below-ring ring-type spore-print-color  \\\n",
       "0                      w                      w         p                 k   \n",
       "1                      w                      w         p                 n   \n",
       "2                      w                      w         p                 n   \n",
       "3                      w                      w         p                 k   \n",
       "4                      w                      w         e                 n   \n",
       "\n",
       "  population habitat  \n",
       "0          s       u  \n",
       "1          n       g  \n",
       "2          n       m  \n",
       "3          s       u  \n",
       "4          a       g  "
      ]
     },
     "execution_count": 3,
     "metadata": {},
     "output_type": "execute_result"
    }
   ],
   "source": [
    "feature_remove = [\"ring-number\",'veil-color','veil-type','gill-attachment','gill-size','bruises']\n",
    "\n",
    "df = mushroom_df.drop(feature_remove,axis=1)\n",
    "df.head()"
   ]
  },
  {
   "cell_type": "markdown",
   "id": "53e11fe6",
   "metadata": {
    "papermill": {
     "duration": 0.00718,
     "end_time": "2022-07-17T17:54:39.306478",
     "exception": false,
     "start_time": "2022-07-17T17:54:39.299298",
     "status": "completed"
    },
    "tags": []
   },
   "source": [
    "# 3-) Feature Engineering"
   ]
  },
  {
   "cell_type": "code",
   "execution_count": 4,
   "id": "0be7d47e",
   "metadata": {
    "execution": {
     "iopub.execute_input": "2022-07-17T17:54:39.320355Z",
     "iopub.status.busy": "2022-07-17T17:54:39.319409Z",
     "iopub.status.idle": "2022-07-17T17:54:39.373084Z",
     "shell.execute_reply": "2022-07-17T17:54:39.371874Z"
    },
    "papermill": {
     "duration": 0.062924,
     "end_time": "2022-07-17T17:54:39.375457",
     "exception": false,
     "start_time": "2022-07-17T17:54:39.312533",
     "status": "completed"
    },
    "tags": []
   },
   "outputs": [
    {
     "data": {
      "text/html": [
       "<div>\n",
       "<style scoped>\n",
       "    .dataframe tbody tr th:only-of-type {\n",
       "        vertical-align: middle;\n",
       "    }\n",
       "\n",
       "    .dataframe tbody tr th {\n",
       "        vertical-align: top;\n",
       "    }\n",
       "\n",
       "    .dataframe thead th {\n",
       "        text-align: right;\n",
       "    }\n",
       "</style>\n",
       "<table border=\"1\" class=\"dataframe\">\n",
       "  <thead>\n",
       "    <tr style=\"text-align: right;\">\n",
       "      <th></th>\n",
       "      <th>class_p</th>\n",
       "      <th>cap-shape_c</th>\n",
       "      <th>cap-shape_f</th>\n",
       "      <th>cap-shape_k</th>\n",
       "      <th>cap-shape_s</th>\n",
       "      <th>cap-shape_x</th>\n",
       "      <th>cap-surface_g</th>\n",
       "      <th>cap-surface_s</th>\n",
       "      <th>cap-surface_y</th>\n",
       "      <th>cap-color_c</th>\n",
       "      <th>...</th>\n",
       "      <th>population_n</th>\n",
       "      <th>population_s</th>\n",
       "      <th>population_v</th>\n",
       "      <th>population_y</th>\n",
       "      <th>habitat_g</th>\n",
       "      <th>habitat_l</th>\n",
       "      <th>habitat_m</th>\n",
       "      <th>habitat_p</th>\n",
       "      <th>habitat_u</th>\n",
       "      <th>habitat_w</th>\n",
       "    </tr>\n",
       "  </thead>\n",
       "  <tbody>\n",
       "    <tr>\n",
       "      <th>0</th>\n",
       "      <td>1</td>\n",
       "      <td>0</td>\n",
       "      <td>0</td>\n",
       "      <td>0</td>\n",
       "      <td>0</td>\n",
       "      <td>1</td>\n",
       "      <td>0</td>\n",
       "      <td>1</td>\n",
       "      <td>0</td>\n",
       "      <td>0</td>\n",
       "      <td>...</td>\n",
       "      <td>0</td>\n",
       "      <td>1</td>\n",
       "      <td>0</td>\n",
       "      <td>0</td>\n",
       "      <td>0</td>\n",
       "      <td>0</td>\n",
       "      <td>0</td>\n",
       "      <td>0</td>\n",
       "      <td>1</td>\n",
       "      <td>0</td>\n",
       "    </tr>\n",
       "    <tr>\n",
       "      <th>1</th>\n",
       "      <td>0</td>\n",
       "      <td>0</td>\n",
       "      <td>0</td>\n",
       "      <td>0</td>\n",
       "      <td>0</td>\n",
       "      <td>1</td>\n",
       "      <td>0</td>\n",
       "      <td>1</td>\n",
       "      <td>0</td>\n",
       "      <td>0</td>\n",
       "      <td>...</td>\n",
       "      <td>1</td>\n",
       "      <td>0</td>\n",
       "      <td>0</td>\n",
       "      <td>0</td>\n",
       "      <td>1</td>\n",
       "      <td>0</td>\n",
       "      <td>0</td>\n",
       "      <td>0</td>\n",
       "      <td>0</td>\n",
       "      <td>0</td>\n",
       "    </tr>\n",
       "    <tr>\n",
       "      <th>2</th>\n",
       "      <td>0</td>\n",
       "      <td>0</td>\n",
       "      <td>0</td>\n",
       "      <td>0</td>\n",
       "      <td>0</td>\n",
       "      <td>0</td>\n",
       "      <td>0</td>\n",
       "      <td>1</td>\n",
       "      <td>0</td>\n",
       "      <td>0</td>\n",
       "      <td>...</td>\n",
       "      <td>1</td>\n",
       "      <td>0</td>\n",
       "      <td>0</td>\n",
       "      <td>0</td>\n",
       "      <td>0</td>\n",
       "      <td>0</td>\n",
       "      <td>1</td>\n",
       "      <td>0</td>\n",
       "      <td>0</td>\n",
       "      <td>0</td>\n",
       "    </tr>\n",
       "    <tr>\n",
       "      <th>3</th>\n",
       "      <td>1</td>\n",
       "      <td>0</td>\n",
       "      <td>0</td>\n",
       "      <td>0</td>\n",
       "      <td>0</td>\n",
       "      <td>1</td>\n",
       "      <td>0</td>\n",
       "      <td>0</td>\n",
       "      <td>1</td>\n",
       "      <td>0</td>\n",
       "      <td>...</td>\n",
       "      <td>0</td>\n",
       "      <td>1</td>\n",
       "      <td>0</td>\n",
       "      <td>0</td>\n",
       "      <td>0</td>\n",
       "      <td>0</td>\n",
       "      <td>0</td>\n",
       "      <td>0</td>\n",
       "      <td>1</td>\n",
       "      <td>0</td>\n",
       "    </tr>\n",
       "    <tr>\n",
       "      <th>4</th>\n",
       "      <td>0</td>\n",
       "      <td>0</td>\n",
       "      <td>0</td>\n",
       "      <td>0</td>\n",
       "      <td>0</td>\n",
       "      <td>1</td>\n",
       "      <td>0</td>\n",
       "      <td>1</td>\n",
       "      <td>0</td>\n",
       "      <td>0</td>\n",
       "      <td>...</td>\n",
       "      <td>0</td>\n",
       "      <td>0</td>\n",
       "      <td>0</td>\n",
       "      <td>0</td>\n",
       "      <td>1</td>\n",
       "      <td>0</td>\n",
       "      <td>0</td>\n",
       "      <td>0</td>\n",
       "      <td>0</td>\n",
       "      <td>0</td>\n",
       "    </tr>\n",
       "  </tbody>\n",
       "</table>\n",
       "<p>5 rows × 88 columns</p>\n",
       "</div>"
      ],
      "text/plain": [
       "   class_p  cap-shape_c  cap-shape_f  cap-shape_k  cap-shape_s  cap-shape_x  \\\n",
       "0        1            0            0            0            0            1   \n",
       "1        0            0            0            0            0            1   \n",
       "2        0            0            0            0            0            0   \n",
       "3        1            0            0            0            0            1   \n",
       "4        0            0            0            0            0            1   \n",
       "\n",
       "   cap-surface_g  cap-surface_s  cap-surface_y  cap-color_c  ...  \\\n",
       "0              0              1              0            0  ...   \n",
       "1              0              1              0            0  ...   \n",
       "2              0              1              0            0  ...   \n",
       "3              0              0              1            0  ...   \n",
       "4              0              1              0            0  ...   \n",
       "\n",
       "   population_n  population_s  population_v  population_y  habitat_g  \\\n",
       "0             0             1             0             0          0   \n",
       "1             1             0             0             0          1   \n",
       "2             1             0             0             0          0   \n",
       "3             0             1             0             0          0   \n",
       "4             0             0             0             0          1   \n",
       "\n",
       "   habitat_l  habitat_m  habitat_p  habitat_u  habitat_w  \n",
       "0          0          0          0          1          0  \n",
       "1          0          0          0          0          0  \n",
       "2          0          1          0          0          0  \n",
       "3          0          0          0          1          0  \n",
       "4          0          0          0          0          0  \n",
       "\n",
       "[5 rows x 88 columns]"
      ]
     },
     "execution_count": 4,
     "metadata": {},
     "output_type": "execute_result"
    }
   ],
   "source": [
    "dataframe = pd.get_dummies(df,drop_first=True)\n",
    "dataframe.head()"
   ]
  },
  {
   "cell_type": "markdown",
   "id": "9db64b55",
   "metadata": {
    "papermill": {
     "duration": 0.00601,
     "end_time": "2022-07-17T17:54:39.387629",
     "exception": false,
     "start_time": "2022-07-17T17:54:39.381619",
     "status": "completed"
    },
    "tags": []
   },
   "source": [
    "# 4-) Modelo"
   ]
  },
  {
   "cell_type": "code",
   "execution_count": 5,
   "id": "2f8b48c3",
   "metadata": {
    "execution": {
     "iopub.execute_input": "2022-07-17T17:54:39.402236Z",
     "iopub.status.busy": "2022-07-17T17:54:39.401506Z",
     "iopub.status.idle": "2022-07-17T17:54:39.411446Z",
     "shell.execute_reply": "2022-07-17T17:54:39.410010Z"
    },
    "papermill": {
     "duration": 0.020779,
     "end_time": "2022-07-17T17:54:39.414563",
     "exception": false,
     "start_time": "2022-07-17T17:54:39.393784",
     "status": "completed"
    },
    "tags": []
   },
   "outputs": [
    {
     "name": "stdout",
     "output_type": "stream",
     "text": [
      "X : (8124, 87)\n",
      "y : (8124,)\n"
     ]
    }
   ],
   "source": [
    "X = dataframe.iloc[:,1:].values\n",
    "y = dataframe.iloc[:,0].values\n",
    "\n",
    "print(f'X : {X.shape}')\n",
    "print(f'y : {y.shape}')"
   ]
  },
  {
   "cell_type": "code",
   "execution_count": 6,
   "id": "137898f3",
   "metadata": {
    "execution": {
     "iopub.execute_input": "2022-07-17T17:54:39.429043Z",
     "iopub.status.busy": "2022-07-17T17:54:39.428679Z",
     "iopub.status.idle": "2022-07-17T17:54:39.437895Z",
     "shell.execute_reply": "2022-07-17T17:54:39.436611Z"
    },
    "papermill": {
     "duration": 0.019164,
     "end_time": "2022-07-17T17:54:39.440359",
     "exception": false,
     "start_time": "2022-07-17T17:54:39.421195",
     "status": "completed"
    },
    "tags": []
   },
   "outputs": [
    {
     "name": "stdout",
     "output_type": "stream",
     "text": [
      "X_test : (2031, 87)\n",
      "y_test : (2031,)\n",
      "X_val : (2011, 87)\n",
      "y_val : (2011,)\n",
      "X_train : (4082, 87)\n",
      "y_train : (4082,)\n"
     ]
    }
   ],
   "source": [
    "X_training, X_test, y_training, y_test = train_test_split(X,y,test_size=0.25)\n",
    "\n",
    "X_train, X_val, y_train, y_val = train_test_split(X_training,y_training, test_size=0.33)\n",
    "\n",
    "print(f'X_test : {X_test.shape}')\n",
    "print(f'y_test : {y_test.shape}')\n",
    "\n",
    "print(f'X_val : {X_val.shape}')\n",
    "print(f'y_val : {y_val.shape}')\n",
    "\n",
    "print(f'X_train : {X_train.shape}')\n",
    "print(f'y_train : {y_train.shape}')"
   ]
  },
  {
   "cell_type": "code",
   "execution_count": 7,
   "id": "f0f4cea7",
   "metadata": {
    "execution": {
     "iopub.execute_input": "2022-07-17T17:54:39.454777Z",
     "iopub.status.busy": "2022-07-17T17:54:39.454370Z",
     "iopub.status.idle": "2022-07-17T17:54:39.571443Z",
     "shell.execute_reply": "2022-07-17T17:54:39.569822Z"
    },
    "papermill": {
     "duration": 0.129359,
     "end_time": "2022-07-17T17:54:39.576036",
     "exception": false,
     "start_time": "2022-07-17T17:54:39.446677",
     "status": "completed"
    },
    "tags": []
   },
   "outputs": [
    {
     "name": "stdout",
     "output_type": "stream",
     "text": [
      "Acurácia no conjunto de treino: 0.999\n",
      "Acurácia no conjunto de validação: 0.999\n"
     ]
    }
   ],
   "source": [
    "from sklearn.linear_model import LogisticRegression\n",
    "\n",
    "model1 = LogisticRegression(solver='liblinear').fit(X_train,y_train)\n",
    "\n",
    "print(\"Acurácia no conjunto de treino: {:.3f}\".format(model1.score(X_train, y_train)))\n",
    "print(\"Acurácia no conjunto de validação: {:.3f}\".format(model1.score(X_val, y_val)))"
   ]
  },
  {
   "cell_type": "code",
   "execution_count": 8,
   "id": "d9e1eb0f",
   "metadata": {
    "execution": {
     "iopub.execute_input": "2022-07-17T17:54:39.601914Z",
     "iopub.status.busy": "2022-07-17T17:54:39.601337Z",
     "iopub.status.idle": "2022-07-17T17:54:39.712681Z",
     "shell.execute_reply": "2022-07-17T17:54:39.711392Z"
    },
    "papermill": {
     "duration": 0.128377,
     "end_time": "2022-07-17T17:54:39.716233",
     "exception": false,
     "start_time": "2022-07-17T17:54:39.587856",
     "status": "completed"
    },
    "tags": []
   },
   "outputs": [
    {
     "name": "stdout",
     "output_type": "stream",
     "text": [
      "Acurácia no conjunto de treino: 1.000\n",
      "Acurácia no conjunto de validação: 1.000\n"
     ]
    }
   ],
   "source": [
    "from sklearn.tree import DecisionTreeClassifier\n",
    "\n",
    "model2 = DecisionTreeClassifier()\n",
    "\n",
    "model2.fit(X_train,y_train)\n",
    "\n",
    "print(\"Acurácia no conjunto de treino: {:.3f}\".format(model2.score(X_train, y_train)))\n",
    "print(\"Acurácia no conjunto de validação: {:.3f}\".format(model2.score(X_val, y_val)))\n"
   ]
  },
  {
   "cell_type": "code",
   "execution_count": 9,
   "id": "eeb98de6",
   "metadata": {
    "execution": {
     "iopub.execute_input": "2022-07-17T17:54:39.732586Z",
     "iopub.status.busy": "2022-07-17T17:54:39.731841Z",
     "iopub.status.idle": "2022-07-17T17:54:39.749039Z",
     "shell.execute_reply": "2022-07-17T17:54:39.747844Z"
    },
    "papermill": {
     "duration": 0.027702,
     "end_time": "2022-07-17T17:54:39.751407",
     "exception": false,
     "start_time": "2022-07-17T17:54:39.723705",
     "status": "completed"
    },
    "tags": []
   },
   "outputs": [
    {
     "name": "stdout",
     "output_type": "stream",
     "text": [
      "              precision    recall  f1-score   support\n",
      "\n",
      "           0       1.00      1.00      1.00      1048\n",
      "           1       1.00      1.00      1.00       963\n",
      "\n",
      "    accuracy                           1.00      2011\n",
      "   macro avg       1.00      1.00      1.00      2011\n",
      "weighted avg       1.00      1.00      1.00      2011\n",
      "\n",
      "AUC: 1.00\n"
     ]
    }
   ],
   "source": [
    "y_pred_model2 = model2.predict(X_val)\n",
    "\n",
    "print(classification_report(y_val,y_pred_model2))\n",
    "print(f'AUC: {roc_auc_score(y_val,y_pred_model2):.2f}')"
   ]
  },
  {
   "cell_type": "code",
   "execution_count": 10,
   "id": "1e830dc5",
   "metadata": {
    "execution": {
     "iopub.execute_input": "2022-07-17T17:54:39.766671Z",
     "iopub.status.busy": "2022-07-17T17:54:39.765826Z",
     "iopub.status.idle": "2022-07-17T17:54:40.045195Z",
     "shell.execute_reply": "2022-07-17T17:54:40.043828Z"
    },
    "papermill": {
     "duration": 0.289646,
     "end_time": "2022-07-17T17:54:40.047611",
     "exception": false,
     "start_time": "2022-07-17T17:54:39.757965",
     "status": "completed"
    },
    "tags": []
   },
   "outputs": [
    {
     "name": "stderr",
     "output_type": "stream",
     "text": [
      "/opt/conda/lib/python3.7/site-packages/ipykernel_launcher.py:7: UserWarning: FixedFormatter should only be used together with FixedLocator\n",
      "  import sys\n"
     ]
    },
    {
     "data": {
      "text/plain": [
       "[Text(0, 0, 'odor_n'),\n",
       " Text(1, 0, 'stalk-root_c'),\n",
       " Text(2, 0, 'stalk-root_r'),\n",
       " Text(3, 0, 'gill-spacing_w'),\n",
       " Text(4, 0, 'odor_c'),\n",
       " Text(5, 0, 'spore-print-color_r'),\n",
       " Text(6, 0, 'odor_m'),\n",
       " Text(7, 0, 'cap-color_y'),\n",
       " Text(8, 0, 'stalk-surface-above-ring_k'),\n",
       " Text(9, 0, 'cap-surface_g')]"
      ]
     },
     "execution_count": 10,
     "metadata": {},
     "output_type": "execute_result"
    },
    {
     "data": {
      "image/png": "[encoded data removed]",
      "text/plain": [
       "<Figure size 1152x648 with 1 Axes>"
      ]
     },
     "metadata": {
      "needs_background": "light"
     },
     "output_type": "display_data"
    }
   ],
   "source": [
    "dic = {c:importance for c,importance in zip(dataframe.iloc[:,1:].columns,model2.feature_importances_)}\n",
    "\n",
    "df_imp = pd.DataFrame({'Colunas':dic.keys(),'Importance':dic.values()}).sort_values(by='Importance',ascending=False).iloc[:10,:]\n",
    "\n",
    "fig,ax = plt.subplots(figsize=(16,9))\n",
    "ax.bar(df_imp.Colunas,df_imp.Importance)\n",
    "ax.set_xticklabels(df_imp.Colunas,rotation = 45)"
   ]
  },
  {
   "cell_type": "code",
   "execution_count": 11,
   "id": "bc640610",
   "metadata": {
    "execution": {
     "iopub.execute_input": "2022-07-17T17:54:40.064384Z",
     "iopub.status.busy": "2022-07-17T17:54:40.063918Z",
     "iopub.status.idle": "2022-07-17T17:54:40.083828Z",
     "shell.execute_reply": "2022-07-17T17:54:40.082236Z"
    },
    "papermill": {
     "duration": 0.033069,
     "end_time": "2022-07-17T17:54:40.088075",
     "exception": false,
     "start_time": "2022-07-17T17:54:40.055006",
     "status": "completed"
    },
    "tags": []
   },
   "outputs": [
    {
     "name": "stdout",
     "output_type": "stream",
     "text": [
      "              precision    recall  f1-score   support\n",
      "\n",
      "           0       1.00      1.00      1.00      1051\n",
      "           1       1.00      1.00      1.00       980\n",
      "\n",
      "    accuracy                           1.00      2031\n",
      "   macro avg       1.00      1.00      1.00      2031\n",
      "weighted avg       1.00      1.00      1.00      2031\n",
      "\n",
      "AUC: 1.00\n",
      "[[1051    0]\n",
      " [   0  980]]\n"
     ]
    }
   ],
   "source": [
    "y_test_model2 = model2.predict(X_test)\n",
    "\n",
    "print(classification_report(y_test,y_test_model2))\n",
    "print(f'AUC: {roc_auc_score(y_test,y_test_model2):.2f}')\n",
    "print(confusion_matrix(y_test,y_test_model2))"
   ]
  }
 ],
 "metadata": {
  "kernelspec": {
   "display_name": "Python 3",
   "language": "python",
   "name": "python3"
  },
  "language_info": {
   "codemirror_mode": {
    "name": "ipython",
    "version": 3
   },
   "file_extension": ".py",
   "mimetype": "text/x-python",
   "name": "python",
   "nbconvert_exporter": "python",
   "pygments_lexer": "ipython3",
   "version": "3.7.12"
  },
  "papermill": {
   "default_parameters": {},
   "duration": 13.034024,
   "end_time": "2022-07-17T17:54:40.817086",
   "environment_variables": {},
   "exception": null,
   "input_path": "__notebook__.ipynb",
   "output_path": "__notebook__.ipynb",
   "parameters": {},
   "start_time": "2022-07-17T17:54:27.783062",
   "version": "2.3.4"
  }
 },
 "nbformat": 4,
 "nbformat_minor": 5
}
