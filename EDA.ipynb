{
 "cells": [
  {
   "cell_type": "code",
   "execution_count": 1,
   "id": "e6d6305d",
   "metadata": {
    "_cell_guid": "b1076dfc-b9ad-4769-8c92-a6c4dae69d19",
    "_uuid": "8f2839f25d086af736a60e9eeb907d3b93b6e0e5",
    "execution": {
     "iopub.execute_input": "2022-07-07T13:04:01.063696Z",
     "iopub.status.busy": "2022-07-07T13:04:01.062678Z",
     "iopub.status.idle": "2022-07-07T13:04:02.355148Z",
     "shell.execute_reply": "2022-07-07T13:04:02.353437Z"
    },
    "papermill": {
     "duration": 1.31315,
     "end_time": "2022-07-07T13:04:02.358595",
     "exception": false,
     "start_time": "2022-07-07T13:04:01.045445",
     "status": "completed"
    },
    "tags": []
   },
   "outputs": [
    {
     "name": "stdout",
     "output_type": "stream",
     "text": [
      "/kaggle/input/the-movies-dataset/ratings.csv\n",
      "/kaggle/input/the-movies-dataset/links_small.csv\n",
      "/kaggle/input/the-movies-dataset/credits.csv\n",
      "/kaggle/input/the-movies-dataset/keywords.csv\n",
      "/kaggle/input/the-movies-dataset/movies_metadata.csv\n",
      "/kaggle/input/the-movies-dataset/ratings_small.csv\n",
      "/kaggle/input/the-movies-dataset/links.csv\n"
     ]
    }
   ],
   "source": [
    "# This Python 3 environment comes with many helpful analytics libraries installed\n",
    "# It is defined by the kaggle/python Docker image: https://github.com/kaggle/docker-python\n",
    "# For example, here's several helpful packages to load\n",
    "\n",
    "import numpy as np # linear algebra\n",
    "import pandas as pd # data processing, CSV file I/O (e.g. pd.read_csv)\n",
    "import matplotlib.pyplot as plt\n",
    "import seaborn as sns\n",
    "# Input data files are available in the read-only \"../input/\" directory\n",
    "# For example, running this (by clicking run or pressing Shift+Enter) will list all files under the input directory\n",
    "\n",
    "import os\n",
    "for dirname, _, filenames in os.walk('/kaggle/input'):\n",
    "    for filename in filenames:\n",
    "        print(os.path.join(dirname, filename))\n",
    "\n",
    "# You can write up to 20GB to the current directory (/kaggle/working/) that gets preserved as output when you create a version using \"Save & Run All\" \n",
    "# You can also write temporary files to /kaggle/temp/, but they won't be saved outside of the current session"
   ]
  },
  {
   "cell_type": "markdown",
   "id": "f527176f",
   "metadata": {
    "papermill": {
     "duration": 0.014628,
     "end_time": "2022-07-07T13:04:02.389225",
     "exception": false,
     "start_time": "2022-07-07T13:04:02.374597",
     "status": "completed"
    },
    "tags": []
   },
   "source": [
    "**1-) Lendo os dados**"
   ]
  },
  {
   "cell_type": "markdown",
   "id": "8b494f8d",
   "metadata": {
    "papermill": {
     "duration": 0.0139,
     "end_time": "2022-07-07T13:04:02.417589",
     "exception": false,
     "start_time": "2022-07-07T13:04:02.403689",
     "status": "completed"
    },
    "tags": []
   },
   "source": [
    "1.1) Tabela principal dos filmes"
   ]
  },
  {
   "cell_type": "code",
   "execution_count": 2,
   "id": "862b170e",
   "metadata": {
    "execution": {
     "iopub.execute_input": "2022-07-07T13:04:02.448542Z",
     "iopub.status.busy": "2022-07-07T13:04:02.448107Z",
     "iopub.status.idle": "2022-07-07T13:04:03.679142Z",
     "shell.execute_reply": "2022-07-07T13:04:03.678150Z"
    },
    "papermill": {
     "duration": 1.249312,
     "end_time": "2022-07-07T13:04:03.681488",
     "exception": false,
     "start_time": "2022-07-07T13:04:02.432176",
     "status": "completed"
    },
    "tags": []
   },
   "outputs": [
    {
     "name": "stderr",
     "output_type": "stream",
     "text": [
      "/opt/conda/lib/python3.7/site-packages/IPython/core/interactiveshell.py:3552: DtypeWarning: Columns (10) have mixed types.Specify dtype option on import or set low_memory=False.\n",
      "  exec(code_obj, self.user_global_ns, self.user_ns)\n"
     ]
    },
    {
     "data": {
      "text/html": [
       "<div>\n",
       "<style scoped>\n",
       "    .dataframe tbody tr th:only-of-type {\n",
       "        vertical-align: middle;\n",
       "    }\n",
       "\n",
       "    .dataframe tbody tr th {\n",
       "        vertical-align: top;\n",
       "    }\n",
       "\n",
       "    .dataframe thead th {\n",
       "        text-align: right;\n",
       "    }\n",
       "</style>\n",
       "<table border=\"1\" class=\"dataframe\">\n",
       "  <thead>\n",
       "    <tr style=\"text-align: right;\">\n",
       "      <th></th>\n",
       "      <th>adult</th>\n",
       "      <th>belongs_to_collection</th>\n",
       "      <th>budget</th>\n",
       "      <th>genres</th>\n",
       "      <th>homepage</th>\n",
       "      <th>id</th>\n",
       "      <th>imdb_id</th>\n",
       "      <th>original_language</th>\n",
       "      <th>original_title</th>\n",
       "      <th>overview</th>\n",
       "      <th>...</th>\n",
       "      <th>release_date</th>\n",
       "      <th>revenue</th>\n",
       "      <th>runtime</th>\n",
       "      <th>spoken_languages</th>\n",
       "      <th>status</th>\n",
       "      <th>tagline</th>\n",
       "      <th>title</th>\n",
       "      <th>video</th>\n",
       "      <th>vote_average</th>\n",
       "      <th>vote_count</th>\n",
       "    </tr>\n",
       "  </thead>\n",
       "  <tbody>\n",
       "    <tr>\n",
       "      <th>0</th>\n",
       "      <td>False</td>\n",
       "      <td>{'id': 10194, 'name': 'Toy Story Collection', ...</td>\n",
       "      <td>30000000</td>\n",
       "      <td>[{'id': 16, 'name': 'Animation'}, {'id': 35, '...</td>\n",
       "      <td>http://toystory.disney.com/toy-story</td>\n",
       "      <td>862</td>\n",
       "      <td>tt0114709</td>\n",
       "      <td>en</td>\n",
       "      <td>Toy Story</td>\n",
       "      <td>Led by Woody, Andy's toys live happily in his ...</td>\n",
       "      <td>...</td>\n",
       "      <td>1995-10-30</td>\n",
       "      <td>373554033.0</td>\n",
       "      <td>81.0</td>\n",
       "      <td>[{'iso_639_1': 'en', 'name': 'English'}]</td>\n",
       "      <td>Released</td>\n",
       "      <td>NaN</td>\n",
       "      <td>Toy Story</td>\n",
       "      <td>False</td>\n",
       "      <td>7.7</td>\n",
       "      <td>5415.0</td>\n",
       "    </tr>\n",
       "    <tr>\n",
       "      <th>1</th>\n",
       "      <td>False</td>\n",
       "      <td>NaN</td>\n",
       "      <td>65000000</td>\n",
       "      <td>[{'id': 12, 'name': 'Adventure'}, {'id': 14, '...</td>\n",
       "      <td>NaN</td>\n",
       "      <td>8844</td>\n",
       "      <td>tt0113497</td>\n",
       "      <td>en</td>\n",
       "      <td>Jumanji</td>\n",
       "      <td>When siblings Judy and Peter discover an encha...</td>\n",
       "      <td>...</td>\n",
       "      <td>1995-12-15</td>\n",
       "      <td>262797249.0</td>\n",
       "      <td>104.0</td>\n",
       "      <td>[{'iso_639_1': 'en', 'name': 'English'}, {'iso...</td>\n",
       "      <td>Released</td>\n",
       "      <td>Roll the dice and unleash the excitement!</td>\n",
       "      <td>Jumanji</td>\n",
       "      <td>False</td>\n",
       "      <td>6.9</td>\n",
       "      <td>2413.0</td>\n",
       "    </tr>\n",
       "    <tr>\n",
       "      <th>2</th>\n",
       "      <td>False</td>\n",
       "      <td>{'id': 119050, 'name': 'Grumpy Old Men Collect...</td>\n",
       "      <td>0</td>\n",
       "      <td>[{'id': 10749, 'name': 'Romance'}, {'id': 35, ...</td>\n",
       "      <td>NaN</td>\n",
       "      <td>15602</td>\n",
       "      <td>tt0113228</td>\n",
       "      <td>en</td>\n",
       "      <td>Grumpier Old Men</td>\n",
       "      <td>A family wedding reignites the ancient feud be...</td>\n",
       "      <td>...</td>\n",
       "      <td>1995-12-22</td>\n",
       "      <td>0.0</td>\n",
       "      <td>101.0</td>\n",
       "      <td>[{'iso_639_1': 'en', 'name': 'English'}]</td>\n",
       "      <td>Released</td>\n",
       "      <td>Still Yelling. Still Fighting. Still Ready for...</td>\n",
       "      <td>Grumpier Old Men</td>\n",
       "      <td>False</td>\n",
       "      <td>6.5</td>\n",
       "      <td>92.0</td>\n",
       "    </tr>\n",
       "    <tr>\n",
       "      <th>3</th>\n",
       "      <td>False</td>\n",
       "      <td>NaN</td>\n",
       "      <td>16000000</td>\n",
       "      <td>[{'id': 35, 'name': 'Comedy'}, {'id': 18, 'nam...</td>\n",
       "      <td>NaN</td>\n",
       "      <td>31357</td>\n",
       "      <td>tt0114885</td>\n",
       "      <td>en</td>\n",
       "      <td>Waiting to Exhale</td>\n",
       "      <td>Cheated on, mistreated and stepped on, the wom...</td>\n",
       "      <td>...</td>\n",
       "      <td>1995-12-22</td>\n",
       "      <td>81452156.0</td>\n",
       "      <td>127.0</td>\n",
       "      <td>[{'iso_639_1': 'en', 'name': 'English'}]</td>\n",
       "      <td>Released</td>\n",
       "      <td>Friends are the people who let you be yourself...</td>\n",
       "      <td>Waiting to Exhale</td>\n",
       "      <td>False</td>\n",
       "      <td>6.1</td>\n",
       "      <td>34.0</td>\n",
       "    </tr>\n",
       "    <tr>\n",
       "      <th>4</th>\n",
       "      <td>False</td>\n",
       "      <td>{'id': 96871, 'name': 'Father of the Bride Col...</td>\n",
       "      <td>0</td>\n",
       "      <td>[{'id': 35, 'name': 'Comedy'}]</td>\n",
       "      <td>NaN</td>\n",
       "      <td>11862</td>\n",
       "      <td>tt0113041</td>\n",
       "      <td>en</td>\n",
       "      <td>Father of the Bride Part II</td>\n",
       "      <td>Just when George Banks has recovered from his ...</td>\n",
       "      <td>...</td>\n",
       "      <td>1995-02-10</td>\n",
       "      <td>76578911.0</td>\n",
       "      <td>106.0</td>\n",
       "      <td>[{'iso_639_1': 'en', 'name': 'English'}]</td>\n",
       "      <td>Released</td>\n",
       "      <td>Just When His World Is Back To Normal... He's ...</td>\n",
       "      <td>Father of the Bride Part II</td>\n",
       "      <td>False</td>\n",
       "      <td>5.7</td>\n",
       "      <td>173.0</td>\n",
       "    </tr>\n",
       "  </tbody>\n",
       "</table>\n",
       "<p>5 rows × 24 columns</p>\n",
       "</div>"
      ],
      "text/plain": [
       "   adult                              belongs_to_collection    budget  \\\n",
       "0  False  {'id': 10194, 'name': 'Toy Story Collection', ...  30000000   \n",
       "1  False                                                NaN  65000000   \n",
       "2  False  {'id': 119050, 'name': 'Grumpy Old Men Collect...         0   \n",
       "3  False                                                NaN  16000000   \n",
       "4  False  {'id': 96871, 'name': 'Father of the Bride Col...         0   \n",
       "\n",
       "                                              genres  \\\n",
       "0  [{'id': 16, 'name': 'Animation'}, {'id': 35, '...   \n",
       "1  [{'id': 12, 'name': 'Adventure'}, {'id': 14, '...   \n",
       "2  [{'id': 10749, 'name': 'Romance'}, {'id': 35, ...   \n",
       "3  [{'id': 35, 'name': 'Comedy'}, {'id': 18, 'nam...   \n",
       "4                     [{'id': 35, 'name': 'Comedy'}]   \n",
       "\n",
       "                               homepage     id    imdb_id original_language  \\\n",
       "0  http://toystory.disney.com/toy-story    862  tt0114709                en   \n",
       "1                                   NaN   8844  tt0113497                en   \n",
       "2                                   NaN  15602  tt0113228                en   \n",
       "3                                   NaN  31357  tt0114885                en   \n",
       "4                                   NaN  11862  tt0113041                en   \n",
       "\n",
       "                original_title  \\\n",
       "0                    Toy Story   \n",
       "1                      Jumanji   \n",
       "2             Grumpier Old Men   \n",
       "3            Waiting to Exhale   \n",
       "4  Father of the Bride Part II   \n",
       "\n",
       "                                            overview  ... release_date  \\\n",
       "0  Led by Woody, Andy's toys live happily in his ...  ...   1995-10-30   \n",
       "1  When siblings Judy and Peter discover an encha...  ...   1995-12-15   \n",
       "2  A family wedding reignites the ancient feud be...  ...   1995-12-22   \n",
       "3  Cheated on, mistreated and stepped on, the wom...  ...   1995-12-22   \n",
       "4  Just when George Banks has recovered from his ...  ...   1995-02-10   \n",
       "\n",
       "       revenue runtime                                   spoken_languages  \\\n",
       "0  373554033.0    81.0           [{'iso_639_1': 'en', 'name': 'English'}]   \n",
       "1  262797249.0   104.0  [{'iso_639_1': 'en', 'name': 'English'}, {'iso...   \n",
       "2          0.0   101.0           [{'iso_639_1': 'en', 'name': 'English'}]   \n",
       "3   81452156.0   127.0           [{'iso_639_1': 'en', 'name': 'English'}]   \n",
       "4   76578911.0   106.0           [{'iso_639_1': 'en', 'name': 'English'}]   \n",
       "\n",
       "     status                                            tagline  \\\n",
       "0  Released                                                NaN   \n",
       "1  Released          Roll the dice and unleash the excitement!   \n",
       "2  Released  Still Yelling. Still Fighting. Still Ready for...   \n",
       "3  Released  Friends are the people who let you be yourself...   \n",
       "4  Released  Just When His World Is Back To Normal... He's ...   \n",
       "\n",
       "                         title  video vote_average vote_count  \n",
       "0                    Toy Story  False          7.7     5415.0  \n",
       "1                      Jumanji  False          6.9     2413.0  \n",
       "2             Grumpier Old Men  False          6.5       92.0  \n",
       "3            Waiting to Exhale  False          6.1       34.0  \n",
       "4  Father of the Bride Part II  False          5.7      173.0  \n",
       "\n",
       "[5 rows x 24 columns]"
      ]
     },
     "execution_count": 2,
     "metadata": {},
     "output_type": "execute_result"
    }
   ],
   "source": [
    "movies_df = pd.read_csv(\"../input/the-movies-dataset/movies_metadata.csv\")\n",
    "movies_df.head()"
   ]
  },
  {
   "cell_type": "code",
   "execution_count": 3,
   "id": "79d037ab",
   "metadata": {
    "execution": {
     "iopub.execute_input": "2022-07-07T13:04:03.714174Z",
     "iopub.status.busy": "2022-07-07T13:04:03.713740Z",
     "iopub.status.idle": "2022-07-07T13:04:03.838904Z",
     "shell.execute_reply": "2022-07-07T13:04:03.837498Z"
    },
    "papermill": {
     "duration": 0.14431,
     "end_time": "2022-07-07T13:04:03.841306",
     "exception": false,
     "start_time": "2022-07-07T13:04:03.696996",
     "status": "completed"
    },
    "tags": []
   },
   "outputs": [
    {
     "name": "stdout",
     "output_type": "stream",
     "text": [
      "<class 'pandas.core.frame.DataFrame'>\n",
      "RangeIndex: 45466 entries, 0 to 45465\n",
      "Data columns (total 24 columns):\n",
      " #   Column                 Non-Null Count  Dtype  \n",
      "---  ------                 --------------  -----  \n",
      " 0   adult                  45466 non-null  object \n",
      " 1   belongs_to_collection  4494 non-null   object \n",
      " 2   budget                 45466 non-null  object \n",
      " 3   genres                 45466 non-null  object \n",
      " 4   homepage               7782 non-null   object \n",
      " 5   id                     45466 non-null  object \n",
      " 6   imdb_id                45449 non-null  object \n",
      " 7   original_language      45455 non-null  object \n",
      " 8   original_title         45466 non-null  object \n",
      " 9   overview               44512 non-null  object \n",
      " 10  popularity             45461 non-null  object \n",
      " 11  poster_path            45080 non-null  object \n",
      " 12  production_companies   45463 non-null  object \n",
      " 13  production_countries   45463 non-null  object \n",
      " 14  release_date           45379 non-null  object \n",
      " 15  revenue                45460 non-null  float64\n",
      " 16  runtime                45203 non-null  float64\n",
      " 17  spoken_languages       45460 non-null  object \n",
      " 18  status                 45379 non-null  object \n",
      " 19  tagline                20412 non-null  object \n",
      " 20  title                  45460 non-null  object \n",
      " 21  video                  45460 non-null  object \n",
      " 22  vote_average           45460 non-null  float64\n",
      " 23  vote_count             45460 non-null  float64\n",
      "dtypes: float64(4), object(20)\n",
      "memory usage: 8.3+ MB\n"
     ]
    }
   ],
   "source": [
    "movies_df.info()"
   ]
  },
  {
   "cell_type": "code",
   "execution_count": 4,
   "id": "c0e45212",
   "metadata": {
    "execution": {
     "iopub.execute_input": "2022-07-07T13:04:03.873277Z",
     "iopub.status.busy": "2022-07-07T13:04:03.872808Z",
     "iopub.status.idle": "2022-07-07T13:04:04.556482Z",
     "shell.execute_reply": "2022-07-07T13:04:04.555165Z"
    },
    "papermill": {
     "duration": 0.70276,
     "end_time": "2022-07-07T13:04:04.558947",
     "exception": false,
     "start_time": "2022-07-07T13:04:03.856187",
     "status": "completed"
    },
    "tags": []
   },
   "outputs": [
    {
     "data": {
      "text/html": [
       "<div>\n",
       "<style scoped>\n",
       "    .dataframe tbody tr th:only-of-type {\n",
       "        vertical-align: middle;\n",
       "    }\n",
       "\n",
       "    .dataframe tbody tr th {\n",
       "        vertical-align: top;\n",
       "    }\n",
       "\n",
       "    .dataframe thead th {\n",
       "        text-align: right;\n",
       "    }\n",
       "</style>\n",
       "<table border=\"1\" class=\"dataframe\">\n",
       "  <thead>\n",
       "    <tr style=\"text-align: right;\">\n",
       "      <th></th>\n",
       "      <th>adult</th>\n",
       "      <th>belongs_to_collection</th>\n",
       "      <th>budget</th>\n",
       "      <th>genres</th>\n",
       "      <th>homepage</th>\n",
       "      <th>id</th>\n",
       "      <th>imdb_id</th>\n",
       "      <th>original_language</th>\n",
       "      <th>original_title</th>\n",
       "      <th>overview</th>\n",
       "      <th>...</th>\n",
       "      <th>vote_average</th>\n",
       "      <th>vote_count</th>\n",
       "      <th>revenue_float</th>\n",
       "      <th>vote_average_float</th>\n",
       "      <th>vote_count_float</th>\n",
       "      <th>popularity_float</th>\n",
       "      <th>runtime_float</th>\n",
       "      <th>budget_float</th>\n",
       "      <th>release_date_datetime</th>\n",
       "      <th>adult_bool</th>\n",
       "    </tr>\n",
       "  </thead>\n",
       "  <tbody>\n",
       "    <tr>\n",
       "      <th>0</th>\n",
       "      <td>False</td>\n",
       "      <td>{'id': 10194, 'name': 'Toy Story Collection', ...</td>\n",
       "      <td>30000000</td>\n",
       "      <td>[{'id': 16, 'name': 'Animation'}, {'id': 35, '...</td>\n",
       "      <td>http://toystory.disney.com/toy-story</td>\n",
       "      <td>862</td>\n",
       "      <td>tt0114709</td>\n",
       "      <td>en</td>\n",
       "      <td>Toy Story</td>\n",
       "      <td>Led by Woody, Andy's toys live happily in his ...</td>\n",
       "      <td>...</td>\n",
       "      <td>7.7</td>\n",
       "      <td>5415.0</td>\n",
       "      <td>373554033.0</td>\n",
       "      <td>7.7</td>\n",
       "      <td>5415.0</td>\n",
       "      <td>21.946943</td>\n",
       "      <td>81.0</td>\n",
       "      <td>30000000.0</td>\n",
       "      <td>1995-10-30</td>\n",
       "      <td>True</td>\n",
       "    </tr>\n",
       "    <tr>\n",
       "      <th>1</th>\n",
       "      <td>False</td>\n",
       "      <td>NaN</td>\n",
       "      <td>65000000</td>\n",
       "      <td>[{'id': 12, 'name': 'Adventure'}, {'id': 14, '...</td>\n",
       "      <td>NaN</td>\n",
       "      <td>8844</td>\n",
       "      <td>tt0113497</td>\n",
       "      <td>en</td>\n",
       "      <td>Jumanji</td>\n",
       "      <td>When siblings Judy and Peter discover an encha...</td>\n",
       "      <td>...</td>\n",
       "      <td>6.9</td>\n",
       "      <td>2413.0</td>\n",
       "      <td>262797249.0</td>\n",
       "      <td>6.9</td>\n",
       "      <td>2413.0</td>\n",
       "      <td>17.015539</td>\n",
       "      <td>104.0</td>\n",
       "      <td>65000000.0</td>\n",
       "      <td>1995-12-15</td>\n",
       "      <td>True</td>\n",
       "    </tr>\n",
       "    <tr>\n",
       "      <th>2</th>\n",
       "      <td>False</td>\n",
       "      <td>{'id': 119050, 'name': 'Grumpy Old Men Collect...</td>\n",
       "      <td>0</td>\n",
       "      <td>[{'id': 10749, 'name': 'Romance'}, {'id': 35, ...</td>\n",
       "      <td>NaN</td>\n",
       "      <td>15602</td>\n",
       "      <td>tt0113228</td>\n",
       "      <td>en</td>\n",
       "      <td>Grumpier Old Men</td>\n",
       "      <td>A family wedding reignites the ancient feud be...</td>\n",
       "      <td>...</td>\n",
       "      <td>6.5</td>\n",
       "      <td>92.0</td>\n",
       "      <td>0.0</td>\n",
       "      <td>6.5</td>\n",
       "      <td>92.0</td>\n",
       "      <td>11.712900</td>\n",
       "      <td>101.0</td>\n",
       "      <td>0.0</td>\n",
       "      <td>1995-12-22</td>\n",
       "      <td>True</td>\n",
       "    </tr>\n",
       "    <tr>\n",
       "      <th>3</th>\n",
       "      <td>False</td>\n",
       "      <td>NaN</td>\n",
       "      <td>16000000</td>\n",
       "      <td>[{'id': 35, 'name': 'Comedy'}, {'id': 18, 'nam...</td>\n",
       "      <td>NaN</td>\n",
       "      <td>31357</td>\n",
       "      <td>tt0114885</td>\n",
       "      <td>en</td>\n",
       "      <td>Waiting to Exhale</td>\n",
       "      <td>Cheated on, mistreated and stepped on, the wom...</td>\n",
       "      <td>...</td>\n",
       "      <td>6.1</td>\n",
       "      <td>34.0</td>\n",
       "      <td>81452156.0</td>\n",
       "      <td>6.1</td>\n",
       "      <td>34.0</td>\n",
       "      <td>3.859495</td>\n",
       "      <td>127.0</td>\n",
       "      <td>16000000.0</td>\n",
       "      <td>1995-12-22</td>\n",
       "      <td>True</td>\n",
       "    </tr>\n",
       "    <tr>\n",
       "      <th>4</th>\n",
       "      <td>False</td>\n",
       "      <td>{'id': 96871, 'name': 'Father of the Bride Col...</td>\n",
       "      <td>0</td>\n",
       "      <td>[{'id': 35, 'name': 'Comedy'}]</td>\n",
       "      <td>NaN</td>\n",
       "      <td>11862</td>\n",
       "      <td>tt0113041</td>\n",
       "      <td>en</td>\n",
       "      <td>Father of the Bride Part II</td>\n",
       "      <td>Just when George Banks has recovered from his ...</td>\n",
       "      <td>...</td>\n",
       "      <td>5.7</td>\n",
       "      <td>173.0</td>\n",
       "      <td>76578911.0</td>\n",
       "      <td>5.7</td>\n",
       "      <td>173.0</td>\n",
       "      <td>8.387519</td>\n",
       "      <td>106.0</td>\n",
       "      <td>0.0</td>\n",
       "      <td>1995-02-10</td>\n",
       "      <td>True</td>\n",
       "    </tr>\n",
       "  </tbody>\n",
       "</table>\n",
       "<p>5 rows × 32 columns</p>\n",
       "</div>"
      ],
      "text/plain": [
       "   adult                              belongs_to_collection    budget  \\\n",
       "0  False  {'id': 10194, 'name': 'Toy Story Collection', ...  30000000   \n",
       "1  False                                                NaN  65000000   \n",
       "2  False  {'id': 119050, 'name': 'Grumpy Old Men Collect...         0   \n",
       "3  False                                                NaN  16000000   \n",
       "4  False  {'id': 96871, 'name': 'Father of the Bride Col...         0   \n",
       "\n",
       "                                              genres  \\\n",
       "0  [{'id': 16, 'name': 'Animation'}, {'id': 35, '...   \n",
       "1  [{'id': 12, 'name': 'Adventure'}, {'id': 14, '...   \n",
       "2  [{'id': 10749, 'name': 'Romance'}, {'id': 35, ...   \n",
       "3  [{'id': 35, 'name': 'Comedy'}, {'id': 18, 'nam...   \n",
       "4                     [{'id': 35, 'name': 'Comedy'}]   \n",
       "\n",
       "                               homepage     id    imdb_id original_language  \\\n",
       "0  http://toystory.disney.com/toy-story    862  tt0114709                en   \n",
       "1                                   NaN   8844  tt0113497                en   \n",
       "2                                   NaN  15602  tt0113228                en   \n",
       "3                                   NaN  31357  tt0114885                en   \n",
       "4                                   NaN  11862  tt0113041                en   \n",
       "\n",
       "                original_title  \\\n",
       "0                    Toy Story   \n",
       "1                      Jumanji   \n",
       "2             Grumpier Old Men   \n",
       "3            Waiting to Exhale   \n",
       "4  Father of the Bride Part II   \n",
       "\n",
       "                                            overview  ... vote_average  \\\n",
       "0  Led by Woody, Andy's toys live happily in his ...  ...          7.7   \n",
       "1  When siblings Judy and Peter discover an encha...  ...          6.9   \n",
       "2  A family wedding reignites the ancient feud be...  ...          6.5   \n",
       "3  Cheated on, mistreated and stepped on, the wom...  ...          6.1   \n",
       "4  Just when George Banks has recovered from his ...  ...          5.7   \n",
       "\n",
       "  vote_count revenue_float vote_average_float vote_count_float  \\\n",
       "0     5415.0   373554033.0                7.7           5415.0   \n",
       "1     2413.0   262797249.0                6.9           2413.0   \n",
       "2       92.0           0.0                6.5             92.0   \n",
       "3       34.0    81452156.0                6.1             34.0   \n",
       "4      173.0    76578911.0                5.7            173.0   \n",
       "\n",
       "   popularity_float  runtime_float budget_float release_date_datetime  \\\n",
       "0         21.946943           81.0   30000000.0            1995-10-30   \n",
       "1         17.015539          104.0   65000000.0            1995-12-15   \n",
       "2         11.712900          101.0          0.0            1995-12-22   \n",
       "3          3.859495          127.0   16000000.0            1995-12-22   \n",
       "4          8.387519          106.0          0.0            1995-02-10   \n",
       "\n",
       "  adult_bool  \n",
       "0       True  \n",
       "1       True  \n",
       "2       True  \n",
       "3       True  \n",
       "4       True  \n",
       "\n",
       "[5 rows x 32 columns]"
      ]
     },
     "execution_count": 4,
     "metadata": {},
     "output_type": "execute_result"
    }
   ],
   "source": [
    "from datetime import datetime\n",
    "\n",
    "def convert_float(b):\n",
    "    try:\n",
    "        return float(b)\n",
    "    except:\n",
    "        return None\n",
    "def convert_datetime(d):\n",
    "    try:\n",
    "        return datetime.strptime(d,\"%Y-%m-%d\")\n",
    "    except:\n",
    "        return None\n",
    "movies_df['revenue_float'] = movies_df['revenue'].astype(float)\n",
    "movies_df['vote_average_float'] = movies_df['vote_average'].astype(float)\n",
    "movies_df['vote_count_float'] = movies_df['vote_count'].astype(float)\n",
    "movies_df['popularity_float'] = movies_df['popularity'].apply(lambda p: convert_float(p))\n",
    "movies_df['runtime_float'] = movies_df['runtime'].astype(float)\n",
    "movies_df['budget_float'] = movies_df['budget'].apply(lambda b: convert_float(b))\n",
    "movies_df['release_date_datetime'] = movies_df['release_date'].apply(lambda d: convert_datetime(d))\n",
    "movies_df['adult_bool'] = movies_df['adult'].astype(bool)\n",
    "movies_df.head()"
   ]
  },
  {
   "cell_type": "code",
   "execution_count": 5,
   "id": "4380c17a",
   "metadata": {
    "execution": {
     "iopub.execute_input": "2022-07-07T13:04:04.590961Z",
     "iopub.status.busy": "2022-07-07T13:04:04.590485Z",
     "iopub.status.idle": "2022-07-07T13:04:04.600514Z",
     "shell.execute_reply": "2022-07-07T13:04:04.599358Z"
    },
    "papermill": {
     "duration": 0.028399,
     "end_time": "2022-07-07T13:04:04.602600",
     "exception": false,
     "start_time": "2022-07-07T13:04:04.574201",
     "status": "completed"
    },
    "tags": []
   },
   "outputs": [
    {
     "data": {
      "text/plain": [
       "0        21.946943\n",
       "1        17.015539\n",
       "2        11.712900\n",
       "3         3.859495\n",
       "4         8.387519\n",
       "           ...    \n",
       "45461     0.072051\n",
       "45462     0.178241\n",
       "45463     0.903007\n",
       "45464     0.003503\n",
       "45465     0.163015\n",
       "Name: popularity_float, Length: 45466, dtype: float64"
      ]
     },
     "execution_count": 5,
     "metadata": {},
     "output_type": "execute_result"
    }
   ],
   "source": [
    "movies_df.popularity_float"
   ]
  },
  {
   "cell_type": "markdown",
   "id": "b35949da",
   "metadata": {
    "papermill": {
     "duration": 0.014796,
     "end_time": "2022-07-07T13:04:04.632756",
     "exception": false,
     "start_time": "2022-07-07T13:04:04.617960",
     "status": "completed"
    },
    "tags": []
   },
   "source": [
    "**2-) Construção de novas tabelas**\n"
   ]
  },
  {
   "cell_type": "markdown",
   "id": "1e1521a2",
   "metadata": {
    "papermill": {
     "duration": 0.015756,
     "end_time": "2022-07-07T13:04:04.663730",
     "exception": false,
     "start_time": "2022-07-07T13:04:04.647974",
     "status": "completed"
    },
    "tags": []
   },
   "source": [
    "2.1) Genero dos filmes"
   ]
  },
  {
   "cell_type": "code",
   "execution_count": 6,
   "id": "f2afb607",
   "metadata": {
    "execution": {
     "iopub.execute_input": "2022-07-07T13:04:04.698881Z",
     "iopub.status.busy": "2022-07-07T13:04:04.697944Z",
     "iopub.status.idle": "2022-07-07T13:04:04.704548Z",
     "shell.execute_reply": "2022-07-07T13:04:04.703425Z"
    },
    "papermill": {
     "duration": 0.027371,
     "end_time": "2022-07-07T13:04:04.707223",
     "exception": false,
     "start_time": "2022-07-07T13:04:04.679852",
     "status": "completed"
    },
    "tags": []
   },
   "outputs": [],
   "source": [
    "import json \n",
    "\n",
    "def parse_str_json(string):\n",
    "    try:\n",
    "        string = string.replace(\"'\",'\"')\n",
    "        lista = json.loads(string)\n",
    "        return lista\n",
    "    except:\n",
    "        return []\n",
    "    "
   ]
  },
  {
   "cell_type": "code",
   "execution_count": 7,
   "id": "f7959c4e",
   "metadata": {
    "execution": {
     "iopub.execute_input": "2022-07-07T13:04:04.739394Z",
     "iopub.status.busy": "2022-07-07T13:04:04.738977Z",
     "iopub.status.idle": "2022-07-07T13:06:06.932859Z",
     "shell.execute_reply": "2022-07-07T13:06:06.931588Z"
    },
    "papermill": {
     "duration": 122.229573,
     "end_time": "2022-07-07T13:06:06.951901",
     "exception": false,
     "start_time": "2022-07-07T13:04:04.722328",
     "status": "completed"
    },
    "tags": []
   },
   "outputs": [
    {
     "data": {
      "text/html": [
       "<div>\n",
       "<style scoped>\n",
       "    .dataframe tbody tr th:only-of-type {\n",
       "        vertical-align: middle;\n",
       "    }\n",
       "\n",
       "    .dataframe tbody tr th {\n",
       "        vertical-align: top;\n",
       "    }\n",
       "\n",
       "    .dataframe thead th {\n",
       "        text-align: right;\n",
       "    }\n",
       "</style>\n",
       "<table border=\"1\" class=\"dataframe\">\n",
       "  <thead>\n",
       "    <tr style=\"text-align: right;\">\n",
       "      <th></th>\n",
       "      <th>id</th>\n",
       "      <th>name</th>\n",
       "      <th>id_filme</th>\n",
       "    </tr>\n",
       "  </thead>\n",
       "  <tbody>\n",
       "    <tr>\n",
       "      <th>0</th>\n",
       "      <td>16.0</td>\n",
       "      <td>Animation</td>\n",
       "      <td>862</td>\n",
       "    </tr>\n",
       "    <tr>\n",
       "      <th>1</th>\n",
       "      <td>35.0</td>\n",
       "      <td>Comedy</td>\n",
       "      <td>862</td>\n",
       "    </tr>\n",
       "    <tr>\n",
       "      <th>2</th>\n",
       "      <td>10751.0</td>\n",
       "      <td>Family</td>\n",
       "      <td>862</td>\n",
       "    </tr>\n",
       "    <tr>\n",
       "      <th>3</th>\n",
       "      <td>12.0</td>\n",
       "      <td>Adventure</td>\n",
       "      <td>8844</td>\n",
       "    </tr>\n",
       "    <tr>\n",
       "      <th>4</th>\n",
       "      <td>14.0</td>\n",
       "      <td>Fantasy</td>\n",
       "      <td>8844</td>\n",
       "    </tr>\n",
       "  </tbody>\n",
       "</table>\n",
       "</div>"
      ],
      "text/plain": [
       "        id       name id_filme\n",
       "0     16.0  Animation      862\n",
       "1     35.0     Comedy      862\n",
       "2  10751.0     Family      862\n",
       "3     12.0  Adventure     8844\n",
       "4     14.0    Fantasy     8844"
      ]
     },
     "execution_count": 7,
     "metadata": {},
     "output_type": "execute_result"
    }
   ],
   "source": [
    "genres_df = pd.DataFrame({'id':[],'name':[],'id_filme':[],})\n",
    "\n",
    "for i in range(len(movies_df)):\n",
    "    lista = parse_str_json(movies_df.genres.iloc[i])\n",
    "    for j in range(len(lista)):\n",
    "        lista[j]['id_filme'] = movies_df.id.iloc[i]\n",
    "    genres_df = genres_df.append(lista,ignore_index=True,sort=False)\n",
    "genres_df.head()\n"
   ]
  },
  {
   "cell_type": "code",
   "execution_count": 8,
   "id": "8f1d681d",
   "metadata": {
    "execution": {
     "iopub.execute_input": "2022-07-07T13:06:06.988812Z",
     "iopub.status.busy": "2022-07-07T13:06:06.988044Z",
     "iopub.status.idle": "2022-07-07T13:06:07.327299Z",
     "shell.execute_reply": "2022-07-07T13:06:07.326195Z"
    },
    "papermill": {
     "duration": 0.359367,
     "end_time": "2022-07-07T13:06:07.330093",
     "exception": false,
     "start_time": "2022-07-07T13:06:06.970726",
     "status": "completed"
    },
    "tags": []
   },
   "outputs": [],
   "source": [
    "genres_df.to_csv(\"genres.csv\")"
   ]
  },
  {
   "cell_type": "markdown",
   "id": "07ae9fa2",
   "metadata": {
    "papermill": {
     "duration": 0.015124,
     "end_time": "2022-07-07T13:06:07.360782",
     "exception": false,
     "start_time": "2022-07-07T13:06:07.345658",
     "status": "completed"
    },
    "tags": []
   },
   "source": [
    "2.1) Companhias que fazem os filmes"
   ]
  },
  {
   "cell_type": "code",
   "execution_count": 9,
   "id": "b89d44f8",
   "metadata": {
    "execution": {
     "iopub.execute_input": "2022-07-07T13:06:07.393828Z",
     "iopub.status.busy": "2022-07-07T13:06:07.393435Z",
     "iopub.status.idle": "2022-07-07T13:06:07.399470Z",
     "shell.execute_reply": "2022-07-07T13:06:07.398741Z"
    },
    "papermill": {
     "duration": 0.024907,
     "end_time": "2022-07-07T13:06:07.401356",
     "exception": false,
     "start_time": "2022-07-07T13:06:07.376449",
     "status": "completed"
    },
    "tags": []
   },
   "outputs": [
    {
     "data": {
      "text/plain": [
       "\"[{'name': 'Pixar Animation Studios', 'id': 3}]\""
      ]
     },
     "execution_count": 9,
     "metadata": {},
     "output_type": "execute_result"
    }
   ],
   "source": [
    "movies_df.production_companies.iloc[0]"
   ]
  },
  {
   "cell_type": "code",
   "execution_count": 10,
   "id": "80a7ce4c",
   "metadata": {
    "execution": {
     "iopub.execute_input": "2022-07-07T13:06:07.436088Z",
     "iopub.status.busy": "2022-07-07T13:06:07.434584Z",
     "iopub.status.idle": "2022-07-07T13:07:44.386338Z",
     "shell.execute_reply": "2022-07-07T13:07:44.384845Z"
    },
    "papermill": {
     "duration": 96.98452,
     "end_time": "2022-07-07T13:07:44.401493",
     "exception": false,
     "start_time": "2022-07-07T13:06:07.416973",
     "status": "completed"
    },
    "tags": []
   },
   "outputs": [
    {
     "data": {
      "text/html": [
       "<div>\n",
       "<style scoped>\n",
       "    .dataframe tbody tr th:only-of-type {\n",
       "        vertical-align: middle;\n",
       "    }\n",
       "\n",
       "    .dataframe tbody tr th {\n",
       "        vertical-align: top;\n",
       "    }\n",
       "\n",
       "    .dataframe thead th {\n",
       "        text-align: right;\n",
       "    }\n",
       "</style>\n",
       "<table border=\"1\" class=\"dataframe\">\n",
       "  <thead>\n",
       "    <tr style=\"text-align: right;\">\n",
       "      <th></th>\n",
       "      <th>id</th>\n",
       "      <th>name</th>\n",
       "      <th>id_filme</th>\n",
       "    </tr>\n",
       "  </thead>\n",
       "  <tbody>\n",
       "    <tr>\n",
       "      <th>0</th>\n",
       "      <td>3.0</td>\n",
       "      <td>Pixar Animation Studios</td>\n",
       "      <td>862</td>\n",
       "    </tr>\n",
       "    <tr>\n",
       "      <th>1</th>\n",
       "      <td>559.0</td>\n",
       "      <td>TriStar Pictures</td>\n",
       "      <td>8844</td>\n",
       "    </tr>\n",
       "    <tr>\n",
       "      <th>2</th>\n",
       "      <td>2550.0</td>\n",
       "      <td>Teitler Film</td>\n",
       "      <td>8844</td>\n",
       "    </tr>\n",
       "    <tr>\n",
       "      <th>3</th>\n",
       "      <td>10201.0</td>\n",
       "      <td>Interscope Communications</td>\n",
       "      <td>8844</td>\n",
       "    </tr>\n",
       "    <tr>\n",
       "      <th>4</th>\n",
       "      <td>6194.0</td>\n",
       "      <td>Warner Bros.</td>\n",
       "      <td>15602</td>\n",
       "    </tr>\n",
       "  </tbody>\n",
       "</table>\n",
       "</div>"
      ],
      "text/plain": [
       "        id                       name id_filme\n",
       "0      3.0    Pixar Animation Studios      862\n",
       "1    559.0           TriStar Pictures     8844\n",
       "2   2550.0               Teitler Film     8844\n",
       "3  10201.0  Interscope Communications     8844\n",
       "4   6194.0               Warner Bros.    15602"
      ]
     },
     "execution_count": 10,
     "metadata": {},
     "output_type": "execute_result"
    }
   ],
   "source": [
    "companies_df = pd.DataFrame({'id':[],'name':[],'id_filme':[],})\n",
    "\n",
    "for i in range(len(movies_df)):\n",
    "    lista = parse_str_json(movies_df.production_companies.iloc[i])\n",
    "    for j in range(len(lista)):\n",
    "        lista[j]['id_filme'] = movies_df.id.iloc[i]\n",
    "    companies_df = companies_df.append(lista,ignore_index=True,sort=False)\n",
    "companies_df.head()"
   ]
  },
  {
   "cell_type": "code",
   "execution_count": 11,
   "id": "8124702b",
   "metadata": {
    "execution": {
     "iopub.execute_input": "2022-07-07T13:07:44.435491Z",
     "iopub.status.busy": "2022-07-07T13:07:44.435028Z",
     "iopub.status.idle": "2022-07-07T13:07:44.735588Z",
     "shell.execute_reply": "2022-07-07T13:07:44.734473Z"
    },
    "papermill": {
     "duration": 0.321009,
     "end_time": "2022-07-07T13:07:44.738428",
     "exception": false,
     "start_time": "2022-07-07T13:07:44.417419",
     "status": "completed"
    },
    "tags": []
   },
   "outputs": [],
   "source": [
    "companies_df.to_csv(\"companies.csv\")"
   ]
  },
  {
   "cell_type": "markdown",
   "id": "b5c0d7e3",
   "metadata": {
    "papermill": {
     "duration": 0.015908,
     "end_time": "2022-07-07T13:07:44.770361",
     "exception": false,
     "start_time": "2022-07-07T13:07:44.754453",
     "status": "completed"
    },
    "tags": []
   },
   "source": [
    "2.1) Paises que fazem os filmes"
   ]
  },
  {
   "cell_type": "code",
   "execution_count": 12,
   "id": "56fdffd3",
   "metadata": {
    "execution": {
     "iopub.execute_input": "2022-07-07T13:07:44.804806Z",
     "iopub.status.busy": "2022-07-07T13:07:44.804357Z",
     "iopub.status.idle": "2022-07-07T13:09:16.124769Z",
     "shell.execute_reply": "2022-07-07T13:09:16.123602Z"
    },
    "papermill": {
     "duration": 91.356875,
     "end_time": "2022-07-07T13:09:16.143317",
     "exception": false,
     "start_time": "2022-07-07T13:07:44.786442",
     "status": "completed"
    },
    "tags": []
   },
   "outputs": [
    {
     "data": {
      "text/html": [
       "<div>\n",
       "<style scoped>\n",
       "    .dataframe tbody tr th:only-of-type {\n",
       "        vertical-align: middle;\n",
       "    }\n",
       "\n",
       "    .dataframe tbody tr th {\n",
       "        vertical-align: top;\n",
       "    }\n",
       "\n",
       "    .dataframe thead th {\n",
       "        text-align: right;\n",
       "    }\n",
       "</style>\n",
       "<table border=\"1\" class=\"dataframe\">\n",
       "  <thead>\n",
       "    <tr style=\"text-align: right;\">\n",
       "      <th></th>\n",
       "      <th>iso_3166_1</th>\n",
       "      <th>name</th>\n",
       "      <th>id_filme</th>\n",
       "    </tr>\n",
       "  </thead>\n",
       "  <tbody>\n",
       "    <tr>\n",
       "      <th>0</th>\n",
       "      <td>US</td>\n",
       "      <td>United States of America</td>\n",
       "      <td>862</td>\n",
       "    </tr>\n",
       "    <tr>\n",
       "      <th>1</th>\n",
       "      <td>US</td>\n",
       "      <td>United States of America</td>\n",
       "      <td>8844</td>\n",
       "    </tr>\n",
       "    <tr>\n",
       "      <th>2</th>\n",
       "      <td>US</td>\n",
       "      <td>United States of America</td>\n",
       "      <td>15602</td>\n",
       "    </tr>\n",
       "    <tr>\n",
       "      <th>3</th>\n",
       "      <td>US</td>\n",
       "      <td>United States of America</td>\n",
       "      <td>31357</td>\n",
       "    </tr>\n",
       "    <tr>\n",
       "      <th>4</th>\n",
       "      <td>US</td>\n",
       "      <td>United States of America</td>\n",
       "      <td>11862</td>\n",
       "    </tr>\n",
       "  </tbody>\n",
       "</table>\n",
       "</div>"
      ],
      "text/plain": [
       "  iso_3166_1                      name id_filme\n",
       "0         US  United States of America      862\n",
       "1         US  United States of America     8844\n",
       "2         US  United States of America    15602\n",
       "3         US  United States of America    31357\n",
       "4         US  United States of America    11862"
      ]
     },
     "execution_count": 12,
     "metadata": {},
     "output_type": "execute_result"
    }
   ],
   "source": [
    "paises_df = pd.DataFrame({'iso_3166_1':[],'name':[],'id_filme':[],})\n",
    "\n",
    "for i in range(len(movies_df)):\n",
    "    lista = parse_str_json(movies_df.production_countries.iloc[i])\n",
    "    if(isinstance(lista,list)==False):\n",
    "        lista=[]\n",
    "    for j in range(len(lista)):\n",
    "        lista[j]['id_filme'] = movies_df.id.iloc[i]\n",
    "    paises_df = paises_df.append(lista,ignore_index=True,sort=False)\n",
    "paises_df.head()"
   ]
  },
  {
   "cell_type": "code",
   "execution_count": 13,
   "id": "273a8e05",
   "metadata": {
    "execution": {
     "iopub.execute_input": "2022-07-07T13:09:16.177618Z",
     "iopub.status.busy": "2022-07-07T13:09:16.176494Z",
     "iopub.status.idle": "2022-07-07T13:09:16.352896Z",
     "shell.execute_reply": "2022-07-07T13:09:16.351800Z"
    },
    "papermill": {
     "duration": 0.196394,
     "end_time": "2022-07-07T13:09:16.355451",
     "exception": false,
     "start_time": "2022-07-07T13:09:16.159057",
     "status": "completed"
    },
    "tags": []
   },
   "outputs": [],
   "source": [
    "paises_df.to_csv(\"paises.csv\")"
   ]
  },
  {
   "cell_type": "markdown",
   "id": "2381b00c",
   "metadata": {
    "papermill": {
     "duration": 0.015658,
     "end_time": "2022-07-07T13:09:16.387404",
     "exception": false,
     "start_time": "2022-07-07T13:09:16.371746",
     "status": "completed"
    },
    "tags": []
   },
   "source": [
    "**3-) Analises**"
   ]
  },
  {
   "cell_type": "markdown",
   "id": "fe6fe7be",
   "metadata": {
    "papermill": {
     "duration": 0.015473,
     "end_time": "2022-07-07T13:09:16.418725",
     "exception": false,
     "start_time": "2022-07-07T13:09:16.403252",
     "status": "completed"
    },
    "tags": []
   },
   "source": [
    "3.1-) Linguagens originais"
   ]
  },
  {
   "cell_type": "code",
   "execution_count": 14,
   "id": "4628aac3",
   "metadata": {
    "execution": {
     "iopub.execute_input": "2022-07-07T13:09:16.452774Z",
     "iopub.status.busy": "2022-07-07T13:09:16.451816Z",
     "iopub.status.idle": "2022-07-07T13:09:16.738387Z",
     "shell.execute_reply": "2022-07-07T13:09:16.737148Z"
    },
    "papermill": {
     "duration": 0.306131,
     "end_time": "2022-07-07T13:09:16.740674",
     "exception": false,
     "start_time": "2022-07-07T13:09:16.434543",
     "status": "completed"
    },
    "tags": []
   },
   "outputs": [
    {
     "name": "stdout",
     "output_type": "stream",
     "text": [
      "Quantidade total de linguagens originais: 92\n"
     ]
    },
    {
     "data": {
      "text/plain": [
       "<AxesSubplot:>"
      ]
     },
     "execution_count": 14,
     "metadata": {},
     "output_type": "execute_result"
    },
    {
     "data": {
      "image/png": "[encoded data removed]",
      "text/plain": [
       "<Figure size 1152x648 with 1 Axes>"
      ]
     },
     "metadata": {
      "needs_background": "light"
     },
     "output_type": "display_data"
    }
   ],
   "source": [
    "fig,ax = plt.subplots(figsize=(16,9))\n",
    "languages = movies_df.original_language.value_counts()\n",
    "print(f'Quantidade total de linguagens originais: {len(languages.keys())}')\n",
    "sns.barplot(x = languages.keys()[:10], y = languages.values[:10])"
   ]
  },
  {
   "cell_type": "markdown",
   "id": "0b10b51a",
   "metadata": {
    "papermill": {
     "duration": 0.016752,
     "end_time": "2022-07-07T13:09:16.774230",
     "exception": false,
     "start_time": "2022-07-07T13:09:16.757478",
     "status": "completed"
    },
    "tags": []
   },
   "source": [
    "* Como esperado, os filmes com linguagens originais em ingles dominam o dataset."
   ]
  },
  {
   "cell_type": "markdown",
   "id": "5c8c968f",
   "metadata": {
    "papermill": {
     "duration": 0.015927,
     "end_time": "2022-07-07T13:09:16.806561",
     "exception": false,
     "start_time": "2022-07-07T13:09:16.790634",
     "status": "completed"
    },
    "tags": []
   },
   "source": [
    "3.2-) Orçamento"
   ]
  },
  {
   "cell_type": "code",
   "execution_count": 15,
   "id": "e491a843",
   "metadata": {
    "execution": {
     "iopub.execute_input": "2022-07-07T13:09:16.841327Z",
     "iopub.status.busy": "2022-07-07T13:09:16.840858Z",
     "iopub.status.idle": "2022-07-07T13:09:16.850710Z",
     "shell.execute_reply": "2022-07-07T13:09:16.850056Z"
    },
    "papermill": {
     "duration": 0.029838,
     "end_time": "2022-07-07T13:09:16.852732",
     "exception": false,
     "start_time": "2022-07-07T13:09:16.822894",
     "status": "completed"
    },
    "tags": []
   },
   "outputs": [
    {
     "data": {
      "text/plain": [
       "0        30000000.0\n",
       "1        65000000.0\n",
       "3        16000000.0\n",
       "5        60000000.0\n",
       "6        58000000.0\n",
       "            ...    \n",
       "45402     2000000.0\n",
       "45408     2000000.0\n",
       "45409      800000.0\n",
       "45412     2000000.0\n",
       "45422     5000000.0\n",
       "Name: budget_float, Length: 8890, dtype: float64"
      ]
     },
     "execution_count": 15,
     "metadata": {},
     "output_type": "execute_result"
    }
   ],
   "source": [
    "budgets = movies_df.budget_float[(movies_df.budget_float>0)]\n",
    "budgets"
   ]
  },
  {
   "cell_type": "code",
   "execution_count": 16,
   "id": "12fde4ba",
   "metadata": {
    "execution": {
     "iopub.execute_input": "2022-07-07T13:09:16.889213Z",
     "iopub.status.busy": "2022-07-07T13:09:16.888635Z",
     "iopub.status.idle": "2022-07-07T13:09:17.080135Z",
     "shell.execute_reply": "2022-07-07T13:09:17.079196Z"
    },
    "papermill": {
     "duration": 0.212274,
     "end_time": "2022-07-07T13:09:17.082482",
     "exception": false,
     "start_time": "2022-07-07T13:09:16.870208",
     "status": "completed"
    },
    "tags": []
   },
   "outputs": [
    {
     "data": {
      "text/plain": [
       "<AxesSubplot:>"
      ]
     },
     "execution_count": 16,
     "metadata": {},
     "output_type": "execute_result"
    },
    {
     "data": {
      "image/png": "[encoded data removed]",
      "text/plain": [
       "<Figure size 1152x648 with 1 Axes>"
      ]
     },
     "metadata": {
      "needs_background": "light"
     },
     "output_type": "display_data"
    }
   ],
   "source": [
    "fig,ax = plt.subplots(figsize=(16,9))\n",
    "sns.boxplot(data=budgets)"
   ]
  },
  {
   "cell_type": "code",
   "execution_count": 17,
   "id": "75e5a43e",
   "metadata": {
    "execution": {
     "iopub.execute_input": "2022-07-07T13:09:17.120366Z",
     "iopub.status.busy": "2022-07-07T13:09:17.119928Z",
     "iopub.status.idle": "2022-07-07T13:09:17.712523Z",
     "shell.execute_reply": "2022-07-07T13:09:17.711273Z"
    },
    "papermill": {
     "duration": 0.614568,
     "end_time": "2022-07-07T13:09:17.714861",
     "exception": false,
     "start_time": "2022-07-07T13:09:17.100293",
     "status": "completed"
    },
    "tags": []
   },
   "outputs": [
    {
     "name": "stdout",
     "output_type": "stream",
     "text": [
      "Quantidade de filmes com orçamento abaixo de 100 dolares: 2772.0\n"
     ]
    },
    {
     "data": {
      "image/png": "[encoded data removed]",
      "text/plain": [
       "<Figure size 1152x648 with 1 Axes>"
      ]
     },
     "metadata": {
      "needs_background": "light"
     },
     "output_type": "display_data"
    }
   ],
   "source": [
    "fig,ax = plt.subplots(figsize=(16,9))\n",
    "sns.histplot(data=budgets/(10**6),kde=True)\n",
    "ax.set_xlabel(\"Valor do orçamento (MM $)\")\n",
    "ax.set_ylabel(\"Quantidade de filmes\")\n",
    "print(f'Quantidade de filmes com orçamento abaixo de 100 dolares: {budgets[budgets<100].sum()}')"
   ]
  },
  {
   "cell_type": "markdown",
   "id": "96737ff6",
   "metadata": {
    "papermill": {
     "duration": 0.017457,
     "end_time": "2022-07-07T13:09:17.750295",
     "exception": false,
     "start_time": "2022-07-07T13:09:17.732838",
     "status": "completed"
    },
    "tags": []
   },
   "source": [
    "* Grande quantidade de filmes sem orçamento, apenas 8890 apresentam, de um dataset contendo aproximadamente 45 mil\n",
    "* Grande quantidade de outliers com valores altos, explicado pela maior parte dos filmes apresentarem orçamento baixo\n",
    "    * Acredito que os outliers não possam ser retirados, mas sim analisados a grande quantidade de filmes com orçamento baixo"
   ]
  },
  {
   "cell_type": "markdown",
   "id": "e995c56d",
   "metadata": {
    "papermill": {
     "duration": 0.017271,
     "end_time": "2022-07-07T13:09:17.785363",
     "exception": false,
     "start_time": "2022-07-07T13:09:17.768092",
     "status": "completed"
    },
    "tags": []
   },
   "source": [
    "3.3-) Tempo do filme"
   ]
  },
  {
   "cell_type": "code",
   "execution_count": 18,
   "id": "217971e8",
   "metadata": {
    "execution": {
     "iopub.execute_input": "2022-07-07T13:09:17.822839Z",
     "iopub.status.busy": "2022-07-07T13:09:17.821872Z",
     "iopub.status.idle": "2022-07-07T13:09:17.839497Z",
     "shell.execute_reply": "2022-07-07T13:09:17.838517Z"
    },
    "papermill": {
     "duration": 0.038727,
     "end_time": "2022-07-07T13:09:17.841649",
     "exception": false,
     "start_time": "2022-07-07T13:09:17.802922",
     "status": "completed"
    },
    "tags": []
   },
   "outputs": [
    {
     "data": {
      "text/plain": [
       "35146       1.0\n",
       "36577       1.0\n",
       "36576       1.0\n",
       "44965       1.0\n",
       "42357       1.0\n",
       "          ...  \n",
       "13953     925.0\n",
       "13767     931.0\n",
       "40938    1140.0\n",
       "19965    1140.0\n",
       "24178    1256.0\n",
       "Name: runtime_float, Length: 43645, dtype: float64"
      ]
     },
     "execution_count": 18,
     "metadata": {},
     "output_type": "execute_result"
    }
   ],
   "source": [
    "NaN_runtime = movies_df.runtime_float.isnull()\n",
    "\n",
    "runtime_movies = movies_df.runtime_float[((movies_df.runtime_float>0) & (NaN_runtime==False)) ]\n",
    "runtime_movies.sort_values()"
   ]
  },
  {
   "cell_type": "code",
   "execution_count": 19,
   "id": "6b0cf31f",
   "metadata": {
    "execution": {
     "iopub.execute_input": "2022-07-07T13:09:17.880369Z",
     "iopub.status.busy": "2022-07-07T13:09:17.879147Z",
     "iopub.status.idle": "2022-07-07T13:09:20.435929Z",
     "shell.execute_reply": "2022-07-07T13:09:20.434946Z"
    },
    "papermill": {
     "duration": 2.579092,
     "end_time": "2022-07-07T13:09:20.438551",
     "exception": false,
     "start_time": "2022-07-07T13:09:17.859459",
     "status": "completed"
    },
    "tags": []
   },
   "outputs": [
    {
     "data": {
      "text/plain": [
       "<AxesSubplot:>"
      ]
     },
     "execution_count": 19,
     "metadata": {},
     "output_type": "execute_result"
    },
    {
     "data": {
      "image/png": "[encoded data removed]",
      "text/plain": [
       "<Figure size 1152x648 with 2 Axes>"
      ]
     },
     "metadata": {
      "needs_background": "light"
     },
     "output_type": "display_data"
    }
   ],
   "source": [
    "fig,ax = plt.subplots(1,2,figsize=(16,9))\n",
    "sns.histplot(ax=ax[1],data=runtime_movies,kde=True)\n",
    "ax[1].set_xlabel(\"Tempo do filme(min)\")\n",
    "ax[1].set_ylabel(\"Quantidade de filmes\")\n",
    "\n",
    "sns.boxplot(ax=ax[0],data=runtime_movies)\n"
   ]
  },
  {
   "cell_type": "markdown",
   "id": "068f568e",
   "metadata": {
    "papermill": {
     "duration": 0.018359,
     "end_time": "2022-07-07T13:09:20.475752",
     "exception": false,
     "start_time": "2022-07-07T13:09:20.457393",
     "status": "completed"
    },
    "tags": []
   },
   "source": [
    "* Caso contrario ao do orçamento\n",
    "    * Possivel retirada dos outliers altos\n",
    "    * Analise para retirada dos outliers baixos\n",
    "* Distribuição proxima a curva normal\n"
   ]
  },
  {
   "cell_type": "markdown",
   "id": "72c2a593",
   "metadata": {
    "papermill": {
     "duration": 0.019188,
     "end_time": "2022-07-07T13:09:20.513790",
     "exception": false,
     "start_time": "2022-07-07T13:09:20.494602",
     "status": "completed"
    },
    "tags": []
   },
   "source": [
    "3.4-) Avaliações"
   ]
  },
  {
   "cell_type": "code",
   "execution_count": 20,
   "id": "52913f8e",
   "metadata": {
    "execution": {
     "iopub.execute_input": "2022-07-07T13:09:20.553158Z",
     "iopub.status.busy": "2022-07-07T13:09:20.551851Z",
     "iopub.status.idle": "2022-07-07T13:09:20.565666Z",
     "shell.execute_reply": "2022-07-07T13:09:20.564690Z"
    },
    "papermill": {
     "duration": 0.035599,
     "end_time": "2022-07-07T13:09:20.567758",
     "exception": false,
     "start_time": "2022-07-07T13:09:20.532159",
     "status": "completed"
    },
    "tags": []
   },
   "outputs": [
    {
     "data": {
      "text/plain": [
       "0        5415.0\n",
       "1        2413.0\n",
       "2          92.0\n",
       "3          34.0\n",
       "4         173.0\n",
       "          ...  \n",
       "45459       1.0\n",
       "45460      26.0\n",
       "45461       1.0\n",
       "45462       3.0\n",
       "45463       6.0\n",
       "Name: vote_count_float, Length: 42561, dtype: float64"
      ]
     },
     "execution_count": 20,
     "metadata": {},
     "output_type": "execute_result"
    }
   ],
   "source": [
    "NaN_ava = movies_df.vote_average_float.isnull()\n",
    "\n",
    "avaliations_movies = movies_df.vote_average_float[((movies_df.vote_average_float>0) & (NaN_ava==False)) ]\n",
    "\n",
    "\n",
    "count_ava_movies = movies_df.vote_count_float[((movies_df.vote_count_float>0) & (movies_df.vote_count_float.isnull()==False)) ]\n",
    "count_ava_movies"
   ]
  },
  {
   "cell_type": "code",
   "execution_count": 21,
   "id": "38d08847",
   "metadata": {
    "execution": {
     "iopub.execute_input": "2022-07-07T13:09:20.606543Z",
     "iopub.status.busy": "2022-07-07T13:09:20.606008Z",
     "iopub.status.idle": "2022-07-07T13:09:35.373013Z",
     "shell.execute_reply": "2022-07-07T13:09:35.372010Z"
    },
    "papermill": {
     "duration": 14.788953,
     "end_time": "2022-07-07T13:09:35.375151",
     "exception": false,
     "start_time": "2022-07-07T13:09:20.586198",
     "status": "completed"
    },
    "tags": []
   },
   "outputs": [
    {
     "data": {
      "text/plain": [
       "Text(0, 0.5, 'Quantidade de filmes')"
      ]
     },
     "execution_count": 21,
     "metadata": {},
     "output_type": "execute_result"
    },
    {
     "data": {
      "image/png": "[encoded data removed]",
      "text/plain": [
       "<Figure size 1152x648 with 4 Axes>"
      ]
     },
     "metadata": {
      "needs_background": "light"
     },
     "output_type": "display_data"
    }
   ],
   "source": [
    "fig,ax = plt.subplots(2,2,figsize=(16,9))\n",
    "\n",
    "sns.boxplot(ax=ax[0,0],data=avaliations_movies)\n",
    "sns.histplot(ax=ax[0,1],data=avaliations_movies,kde=True)\n",
    "ax[0,1].set_xlabel(\"Nota\")\n",
    "ax[0,1].set_ylabel(\"Quantidade de filmes\")\n",
    "\n",
    "sns.boxplot(ax=ax[1,0],data=count_ava_movies)\n",
    "sns.histplot(ax=ax[1,1],data=count_ava_movies,kde=True)\n",
    "ax[1,1].set_xlabel(\"Quantidade de votos\")\n",
    "ax[1,1].set_ylabel(\"Quantidade de filmes\")"
   ]
  },
  {
   "cell_type": "markdown",
   "id": "52d38814",
   "metadata": {
    "papermill": {
     "duration": 0.018608,
     "end_time": "2022-07-07T13:09:35.412855",
     "exception": false,
     "start_time": "2022-07-07T13:09:35.394247",
     "status": "completed"
    },
    "tags": []
   },
   "source": [
    "1. Media de votos\n",
    "* Dados bem consistentes\n",
    "* Obedecem distribuição normal\n",
    "* Outliers podem ser retirados, mas mecere uma analise antes\n",
    "\n",
    "2. Quantidade de votos\n",
    "* Inconstancia na distribuição e outliers - Sugestão: Adicionar essa info na media da nota, como 'força' estatistica da media"
   ]
  },
  {
   "cell_type": "markdown",
   "id": "e681e300",
   "metadata": {
    "papermill": {
     "duration": 0.018534,
     "end_time": "2022-07-07T13:09:35.450355",
     "exception": false,
     "start_time": "2022-07-07T13:09:35.431821",
     "status": "completed"
    },
    "tags": []
   },
   "source": [
    "3.5-) Bilheteria"
   ]
  },
  {
   "cell_type": "code",
   "execution_count": 22,
   "id": "19170f6f",
   "metadata": {
    "execution": {
     "iopub.execute_input": "2022-07-07T13:09:35.490781Z",
     "iopub.status.busy": "2022-07-07T13:09:35.490008Z",
     "iopub.status.idle": "2022-07-07T13:09:35.501459Z",
     "shell.execute_reply": "2022-07-07T13:09:35.500510Z"
    },
    "papermill": {
     "duration": 0.034339,
     "end_time": "2022-07-07T13:09:35.503514",
     "exception": false,
     "start_time": "2022-07-07T13:09:35.469175",
     "status": "completed"
    },
    "tags": []
   },
   "outputs": [
    {
     "data": {
      "text/plain": [
       "0        373554033.0\n",
       "1        262797249.0\n",
       "3         81452156.0\n",
       "4         76578911.0\n",
       "5        187436818.0\n",
       "            ...     \n",
       "45399            3.0\n",
       "45401        50656.0\n",
       "45409      1328612.0\n",
       "45412      1268793.0\n",
       "45422      1413000.0\n",
       "Name: revenue_float, Length: 7408, dtype: float64"
      ]
     },
     "execution_count": 22,
     "metadata": {},
     "output_type": "execute_result"
    }
   ],
   "source": [
    "NaN_bilhe = movies_df.revenue_float.isnull()\n",
    "\n",
    "bilheteria_movies = movies_df.revenue_float[((movies_df.revenue_float>0) & (NaN_bilhe==False)) ]\n",
    "bilheteria_movies"
   ]
  },
  {
   "cell_type": "code",
   "execution_count": 23,
   "id": "e66a07fe",
   "metadata": {
    "execution": {
     "iopub.execute_input": "2022-07-07T13:09:35.545405Z",
     "iopub.status.busy": "2022-07-07T13:09:35.544609Z",
     "iopub.status.idle": "2022-07-07T13:09:36.610680Z",
     "shell.execute_reply": "2022-07-07T13:09:36.609241Z"
    },
    "papermill": {
     "duration": 1.09022,
     "end_time": "2022-07-07T13:09:36.613619",
     "exception": false,
     "start_time": "2022-07-07T13:09:35.523399",
     "status": "completed"
    },
    "tags": []
   },
   "outputs": [
    {
     "data": {
      "text/plain": [
       "Text(0, 0.5, 'Quantidade de filmes')"
      ]
     },
     "execution_count": 23,
     "metadata": {},
     "output_type": "execute_result"
    },
    {
     "data": {
      "image/png": "[encoded data removed]",
      "text/plain": [
       "<Figure size 1152x648 with 2 Axes>"
      ]
     },
     "metadata": {
      "needs_background": "light"
     },
     "output_type": "display_data"
    }
   ],
   "source": [
    "fig,ax = plt.subplots(1,2,figsize=(16,9))\n",
    "\n",
    "sns.boxplot(ax=ax[0],data=bilheteria_movies)\n",
    "sns.histplot(ax=ax[1],data=bilheteria_movies,kde=True)\n",
    "ax[1].set_xlabel(\"Bilheteria\")\n",
    "ax[1].set_ylabel(\"Quantidade de filmes\")"
   ]
  },
  {
   "cell_type": "markdown",
   "id": "43a93ec1",
   "metadata": {
    "papermill": {
     "duration": 0.020258,
     "end_time": "2022-07-07T13:09:36.655191",
     "exception": false,
     "start_time": "2022-07-07T13:09:36.634933",
     "status": "completed"
    },
    "tags": []
   },
   "source": [
    "* Analise semelhante ao budget"
   ]
  },
  {
   "cell_type": "markdown",
   "id": "37456328",
   "metadata": {
    "papermill": {
     "duration": 0.019895,
     "end_time": "2022-07-07T13:09:36.695415",
     "exception": false,
     "start_time": "2022-07-07T13:09:36.675520",
     "status": "completed"
    },
    "tags": []
   },
   "source": [
    "3.6-) Correlação linear entre as variaveis "
   ]
  },
  {
   "cell_type": "code",
   "execution_count": 24,
   "id": "218262e9",
   "metadata": {
    "execution": {
     "iopub.execute_input": "2022-07-07T13:09:36.738172Z",
     "iopub.status.busy": "2022-07-07T13:09:36.737695Z",
     "iopub.status.idle": "2022-07-07T13:10:12.758985Z",
     "shell.execute_reply": "2022-07-07T13:10:12.758050Z"
    },
    "papermill": {
     "duration": 36.076883,
     "end_time": "2022-07-07T13:10:12.792713",
     "exception": false,
     "start_time": "2022-07-07T13:09:36.715830",
     "status": "completed"
    },
    "tags": []
   },
   "outputs": [
    {
     "data": {
      "text/plain": [
       "<seaborn.axisgrid.PairGrid at 0x7fd7b05a2350>"
      ]
     },
     "execution_count": 24,
     "metadata": {},
     "output_type": "execute_result"
    },
    {
     "data": {
      "image/png": "[encoded data removed]",
      "text/plain": [
       "<Figure size 1080x1080 with 42 Axes>"
      ]
     },
     "metadata": {
      "needs_background": "light"
     },
     "output_type": "display_data"
    }
   ],
   "source": [
    "columns = ['revenue_float','vote_average_float','vote_count_float','popularity_float','runtime_float','budget_float']\n",
    "sns.pairplot(data = movies_df[columns])"
   ]
  },
  {
   "cell_type": "markdown",
   "id": "e843c3b6",
   "metadata": {
    "papermill": {
     "duration": 0.025534,
     "end_time": "2022-07-07T13:10:12.843576",
     "exception": false,
     "start_time": "2022-07-07T13:10:12.818042",
     "status": "completed"
    },
    "tags": []
   },
   "source": [
    "* As 6 variaveis analisadas não apresentam correlação linear entre elas"
   ]
  },
  {
   "cell_type": "markdown",
   "id": "cb469352",
   "metadata": {
    "papermill": {
     "duration": 0.025328,
     "end_time": "2022-07-07T13:10:12.895523",
     "exception": false,
     "start_time": "2022-07-07T13:10:12.870195",
     "status": "completed"
    },
    "tags": []
   },
   "source": [
    "3.7-) Generos"
   ]
  },
  {
   "cell_type": "code",
   "execution_count": 25,
   "id": "39ae2252",
   "metadata": {
    "execution": {
     "iopub.execute_input": "2022-07-07T13:10:12.949190Z",
     "iopub.status.busy": "2022-07-07T13:10:12.947540Z",
     "iopub.status.idle": "2022-07-07T13:10:13.069494Z",
     "shell.execute_reply": "2022-07-07T13:10:13.068266Z"
    },
    "papermill": {
     "duration": 0.151621,
     "end_time": "2022-07-07T13:10:13.072277",
     "exception": false,
     "start_time": "2022-07-07T13:10:12.920656",
     "status": "completed"
    },
    "tags": []
   },
   "outputs": [
    {
     "data": {
      "text/html": [
       "<div>\n",
       "<style scoped>\n",
       "    .dataframe tbody tr th:only-of-type {\n",
       "        vertical-align: middle;\n",
       "    }\n",
       "\n",
       "    .dataframe tbody tr th {\n",
       "        vertical-align: top;\n",
       "    }\n",
       "\n",
       "    .dataframe thead th {\n",
       "        text-align: right;\n",
       "    }\n",
       "</style>\n",
       "<table border=\"1\" class=\"dataframe\">\n",
       "  <thead>\n",
       "    <tr style=\"text-align: right;\">\n",
       "      <th></th>\n",
       "      <th>id</th>\n",
       "      <th>name</th>\n",
       "      <th>id_filme</th>\n",
       "    </tr>\n",
       "  </thead>\n",
       "  <tbody>\n",
       "    <tr>\n",
       "      <th>0</th>\n",
       "      <td>16.0</td>\n",
       "      <td>Animation</td>\n",
       "      <td>862</td>\n",
       "    </tr>\n",
       "    <tr>\n",
       "      <th>1</th>\n",
       "      <td>35.0</td>\n",
       "      <td>Comedy</td>\n",
       "      <td>862</td>\n",
       "    </tr>\n",
       "    <tr>\n",
       "      <th>2</th>\n",
       "      <td>10751.0</td>\n",
       "      <td>Family</td>\n",
       "      <td>862</td>\n",
       "    </tr>\n",
       "    <tr>\n",
       "      <th>3</th>\n",
       "      <td>12.0</td>\n",
       "      <td>Adventure</td>\n",
       "      <td>8844</td>\n",
       "    </tr>\n",
       "    <tr>\n",
       "      <th>4</th>\n",
       "      <td>14.0</td>\n",
       "      <td>Fantasy</td>\n",
       "      <td>8844</td>\n",
       "    </tr>\n",
       "  </tbody>\n",
       "</table>\n",
       "</div>"
      ],
      "text/plain": [
       "        id       name id_filme\n",
       "0     16.0  Animation      862\n",
       "1     35.0     Comedy      862\n",
       "2  10751.0     Family      862\n",
       "3     12.0  Adventure     8844\n",
       "4     14.0    Fantasy     8844"
      ]
     },
     "execution_count": 25,
     "metadata": {},
     "output_type": "execute_result"
    }
   ],
   "source": [
    "genres_df = pd.read_csv('./genres.csv').iloc[:,1:]\n",
    "genres_df['id_filme'] = genres_df['id_filme'].astype(object)\n",
    "genres_df.head() "
   ]
  },
  {
   "cell_type": "code",
   "execution_count": 26,
   "id": "9dee84ed",
   "metadata": {
    "execution": {
     "iopub.execute_input": "2022-07-07T13:10:13.126609Z",
     "iopub.status.busy": "2022-07-07T13:10:13.126195Z",
     "iopub.status.idle": "2022-07-07T13:10:13.158003Z",
     "shell.execute_reply": "2022-07-07T13:10:13.157140Z"
    },
    "papermill": {
     "duration": 0.061742,
     "end_time": "2022-07-07T13:10:13.160222",
     "exception": false,
     "start_time": "2022-07-07T13:10:13.098480",
     "status": "completed"
    },
    "tags": []
   },
   "outputs": [
    {
     "name": "stdout",
     "output_type": "stream",
     "text": [
      "<class 'pandas.core.frame.DataFrame'>\n",
      "RangeIndex: 91106 entries, 0 to 91105\n",
      "Data columns (total 3 columns):\n",
      " #   Column    Non-Null Count  Dtype  \n",
      "---  ------    --------------  -----  \n",
      " 0   id        91106 non-null  float64\n",
      " 1   name      91106 non-null  object \n",
      " 2   id_filme  91106 non-null  object \n",
      "dtypes: float64(1), object(2)\n",
      "memory usage: 2.1+ MB\n"
     ]
    }
   ],
   "source": [
    "genres_df.info() "
   ]
  },
  {
   "cell_type": "code",
   "execution_count": 27,
   "id": "25939a67",
   "metadata": {
    "execution": {
     "iopub.execute_input": "2022-07-07T13:10:13.211440Z",
     "iopub.status.busy": "2022-07-07T13:10:13.211007Z",
     "iopub.status.idle": "2022-07-07T13:10:13.398247Z",
     "shell.execute_reply": "2022-07-07T13:10:13.397139Z"
    },
    "papermill": {
     "duration": 0.215083,
     "end_time": "2022-07-07T13:10:13.400365",
     "exception": false,
     "start_time": "2022-07-07T13:10:13.185282",
     "status": "completed"
    },
    "tags": []
   },
   "outputs": [
    {
     "data": {
      "text/html": [
       "<div>\n",
       "<style scoped>\n",
       "    .dataframe tbody tr th:only-of-type {\n",
       "        vertical-align: middle;\n",
       "    }\n",
       "\n",
       "    .dataframe tbody tr th {\n",
       "        vertical-align: top;\n",
       "    }\n",
       "\n",
       "    .dataframe thead th {\n",
       "        text-align: right;\n",
       "    }\n",
       "</style>\n",
       "<table border=\"1\" class=\"dataframe\">\n",
       "  <thead>\n",
       "    <tr style=\"text-align: right;\">\n",
       "      <th></th>\n",
       "      <th>id_x</th>\n",
       "      <th>name</th>\n",
       "      <th>id_filme</th>\n",
       "      <th>adult</th>\n",
       "      <th>belongs_to_collection</th>\n",
       "      <th>budget</th>\n",
       "      <th>genres</th>\n",
       "      <th>homepage</th>\n",
       "      <th>id_y</th>\n",
       "      <th>imdb_id</th>\n",
       "      <th>...</th>\n",
       "      <th>vote_average</th>\n",
       "      <th>vote_count</th>\n",
       "      <th>revenue_float</th>\n",
       "      <th>vote_average_float</th>\n",
       "      <th>vote_count_float</th>\n",
       "      <th>popularity_float</th>\n",
       "      <th>runtime_float</th>\n",
       "      <th>budget_float</th>\n",
       "      <th>release_date_datetime</th>\n",
       "      <th>adult_bool</th>\n",
       "    </tr>\n",
       "  </thead>\n",
       "  <tbody>\n",
       "    <tr>\n",
       "      <th>0</th>\n",
       "      <td>16.0</td>\n",
       "      <td>Animation</td>\n",
       "      <td>862</td>\n",
       "      <td>False</td>\n",
       "      <td>{'id': 10194, 'name': 'Toy Story Collection', ...</td>\n",
       "      <td>30000000</td>\n",
       "      <td>[{'id': 16, 'name': 'Animation'}, {'id': 35, '...</td>\n",
       "      <td>http://toystory.disney.com/toy-story</td>\n",
       "      <td>862</td>\n",
       "      <td>tt0114709</td>\n",
       "      <td>...</td>\n",
       "      <td>7.7</td>\n",
       "      <td>5415.0</td>\n",
       "      <td>373554033.0</td>\n",
       "      <td>7.7</td>\n",
       "      <td>5415.0</td>\n",
       "      <td>21.946943</td>\n",
       "      <td>81.0</td>\n",
       "      <td>30000000.0</td>\n",
       "      <td>1995-10-30</td>\n",
       "      <td>True</td>\n",
       "    </tr>\n",
       "    <tr>\n",
       "      <th>1</th>\n",
       "      <td>35.0</td>\n",
       "      <td>Comedy</td>\n",
       "      <td>862</td>\n",
       "      <td>False</td>\n",
       "      <td>{'id': 10194, 'name': 'Toy Story Collection', ...</td>\n",
       "      <td>30000000</td>\n",
       "      <td>[{'id': 16, 'name': 'Animation'}, {'id': 35, '...</td>\n",
       "      <td>http://toystory.disney.com/toy-story</td>\n",
       "      <td>862</td>\n",
       "      <td>tt0114709</td>\n",
       "      <td>...</td>\n",
       "      <td>7.7</td>\n",
       "      <td>5415.0</td>\n",
       "      <td>373554033.0</td>\n",
       "      <td>7.7</td>\n",
       "      <td>5415.0</td>\n",
       "      <td>21.946943</td>\n",
       "      <td>81.0</td>\n",
       "      <td>30000000.0</td>\n",
       "      <td>1995-10-30</td>\n",
       "      <td>True</td>\n",
       "    </tr>\n",
       "    <tr>\n",
       "      <th>2</th>\n",
       "      <td>10751.0</td>\n",
       "      <td>Family</td>\n",
       "      <td>862</td>\n",
       "      <td>False</td>\n",
       "      <td>{'id': 10194, 'name': 'Toy Story Collection', ...</td>\n",
       "      <td>30000000</td>\n",
       "      <td>[{'id': 16, 'name': 'Animation'}, {'id': 35, '...</td>\n",
       "      <td>http://toystory.disney.com/toy-story</td>\n",
       "      <td>862</td>\n",
       "      <td>tt0114709</td>\n",
       "      <td>...</td>\n",
       "      <td>7.7</td>\n",
       "      <td>5415.0</td>\n",
       "      <td>373554033.0</td>\n",
       "      <td>7.7</td>\n",
       "      <td>5415.0</td>\n",
       "      <td>21.946943</td>\n",
       "      <td>81.0</td>\n",
       "      <td>30000000.0</td>\n",
       "      <td>1995-10-30</td>\n",
       "      <td>True</td>\n",
       "    </tr>\n",
       "    <tr>\n",
       "      <th>3</th>\n",
       "      <td>12.0</td>\n",
       "      <td>Adventure</td>\n",
       "      <td>8844</td>\n",
       "      <td>False</td>\n",
       "      <td>NaN</td>\n",
       "      <td>65000000</td>\n",
       "      <td>[{'id': 12, 'name': 'Adventure'}, {'id': 14, '...</td>\n",
       "      <td>NaN</td>\n",
       "      <td>8844</td>\n",
       "      <td>tt0113497</td>\n",
       "      <td>...</td>\n",
       "      <td>6.9</td>\n",
       "      <td>2413.0</td>\n",
       "      <td>262797249.0</td>\n",
       "      <td>6.9</td>\n",
       "      <td>2413.0</td>\n",
       "      <td>17.015539</td>\n",
       "      <td>104.0</td>\n",
       "      <td>65000000.0</td>\n",
       "      <td>1995-12-15</td>\n",
       "      <td>True</td>\n",
       "    </tr>\n",
       "    <tr>\n",
       "      <th>4</th>\n",
       "      <td>14.0</td>\n",
       "      <td>Fantasy</td>\n",
       "      <td>8844</td>\n",
       "      <td>False</td>\n",
       "      <td>NaN</td>\n",
       "      <td>65000000</td>\n",
       "      <td>[{'id': 12, 'name': 'Adventure'}, {'id': 14, '...</td>\n",
       "      <td>NaN</td>\n",
       "      <td>8844</td>\n",
       "      <td>tt0113497</td>\n",
       "      <td>...</td>\n",
       "      <td>6.9</td>\n",
       "      <td>2413.0</td>\n",
       "      <td>262797249.0</td>\n",
       "      <td>6.9</td>\n",
       "      <td>2413.0</td>\n",
       "      <td>17.015539</td>\n",
       "      <td>104.0</td>\n",
       "      <td>65000000.0</td>\n",
       "      <td>1995-12-15</td>\n",
       "      <td>True</td>\n",
       "    </tr>\n",
       "  </tbody>\n",
       "</table>\n",
       "<p>5 rows × 35 columns</p>\n",
       "</div>"
      ],
      "text/plain": [
       "      id_x       name id_filme  adult  \\\n",
       "0     16.0  Animation      862  False   \n",
       "1     35.0     Comedy      862  False   \n",
       "2  10751.0     Family      862  False   \n",
       "3     12.0  Adventure     8844  False   \n",
       "4     14.0    Fantasy     8844  False   \n",
       "\n",
       "                               belongs_to_collection    budget  \\\n",
       "0  {'id': 10194, 'name': 'Toy Story Collection', ...  30000000   \n",
       "1  {'id': 10194, 'name': 'Toy Story Collection', ...  30000000   \n",
       "2  {'id': 10194, 'name': 'Toy Story Collection', ...  30000000   \n",
       "3                                                NaN  65000000   \n",
       "4                                                NaN  65000000   \n",
       "\n",
       "                                              genres  \\\n",
       "0  [{'id': 16, 'name': 'Animation'}, {'id': 35, '...   \n",
       "1  [{'id': 16, 'name': 'Animation'}, {'id': 35, '...   \n",
       "2  [{'id': 16, 'name': 'Animation'}, {'id': 35, '...   \n",
       "3  [{'id': 12, 'name': 'Adventure'}, {'id': 14, '...   \n",
       "4  [{'id': 12, 'name': 'Adventure'}, {'id': 14, '...   \n",
       "\n",
       "                               homepage  id_y    imdb_id  ... vote_average  \\\n",
       "0  http://toystory.disney.com/toy-story   862  tt0114709  ...          7.7   \n",
       "1  http://toystory.disney.com/toy-story   862  tt0114709  ...          7.7   \n",
       "2  http://toystory.disney.com/toy-story   862  tt0114709  ...          7.7   \n",
       "3                                   NaN  8844  tt0113497  ...          6.9   \n",
       "4                                   NaN  8844  tt0113497  ...          6.9   \n",
       "\n",
       "  vote_count revenue_float vote_average_float vote_count_float  \\\n",
       "0     5415.0   373554033.0                7.7           5415.0   \n",
       "1     5415.0   373554033.0                7.7           5415.0   \n",
       "2     5415.0   373554033.0                7.7           5415.0   \n",
       "3     2413.0   262797249.0                6.9           2413.0   \n",
       "4     2413.0   262797249.0                6.9           2413.0   \n",
       "\n",
       "  popularity_float runtime_float budget_float  release_date_datetime  \\\n",
       "0        21.946943          81.0   30000000.0             1995-10-30   \n",
       "1        21.946943          81.0   30000000.0             1995-10-30   \n",
       "2        21.946943          81.0   30000000.0             1995-10-30   \n",
       "3        17.015539         104.0   65000000.0             1995-12-15   \n",
       "4        17.015539         104.0   65000000.0             1995-12-15   \n",
       "\n",
       "   adult_bool  \n",
       "0        True  \n",
       "1        True  \n",
       "2        True  \n",
       "3        True  \n",
       "4        True  \n",
       "\n",
       "[5 rows x 35 columns]"
      ]
     },
     "execution_count": 27,
     "metadata": {},
     "output_type": "execute_result"
    }
   ],
   "source": [
    "genres_movies_df = genres_df.merge(right=movies_df,how='left',left_on='id_filme',right_on='id')\n",
    "genres_movies_df.head()"
   ]
  },
  {
   "cell_type": "code",
   "execution_count": 28,
   "id": "e3138c52",
   "metadata": {
    "execution": {
     "iopub.execute_input": "2022-07-07T13:10:13.451980Z",
     "iopub.status.busy": "2022-07-07T13:10:13.451625Z",
     "iopub.status.idle": "2022-07-07T13:10:13.485297Z",
     "shell.execute_reply": "2022-07-07T13:10:13.484157Z"
    },
    "papermill": {
     "duration": 0.062148,
     "end_time": "2022-07-07T13:10:13.487545",
     "exception": false,
     "start_time": "2022-07-07T13:10:13.425397",
     "status": "completed"
    },
    "tags": []
   },
   "outputs": [
    {
     "data": {
      "text/plain": [
       "name\n",
       "Adventure                                5.712677e+07\n",
       "Fantasy                                  4.490633e+07\n",
       "Family                                   3.872682e+07\n",
       "Animation                                3.487328e+07\n",
       "Science Fiction                          3.207386e+07\n",
       "Action                                   3.053518e+07\n",
       "Thriller                                 1.702230e+07\n",
       "Crime                                    1.471963e+07\n",
       "Mystery                                  1.404227e+07\n",
       "Comedy                                   1.265469e+07\n",
       "War                                      1.200789e+07\n",
       "Romance                                  1.090774e+07\n",
       "History                                  1.065966e+07\n",
       "Music                                    8.356433e+06\n",
       "Drama                                    7.925001e+06\n",
       "Horror                                   6.594759e+06\n",
       "Western                                  4.916026e+06\n",
       "Documentary                              3.682745e+05\n",
       "Foreign                                  1.791359e+05\n",
       "TV Movie                                 5.468750e+04\n",
       "Aniplex                                           NaN\n",
       "BROSTA TV                                         NaN\n",
       "Carousel Productions                              NaN\n",
       "GoHands                                           NaN\n",
       "Mardock Scramble Production Committee             NaN\n",
       "Odyssey Media                                     NaN\n",
       "Pulser Productions                                NaN\n",
       "Rogue State                                       NaN\n",
       "Sentai Filmworks                                  NaN\n",
       "Telescene Film Group Productions                  NaN\n",
       "The Cartel                                        NaN\n",
       "Vision View Entertainment                         NaN\n",
       "Name: revenue_float, dtype: float64"
      ]
     },
     "execution_count": 28,
     "metadata": {},
     "output_type": "execute_result"
    }
   ],
   "source": [
    "avaliacao_genero = genres_movies_df.groupby('name').vote_average_float.mean().sort_values(ascending=False)\n",
    "bilheteria_genero = genres_movies_df.groupby('name').revenue_float.mean().sort_values(ascending=False)\n",
    "bilheteria_genero"
   ]
  },
  {
   "cell_type": "code",
   "execution_count": 29,
   "id": "048c5699",
   "metadata": {
    "execution": {
     "iopub.execute_input": "2022-07-07T13:10:13.540049Z",
     "iopub.status.busy": "2022-07-07T13:10:13.539322Z",
     "iopub.status.idle": "2022-07-07T13:10:14.151162Z",
     "shell.execute_reply": "2022-07-07T13:10:14.150128Z"
    },
    "papermill": {
     "duration": 0.641057,
     "end_time": "2022-07-07T13:10:14.153669",
     "exception": false,
     "start_time": "2022-07-07T13:10:13.512612",
     "status": "completed"
    },
    "tags": []
   },
   "outputs": [
    {
     "data": {
      "text/plain": [
       "Text(0, 0.5, 'Bilheteria Média')"
      ]
     },
     "execution_count": 29,
     "metadata": {},
     "output_type": "execute_result"
    },
    {
     "data": {
      "image/png": "[encoded data removed]",
      "text/plain": [
       "<Figure size 1512x1152 with 4 Axes>"
      ]
     },
     "metadata": {
      "needs_background": "light"
     },
     "output_type": "display_data"
    }
   ],
   "source": [
    "fig,ax = plt.subplots(2,2,figsize=(21,16))\n",
    "\n",
    "sns.barplot(ax=ax[0,0],x = avaliacao_genero.keys()[:10], y = avaliacao_genero.values[:10])\n",
    "sns.boxplot(ax=ax[1,0],data = avaliacao_genero)\n",
    "\n",
    "ax[0,0].set_ylabel('Avaliação Média',fontsize=16)\n",
    "ax[0,0].set_xlabel('Genero do filme',fontsize=16)\n",
    "ax[1,0].set_ylabel('Avaliação Média',fontsize=16)\n",
    "\n",
    "sns.barplot(ax=ax[0,1],x = bilheteria_genero.keys()[:10], y = bilheteria_genero.values[:10])\n",
    "sns.boxplot(ax=ax[1,1],data =bilheteria_genero)\n",
    "\n",
    "ax[0,1].set_ylabel('Bilheteria Média',fontsize=16)\n",
    "ax[0,1].set_xlabel('Genero do filme',fontsize=16)\n",
    "ax[1,1].set_ylabel('Bilheteria Média',fontsize=16)\n",
    "\n",
    "\n",
    "\n"
   ]
  },
  {
   "cell_type": "markdown",
   "id": "1c416d35",
   "metadata": {
    "papermill": {
     "duration": 0.027162,
     "end_time": "2022-07-07T13:10:14.209206",
     "exception": false,
     "start_time": "2022-07-07T13:10:14.182044",
     "status": "completed"
    },
    "tags": []
   },
   "source": [
    "* Alta mudança na bilheteria dos filmes após o genero de Ação\n",
    "* Boxplot da bilheteria mostra que os demais generos apresentam valores ainda menores\n",
    "* Pequena variação na avaliação na avaliação dos filmes extratificada por genero, verificada pelo boxplot\n",
    "    * As 10 maiores avaliações medias não são tão maiores que as demais"
   ]
  },
  {
   "cell_type": "markdown",
   "id": "45751ae9",
   "metadata": {
    "papermill": {
     "duration": 0.027726,
     "end_time": "2022-07-07T13:10:14.265308",
     "exception": false,
     "start_time": "2022-07-07T13:10:14.237582",
     "status": "completed"
    },
    "tags": []
   },
   "source": [
    "3.8-) Produtoras dos filmes"
   ]
  },
  {
   "cell_type": "code",
   "execution_count": 30,
   "id": "787cba60",
   "metadata": {
    "execution": {
     "iopub.execute_input": "2022-07-07T13:10:14.322983Z",
     "iopub.status.busy": "2022-07-07T13:10:14.322088Z",
     "iopub.status.idle": "2022-07-07T13:10:14.480550Z",
     "shell.execute_reply": "2022-07-07T13:10:14.479656Z"
    },
    "papermill": {
     "duration": 0.189676,
     "end_time": "2022-07-07T13:10:14.482563",
     "exception": false,
     "start_time": "2022-07-07T13:10:14.292887",
     "status": "completed"
    },
    "tags": []
   },
   "outputs": [
    {
     "data": {
      "text/html": [
       "<div>\n",
       "<style scoped>\n",
       "    .dataframe tbody tr th:only-of-type {\n",
       "        vertical-align: middle;\n",
       "    }\n",
       "\n",
       "    .dataframe tbody tr th {\n",
       "        vertical-align: top;\n",
       "    }\n",
       "\n",
       "    .dataframe thead th {\n",
       "        text-align: right;\n",
       "    }\n",
       "</style>\n",
       "<table border=\"1\" class=\"dataframe\">\n",
       "  <thead>\n",
       "    <tr style=\"text-align: right;\">\n",
       "      <th></th>\n",
       "      <th>id</th>\n",
       "      <th>name</th>\n",
       "      <th>id_filme</th>\n",
       "    </tr>\n",
       "  </thead>\n",
       "  <tbody>\n",
       "    <tr>\n",
       "      <th>0</th>\n",
       "      <td>3.0</td>\n",
       "      <td>Pixar Animation Studios</td>\n",
       "      <td>862</td>\n",
       "    </tr>\n",
       "    <tr>\n",
       "      <th>1</th>\n",
       "      <td>559.0</td>\n",
       "      <td>TriStar Pictures</td>\n",
       "      <td>8844</td>\n",
       "    </tr>\n",
       "    <tr>\n",
       "      <th>2</th>\n",
       "      <td>2550.0</td>\n",
       "      <td>Teitler Film</td>\n",
       "      <td>8844</td>\n",
       "    </tr>\n",
       "    <tr>\n",
       "      <th>3</th>\n",
       "      <td>10201.0</td>\n",
       "      <td>Interscope Communications</td>\n",
       "      <td>8844</td>\n",
       "    </tr>\n",
       "    <tr>\n",
       "      <th>4</th>\n",
       "      <td>6194.0</td>\n",
       "      <td>Warner Bros.</td>\n",
       "      <td>15602</td>\n",
       "    </tr>\n",
       "  </tbody>\n",
       "</table>\n",
       "</div>"
      ],
      "text/plain": [
       "        id                       name id_filme\n",
       "0      3.0    Pixar Animation Studios      862\n",
       "1    559.0           TriStar Pictures     8844\n",
       "2   2550.0               Teitler Film     8844\n",
       "3  10201.0  Interscope Communications     8844\n",
       "4   6194.0               Warner Bros.    15602"
      ]
     },
     "execution_count": 30,
     "metadata": {},
     "output_type": "execute_result"
    }
   ],
   "source": [
    "companies_df = pd.read_csv('./companies.csv').iloc[:,1:]\n",
    "companies_df['id_filme'] = companies_df['id_filme'].astype(str)\n",
    "companies_df.head() "
   ]
  },
  {
   "cell_type": "code",
   "execution_count": 31,
   "id": "cac01281",
   "metadata": {
    "execution": {
     "iopub.execute_input": "2022-07-07T13:10:14.538738Z",
     "iopub.status.busy": "2022-07-07T13:10:14.537940Z",
     "iopub.status.idle": "2022-07-07T13:10:14.569390Z",
     "shell.execute_reply": "2022-07-07T13:10:14.567831Z"
    },
    "papermill": {
     "duration": 0.062335,
     "end_time": "2022-07-07T13:10:14.571943",
     "exception": false,
     "start_time": "2022-07-07T13:10:14.509608",
     "status": "completed"
    },
    "tags": []
   },
   "outputs": [
    {
     "name": "stdout",
     "output_type": "stream",
     "text": [
      "<class 'pandas.core.frame.DataFrame'>\n",
      "RangeIndex: 68509 entries, 0 to 68508\n",
      "Data columns (total 3 columns):\n",
      " #   Column    Non-Null Count  Dtype  \n",
      "---  ------    --------------  -----  \n",
      " 0   id        68509 non-null  float64\n",
      " 1   name      68509 non-null  object \n",
      " 2   id_filme  68509 non-null  object \n",
      "dtypes: float64(1), object(2)\n",
      "memory usage: 1.6+ MB\n"
     ]
    }
   ],
   "source": [
    "companies_df.info() "
   ]
  },
  {
   "cell_type": "code",
   "execution_count": 32,
   "id": "528bce63",
   "metadata": {
    "execution": {
     "iopub.execute_input": "2022-07-07T13:10:14.628447Z",
     "iopub.status.busy": "2022-07-07T13:10:14.627988Z",
     "iopub.status.idle": "2022-07-07T13:10:14.858554Z",
     "shell.execute_reply": "2022-07-07T13:10:14.857882Z"
    },
    "papermill": {
     "duration": 0.262002,
     "end_time": "2022-07-07T13:10:14.861137",
     "exception": false,
     "start_time": "2022-07-07T13:10:14.599135",
     "status": "completed"
    },
    "tags": []
   },
   "outputs": [
    {
     "data": {
      "text/html": [
       "<div>\n",
       "<style scoped>\n",
       "    .dataframe tbody tr th:only-of-type {\n",
       "        vertical-align: middle;\n",
       "    }\n",
       "\n",
       "    .dataframe tbody tr th {\n",
       "        vertical-align: top;\n",
       "    }\n",
       "\n",
       "    .dataframe thead th {\n",
       "        text-align: right;\n",
       "    }\n",
       "</style>\n",
       "<table border=\"1\" class=\"dataframe\">\n",
       "  <thead>\n",
       "    <tr style=\"text-align: right;\">\n",
       "      <th></th>\n",
       "      <th>id_x</th>\n",
       "      <th>name</th>\n",
       "      <th>id_filme</th>\n",
       "      <th>adult</th>\n",
       "      <th>belongs_to_collection</th>\n",
       "      <th>budget</th>\n",
       "      <th>genres</th>\n",
       "      <th>homepage</th>\n",
       "      <th>id_y</th>\n",
       "      <th>imdb_id</th>\n",
       "      <th>...</th>\n",
       "      <th>vote_average</th>\n",
       "      <th>vote_count</th>\n",
       "      <th>revenue_float</th>\n",
       "      <th>vote_average_float</th>\n",
       "      <th>vote_count_float</th>\n",
       "      <th>popularity_float</th>\n",
       "      <th>runtime_float</th>\n",
       "      <th>budget_float</th>\n",
       "      <th>release_date_datetime</th>\n",
       "      <th>adult_bool</th>\n",
       "    </tr>\n",
       "  </thead>\n",
       "  <tbody>\n",
       "    <tr>\n",
       "      <th>39659</th>\n",
       "      <td>62977.0</td>\n",
       "      <td>Wise Guy Productions</td>\n",
       "      <td>15826</td>\n",
       "      <td>False</td>\n",
       "      <td>NaN</td>\n",
       "      <td>0</td>\n",
       "      <td>[{'id': 27, 'name': 'Horror'}, {'id': 18, 'nam...</td>\n",
       "      <td>NaN</td>\n",
       "      <td>15826</td>\n",
       "      <td>tt0400201</td>\n",
       "      <td>...</td>\n",
       "      <td>4.8</td>\n",
       "      <td>5.0</td>\n",
       "      <td>0.0</td>\n",
       "      <td>4.8</td>\n",
       "      <td>5.0</td>\n",
       "      <td>0.767032</td>\n",
       "      <td>94.0</td>\n",
       "      <td>0.0</td>\n",
       "      <td>2005-05-27</td>\n",
       "      <td>True</td>\n",
       "    </tr>\n",
       "    <tr>\n",
       "      <th>68380</th>\n",
       "      <td>2171.0</td>\n",
       "      <td>Les Productions FDL</td>\n",
       "      <td>7014</td>\n",
       "      <td>False</td>\n",
       "      <td>NaN</td>\n",
       "      <td>0</td>\n",
       "      <td>[{'id': 35, 'name': 'Comedy'}]</td>\n",
       "      <td>NaN</td>\n",
       "      <td>7014</td>\n",
       "      <td>tt0069369</td>\n",
       "      <td>...</td>\n",
       "      <td>7.1</td>\n",
       "      <td>9.0</td>\n",
       "      <td>0.0</td>\n",
       "      <td>7.1</td>\n",
       "      <td>9.0</td>\n",
       "      <td>2.018911</td>\n",
       "      <td>104.0</td>\n",
       "      <td>0.0</td>\n",
       "      <td>1973-03-01</td>\n",
       "      <td>True</td>\n",
       "    </tr>\n",
       "    <tr>\n",
       "      <th>40717</th>\n",
       "      <td>3477.0</td>\n",
       "      <td>Star Overseas</td>\n",
       "      <td>53168</td>\n",
       "      <td>False</td>\n",
       "      <td>NaN</td>\n",
       "      <td>0</td>\n",
       "      <td>[{'id': 35, 'name': 'Comedy'}, {'id': 18, 'nam...</td>\n",
       "      <td>NaN</td>\n",
       "      <td>53168</td>\n",
       "      <td>tt0188766</td>\n",
       "      <td>...</td>\n",
       "      <td>6.9</td>\n",
       "      <td>34.0</td>\n",
       "      <td>0.0</td>\n",
       "      <td>6.9</td>\n",
       "      <td>34.0</td>\n",
       "      <td>3.139003</td>\n",
       "      <td>89.0</td>\n",
       "      <td>0.0</td>\n",
       "      <td>1999-02-13</td>\n",
       "      <td>True</td>\n",
       "    </tr>\n",
       "    <tr>\n",
       "      <th>56432</th>\n",
       "      <td>51436.0</td>\n",
       "      <td>Hahnscape</td>\n",
       "      <td>207936</td>\n",
       "      <td>False</td>\n",
       "      <td>NaN</td>\n",
       "      <td>0</td>\n",
       "      <td>[{'id': 10402, 'name': 'Music'}, {'id': 10749,...</td>\n",
       "      <td>NaN</td>\n",
       "      <td>207936</td>\n",
       "      <td>tt2338424</td>\n",
       "      <td>...</td>\n",
       "      <td>6.6</td>\n",
       "      <td>51.0</td>\n",
       "      <td>135026.0</td>\n",
       "      <td>6.6</td>\n",
       "      <td>51.0</td>\n",
       "      <td>10.932742</td>\n",
       "      <td>105.0</td>\n",
       "      <td>0.0</td>\n",
       "      <td>2015-04-18</td>\n",
       "      <td>True</td>\n",
       "    </tr>\n",
       "    <tr>\n",
       "      <th>49101</th>\n",
       "      <td>20491.0</td>\n",
       "      <td>Paradise Group</td>\n",
       "      <td>62678</td>\n",
       "      <td>False</td>\n",
       "      <td>NaN</td>\n",
       "      <td>0</td>\n",
       "      <td>[{'id': 28, 'name': 'Action'}, {'id': 18, 'nam...</td>\n",
       "      <td>NaN</td>\n",
       "      <td>62678</td>\n",
       "      <td>tt0460012</td>\n",
       "      <td>...</td>\n",
       "      <td>6.1</td>\n",
       "      <td>17.0</td>\n",
       "      <td>0.0</td>\n",
       "      <td>6.1</td>\n",
       "      <td>17.0</td>\n",
       "      <td>1.055545</td>\n",
       "      <td>97.0</td>\n",
       "      <td>0.0</td>\n",
       "      <td>2006-02-02</td>\n",
       "      <td>True</td>\n",
       "    </tr>\n",
       "    <tr>\n",
       "      <th>2953</th>\n",
       "      <td>14.0</td>\n",
       "      <td>Miramax Films</td>\n",
       "      <td>38295</td>\n",
       "      <td>False</td>\n",
       "      <td>NaN</td>\n",
       "      <td>18000000</td>\n",
       "      <td>[{'id': 18, 'name': 'Drama'}, {'id': 10749, 'n...</td>\n",
       "      <td>NaN</td>\n",
       "      <td>38295</td>\n",
       "      <td>tt0120112</td>\n",
       "      <td>...</td>\n",
       "      <td>5.3</td>\n",
       "      <td>26.0</td>\n",
       "      <td>0.0</td>\n",
       "      <td>5.3</td>\n",
       "      <td>26.0</td>\n",
       "      <td>2.314911</td>\n",
       "      <td>100.0</td>\n",
       "      <td>18000000.0</td>\n",
       "      <td>1997-08-29</td>\n",
       "      <td>True</td>\n",
       "    </tr>\n",
       "    <tr>\n",
       "      <th>43557</th>\n",
       "      <td>15893.0</td>\n",
       "      <td>Tax Shelter Film Funding</td>\n",
       "      <td>190870</td>\n",
       "      <td>False</td>\n",
       "      <td>NaN</td>\n",
       "      <td>0</td>\n",
       "      <td>[{'id': 35, 'name': 'Comedy'}, {'id': 53, 'nam...</td>\n",
       "      <td>NaN</td>\n",
       "      <td>190870</td>\n",
       "      <td>tt2403981</td>\n",
       "      <td>...</td>\n",
       "      <td>4.4</td>\n",
       "      <td>9.0</td>\n",
       "      <td>0.0</td>\n",
       "      <td>4.4</td>\n",
       "      <td>9.0</td>\n",
       "      <td>4.112052</td>\n",
       "      <td>106.0</td>\n",
       "      <td>0.0</td>\n",
       "      <td>2013-09-11</td>\n",
       "      <td>True</td>\n",
       "    </tr>\n",
       "    <tr>\n",
       "      <th>3389</th>\n",
       "      <td>559.0</td>\n",
       "      <td>TriStar Pictures</td>\n",
       "      <td>9448</td>\n",
       "      <td>False</td>\n",
       "      <td>NaN</td>\n",
       "      <td>13000000</td>\n",
       "      <td>[{'id': 28, 'name': 'Action'}, {'id': 12, 'nam...</td>\n",
       "      <td>NaN</td>\n",
       "      <td>9448</td>\n",
       "      <td>tt0120609</td>\n",
       "      <td>...</td>\n",
       "      <td>6.1</td>\n",
       "      <td>112.0</td>\n",
       "      <td>27007143.0</td>\n",
       "      <td>6.1</td>\n",
       "      <td>112.0</td>\n",
       "      <td>5.975082</td>\n",
       "      <td>91.0</td>\n",
       "      <td>13000000.0</td>\n",
       "      <td>1998-04-24</td>\n",
       "      <td>True</td>\n",
       "    </tr>\n",
       "    <tr>\n",
       "      <th>46826</th>\n",
       "      <td>6861.0</td>\n",
       "      <td>Lolafilms</td>\n",
       "      <td>48635</td>\n",
       "      <td>False</td>\n",
       "      <td>{'id': 277798, 'name': 'Isi/Disi Collection', ...</td>\n",
       "      <td>0</td>\n",
       "      <td>[{'id': 35, 'name': 'Comedy'}, {'id': 10402, '...</td>\n",
       "      <td>NaN</td>\n",
       "      <td>48635</td>\n",
       "      <td>tt0390136</td>\n",
       "      <td>...</td>\n",
       "      <td>5.5</td>\n",
       "      <td>13.0</td>\n",
       "      <td>0.0</td>\n",
       "      <td>5.5</td>\n",
       "      <td>13.0</td>\n",
       "      <td>1.437794</td>\n",
       "      <td>88.0</td>\n",
       "      <td>0.0</td>\n",
       "      <td>2004-07-23</td>\n",
       "      <td>True</td>\n",
       "    </tr>\n",
       "    <tr>\n",
       "      <th>10156</th>\n",
       "      <td>7053.0</td>\n",
       "      <td>Catch 23 Entertainment</td>\n",
       "      <td>9357</td>\n",
       "      <td>False</td>\n",
       "      <td>NaN</td>\n",
       "      <td>12000000</td>\n",
       "      <td>[{'id': 27, 'name': 'Horror'}, {'id': 53, 'nam...</td>\n",
       "      <td>NaN</td>\n",
       "      <td>9357</td>\n",
       "      <td>tt0265459</td>\n",
       "      <td>...</td>\n",
       "      <td>6.6</td>\n",
       "      <td>444.0</td>\n",
       "      <td>52223306.0</td>\n",
       "      <td>6.6</td>\n",
       "      <td>444.0</td>\n",
       "      <td>10.753445</td>\n",
       "      <td>96.0</td>\n",
       "      <td>12000000.0</td>\n",
       "      <td>2002-08-21</td>\n",
       "      <td>True</td>\n",
       "    </tr>\n",
       "  </tbody>\n",
       "</table>\n",
       "<p>10 rows × 35 columns</p>\n",
       "</div>"
      ],
      "text/plain": [
       "          id_x                      name id_filme  adult  \\\n",
       "39659  62977.0      Wise Guy Productions    15826  False   \n",
       "68380   2171.0       Les Productions FDL     7014  False   \n",
       "40717   3477.0             Star Overseas    53168  False   \n",
       "56432  51436.0                 Hahnscape   207936  False   \n",
       "49101  20491.0            Paradise Group    62678  False   \n",
       "2953      14.0             Miramax Films    38295  False   \n",
       "43557  15893.0  Tax Shelter Film Funding   190870  False   \n",
       "3389     559.0          TriStar Pictures     9448  False   \n",
       "46826   6861.0                 Lolafilms    48635  False   \n",
       "10156   7053.0    Catch 23 Entertainment     9357  False   \n",
       "\n",
       "                                   belongs_to_collection    budget  \\\n",
       "39659                                                NaN         0   \n",
       "68380                                                NaN         0   \n",
       "40717                                                NaN         0   \n",
       "56432                                                NaN         0   \n",
       "49101                                                NaN         0   \n",
       "2953                                                 NaN  18000000   \n",
       "43557                                                NaN         0   \n",
       "3389                                                 NaN  13000000   \n",
       "46826  {'id': 277798, 'name': 'Isi/Disi Collection', ...         0   \n",
       "10156                                                NaN  12000000   \n",
       "\n",
       "                                                  genres homepage    id_y  \\\n",
       "39659  [{'id': 27, 'name': 'Horror'}, {'id': 18, 'nam...      NaN   15826   \n",
       "68380                     [{'id': 35, 'name': 'Comedy'}]      NaN    7014   \n",
       "40717  [{'id': 35, 'name': 'Comedy'}, {'id': 18, 'nam...      NaN   53168   \n",
       "56432  [{'id': 10402, 'name': 'Music'}, {'id': 10749,...      NaN  207936   \n",
       "49101  [{'id': 28, 'name': 'Action'}, {'id': 18, 'nam...      NaN   62678   \n",
       "2953   [{'id': 18, 'name': 'Drama'}, {'id': 10749, 'n...      NaN   38295   \n",
       "43557  [{'id': 35, 'name': 'Comedy'}, {'id': 53, 'nam...      NaN  190870   \n",
       "3389   [{'id': 28, 'name': 'Action'}, {'id': 12, 'nam...      NaN    9448   \n",
       "46826  [{'id': 35, 'name': 'Comedy'}, {'id': 10402, '...      NaN   48635   \n",
       "10156  [{'id': 27, 'name': 'Horror'}, {'id': 53, 'nam...      NaN    9357   \n",
       "\n",
       "         imdb_id  ... vote_average vote_count revenue_float  \\\n",
       "39659  tt0400201  ...          4.8        5.0           0.0   \n",
       "68380  tt0069369  ...          7.1        9.0           0.0   \n",
       "40717  tt0188766  ...          6.9       34.0           0.0   \n",
       "56432  tt2338424  ...          6.6       51.0      135026.0   \n",
       "49101  tt0460012  ...          6.1       17.0           0.0   \n",
       "2953   tt0120112  ...          5.3       26.0           0.0   \n",
       "43557  tt2403981  ...          4.4        9.0           0.0   \n",
       "3389   tt0120609  ...          6.1      112.0    27007143.0   \n",
       "46826  tt0390136  ...          5.5       13.0           0.0   \n",
       "10156  tt0265459  ...          6.6      444.0    52223306.0   \n",
       "\n",
       "      vote_average_float vote_count_float popularity_float runtime_float  \\\n",
       "39659                4.8              5.0         0.767032          94.0   \n",
       "68380                7.1              9.0         2.018911         104.0   \n",
       "40717                6.9             34.0         3.139003          89.0   \n",
       "56432                6.6             51.0        10.932742         105.0   \n",
       "49101                6.1             17.0         1.055545          97.0   \n",
       "2953                 5.3             26.0         2.314911         100.0   \n",
       "43557                4.4              9.0         4.112052         106.0   \n",
       "3389                 6.1            112.0         5.975082          91.0   \n",
       "46826                5.5             13.0         1.437794          88.0   \n",
       "10156                6.6            444.0        10.753445          96.0   \n",
       "\n",
       "      budget_float  release_date_datetime  adult_bool  \n",
       "39659          0.0             2005-05-27        True  \n",
       "68380          0.0             1973-03-01        True  \n",
       "40717          0.0             1999-02-13        True  \n",
       "56432          0.0             2015-04-18        True  \n",
       "49101          0.0             2006-02-02        True  \n",
       "2953    18000000.0             1997-08-29        True  \n",
       "43557          0.0             2013-09-11        True  \n",
       "3389    13000000.0             1998-04-24        True  \n",
       "46826          0.0             2004-07-23        True  \n",
       "10156   12000000.0             2002-08-21        True  \n",
       "\n",
       "[10 rows x 35 columns]"
      ]
     },
     "execution_count": 32,
     "metadata": {},
     "output_type": "execute_result"
    }
   ],
   "source": [
    "companies_movies_df = companies_df.merge(right=movies_df,how='left',left_on='id_filme',right_on='id')\n",
    "companies_movies_df.sample(10)"
   ]
  },
  {
   "cell_type": "code",
   "execution_count": 33,
   "id": "d3e53b97",
   "metadata": {
    "execution": {
     "iopub.execute_input": "2022-07-07T13:10:14.919548Z",
     "iopub.status.busy": "2022-07-07T13:10:14.918284Z",
     "iopub.status.idle": "2022-07-07T13:10:15.027055Z",
     "shell.execute_reply": "2022-07-07T13:10:15.026149Z"
    },
    "papermill": {
     "duration": 0.139949,
     "end_time": "2022-07-07T13:10:15.029179",
     "exception": false,
     "start_time": "2022-07-07T13:10:14.889230",
     "status": "completed"
    },
    "tags": []
   },
   "outputs": [
    {
     "data": {
      "text/plain": [
       "Index(['Colorado Office of Film, Television & Media',\n",
       "       'Abu Dhabi Film Commission', 'Vita-Ray Dutch Productions (III)',\n",
       "       'Deluxe Digital Studios', 'Ian Bryce Productions',\n",
       "       'Black Hangar Studios', 'Truenorth Productions',\n",
       "       'Second Mate Productions', '3Foot7', 'Patalex IV Productions Limited',\n",
       "       ...\n",
       "       'Gus', 'Gurian Entertainment', 'Gun for Hire Films', 'Gunslinger',\n",
       "       'Gunro', 'Gunpowder Co.', 'Gunman Productions', 'Gunless Productions',\n",
       "       'Gundersen Entertainment', '프로덕션M'],\n",
       "      dtype='object', name='name', length=22979)"
      ]
     },
     "execution_count": 33,
     "metadata": {},
     "output_type": "execute_result"
    }
   ],
   "source": [
    "avaliacao_companies = companies_movies_df.groupby('name').vote_average_float.mean().sort_values(ascending=False)\n",
    "bilheteria_copanies = companies_movies_df.groupby('name').revenue_float.mean().sort_values(ascending=False)\n",
    "bilheteria_copanies.keys()"
   ]
  },
  {
   "cell_type": "code",
   "execution_count": null,
   "id": "734205dc",
   "metadata": {
    "papermill": {
     "duration": 0.028742,
     "end_time": "2022-07-07T13:10:15.086699",
     "exception": false,
     "start_time": "2022-07-07T13:10:15.057957",
     "status": "completed"
    },
    "tags": []
   },
   "outputs": [],
   "source": []
  },
  {
   "cell_type": "code",
   "execution_count": 34,
   "id": "d1734822",
   "metadata": {
    "execution": {
     "iopub.execute_input": "2022-07-07T13:10:15.147193Z",
     "iopub.status.busy": "2022-07-07T13:10:15.146036Z",
     "iopub.status.idle": "2022-07-07T13:10:15.729111Z",
     "shell.execute_reply": "2022-07-07T13:10:15.727921Z"
    },
    "papermill": {
     "duration": 0.615652,
     "end_time": "2022-07-07T13:10:15.731395",
     "exception": false,
     "start_time": "2022-07-07T13:10:15.115743",
     "status": "completed"
    },
    "tags": []
   },
   "outputs": [
    {
     "data": {
      "text/plain": [
       "Text(0, 0.5, 'Bilheteria Média')"
      ]
     },
     "execution_count": 34,
     "metadata": {},
     "output_type": "execute_result"
    },
    {
     "data": {
      "image/png": "[encoded data removed]",
      "text/plain": [
       "<Figure size 1512x1152 with 4 Axes>"
      ]
     },
     "metadata": {
      "needs_background": "light"
     },
     "output_type": "display_data"
    }
   ],
   "source": [
    "fig,ax = plt.subplots(2,2,figsize=(21,16))\n",
    "\n",
    "sns.barplot(ax=ax[0,0],x = avaliacao_companies.keys()[:5], y = avaliacao_companies.values[:5])\n",
    "sns.boxplot(ax=ax[1,0],data = avaliacao_companies)\n",
    "\n",
    "ax[0,0].set_ylabel('Avaliação Média',fontsize=16)\n",
    "ax[0,0].set_xlabel('Produtora do filme',fontsize=16)\n",
    "ax[1,0].set_ylabel('Avaliação Média',fontsize=16)\n",
    "\n",
    "sns.barplot(ax=ax[0,1],x = bilheteria_copanies.keys()[:5], y = bilheteria_copanies.values[:5])\n",
    "sns.boxplot(ax=ax[1,1],data =bilheteria_copanies)\n",
    "\n",
    "ax[0,1].set_ylabel('Bilheteria Média',fontsize=16)\n",
    "ax[0,1].set_xlabel('Produtora do filme',fontsize=16)\n",
    "ax[1,1].set_ylabel('Bilheteria Média',fontsize=16)\n",
    "\n"
   ]
  },
  {
   "cell_type": "markdown",
   "id": "cb3ead55",
   "metadata": {
    "papermill": {
     "duration": 0.029476,
     "end_time": "2022-07-07T13:10:15.789993",
     "exception": false,
     "start_time": "2022-07-07T13:10:15.760517",
     "status": "completed"
    },
    "tags": []
   },
   "source": [
    "3.9-) Paises que produzem os filmes"
   ]
  },
  {
   "cell_type": "code",
   "execution_count": 35,
   "id": "df273dc4",
   "metadata": {
    "execution": {
     "iopub.execute_input": "2022-07-07T13:10:15.851226Z",
     "iopub.status.busy": "2022-07-07T13:10:15.850503Z",
     "iopub.status.idle": "2022-07-07T13:10:15.958240Z",
     "shell.execute_reply": "2022-07-07T13:10:15.957200Z"
    },
    "papermill": {
     "duration": 0.140469,
     "end_time": "2022-07-07T13:10:15.960338",
     "exception": false,
     "start_time": "2022-07-07T13:10:15.819869",
     "status": "completed"
    },
    "tags": []
   },
   "outputs": [
    {
     "data": {
      "text/html": [
       "<div>\n",
       "<style scoped>\n",
       "    .dataframe tbody tr th:only-of-type {\n",
       "        vertical-align: middle;\n",
       "    }\n",
       "\n",
       "    .dataframe tbody tr th {\n",
       "        vertical-align: top;\n",
       "    }\n",
       "\n",
       "    .dataframe thead th {\n",
       "        text-align: right;\n",
       "    }\n",
       "</style>\n",
       "<table border=\"1\" class=\"dataframe\">\n",
       "  <thead>\n",
       "    <tr style=\"text-align: right;\">\n",
       "      <th></th>\n",
       "      <th>adult</th>\n",
       "      <th>belongs_to_collection</th>\n",
       "      <th>budget</th>\n",
       "      <th>genres</th>\n",
       "      <th>homepage</th>\n",
       "      <th>id</th>\n",
       "      <th>imdb_id</th>\n",
       "      <th>original_language</th>\n",
       "      <th>original_title</th>\n",
       "      <th>overview</th>\n",
       "      <th>...</th>\n",
       "      <th>vote_average_float</th>\n",
       "      <th>vote_count_float</th>\n",
       "      <th>popularity_float</th>\n",
       "      <th>runtime_float</th>\n",
       "      <th>budget_float</th>\n",
       "      <th>release_date_datetime</th>\n",
       "      <th>adult_bool</th>\n",
       "      <th>iso_3166_1</th>\n",
       "      <th>name</th>\n",
       "      <th>id_filme</th>\n",
       "    </tr>\n",
       "  </thead>\n",
       "  <tbody>\n",
       "    <tr>\n",
       "      <th>0</th>\n",
       "      <td>False</td>\n",
       "      <td>{'id': 10194, 'name': 'Toy Story Collection', ...</td>\n",
       "      <td>30000000</td>\n",
       "      <td>[{'id': 16, 'name': 'Animation'}, {'id': 35, '...</td>\n",
       "      <td>http://toystory.disney.com/toy-story</td>\n",
       "      <td>862</td>\n",
       "      <td>tt0114709</td>\n",
       "      <td>en</td>\n",
       "      <td>Toy Story</td>\n",
       "      <td>Led by Woody, Andy's toys live happily in his ...</td>\n",
       "      <td>...</td>\n",
       "      <td>7.7</td>\n",
       "      <td>5415.0</td>\n",
       "      <td>21.946943</td>\n",
       "      <td>81.0</td>\n",
       "      <td>30000000.0</td>\n",
       "      <td>1995-10-30</td>\n",
       "      <td>True</td>\n",
       "      <td>US</td>\n",
       "      <td>United States of America</td>\n",
       "      <td>862</td>\n",
       "    </tr>\n",
       "    <tr>\n",
       "      <th>1</th>\n",
       "      <td>False</td>\n",
       "      <td>NaN</td>\n",
       "      <td>65000000</td>\n",
       "      <td>[{'id': 12, 'name': 'Adventure'}, {'id': 14, '...</td>\n",
       "      <td>NaN</td>\n",
       "      <td>8844</td>\n",
       "      <td>tt0113497</td>\n",
       "      <td>en</td>\n",
       "      <td>Jumanji</td>\n",
       "      <td>When siblings Judy and Peter discover an encha...</td>\n",
       "      <td>...</td>\n",
       "      <td>6.9</td>\n",
       "      <td>2413.0</td>\n",
       "      <td>17.015539</td>\n",
       "      <td>104.0</td>\n",
       "      <td>65000000.0</td>\n",
       "      <td>1995-12-15</td>\n",
       "      <td>True</td>\n",
       "      <td>US</td>\n",
       "      <td>United States of America</td>\n",
       "      <td>8844</td>\n",
       "    </tr>\n",
       "    <tr>\n",
       "      <th>2</th>\n",
       "      <td>False</td>\n",
       "      <td>{'id': 119050, 'name': 'Grumpy Old Men Collect...</td>\n",
       "      <td>0</td>\n",
       "      <td>[{'id': 10749, 'name': 'Romance'}, {'id': 35, ...</td>\n",
       "      <td>NaN</td>\n",
       "      <td>15602</td>\n",
       "      <td>tt0113228</td>\n",
       "      <td>en</td>\n",
       "      <td>Grumpier Old Men</td>\n",
       "      <td>A family wedding reignites the ancient feud be...</td>\n",
       "      <td>...</td>\n",
       "      <td>6.5</td>\n",
       "      <td>92.0</td>\n",
       "      <td>11.712900</td>\n",
       "      <td>101.0</td>\n",
       "      <td>0.0</td>\n",
       "      <td>1995-12-22</td>\n",
       "      <td>True</td>\n",
       "      <td>US</td>\n",
       "      <td>United States of America</td>\n",
       "      <td>15602</td>\n",
       "    </tr>\n",
       "    <tr>\n",
       "      <th>3</th>\n",
       "      <td>False</td>\n",
       "      <td>NaN</td>\n",
       "      <td>16000000</td>\n",
       "      <td>[{'id': 35, 'name': 'Comedy'}, {'id': 18, 'nam...</td>\n",
       "      <td>NaN</td>\n",
       "      <td>31357</td>\n",
       "      <td>tt0114885</td>\n",
       "      <td>en</td>\n",
       "      <td>Waiting to Exhale</td>\n",
       "      <td>Cheated on, mistreated and stepped on, the wom...</td>\n",
       "      <td>...</td>\n",
       "      <td>6.1</td>\n",
       "      <td>34.0</td>\n",
       "      <td>3.859495</td>\n",
       "      <td>127.0</td>\n",
       "      <td>16000000.0</td>\n",
       "      <td>1995-12-22</td>\n",
       "      <td>True</td>\n",
       "      <td>US</td>\n",
       "      <td>United States of America</td>\n",
       "      <td>31357</td>\n",
       "    </tr>\n",
       "    <tr>\n",
       "      <th>4</th>\n",
       "      <td>False</td>\n",
       "      <td>{'id': 96871, 'name': 'Father of the Bride Col...</td>\n",
       "      <td>0</td>\n",
       "      <td>[{'id': 35, 'name': 'Comedy'}]</td>\n",
       "      <td>NaN</td>\n",
       "      <td>11862</td>\n",
       "      <td>tt0113041</td>\n",
       "      <td>en</td>\n",
       "      <td>Father of the Bride Part II</td>\n",
       "      <td>Just when George Banks has recovered from his ...</td>\n",
       "      <td>...</td>\n",
       "      <td>5.7</td>\n",
       "      <td>173.0</td>\n",
       "      <td>8.387519</td>\n",
       "      <td>106.0</td>\n",
       "      <td>0.0</td>\n",
       "      <td>1995-02-10</td>\n",
       "      <td>True</td>\n",
       "      <td>US</td>\n",
       "      <td>United States of America</td>\n",
       "      <td>11862</td>\n",
       "    </tr>\n",
       "  </tbody>\n",
       "</table>\n",
       "<p>5 rows × 35 columns</p>\n",
       "</div>"
      ],
      "text/plain": [
       "   adult                              belongs_to_collection    budget  \\\n",
       "0  False  {'id': 10194, 'name': 'Toy Story Collection', ...  30000000   \n",
       "1  False                                                NaN  65000000   \n",
       "2  False  {'id': 119050, 'name': 'Grumpy Old Men Collect...         0   \n",
       "3  False                                                NaN  16000000   \n",
       "4  False  {'id': 96871, 'name': 'Father of the Bride Col...         0   \n",
       "\n",
       "                                              genres  \\\n",
       "0  [{'id': 16, 'name': 'Animation'}, {'id': 35, '...   \n",
       "1  [{'id': 12, 'name': 'Adventure'}, {'id': 14, '...   \n",
       "2  [{'id': 10749, 'name': 'Romance'}, {'id': 35, ...   \n",
       "3  [{'id': 35, 'name': 'Comedy'}, {'id': 18, 'nam...   \n",
       "4                     [{'id': 35, 'name': 'Comedy'}]   \n",
       "\n",
       "                               homepage     id    imdb_id original_language  \\\n",
       "0  http://toystory.disney.com/toy-story    862  tt0114709                en   \n",
       "1                                   NaN   8844  tt0113497                en   \n",
       "2                                   NaN  15602  tt0113228                en   \n",
       "3                                   NaN  31357  tt0114885                en   \n",
       "4                                   NaN  11862  tt0113041                en   \n",
       "\n",
       "                original_title  \\\n",
       "0                    Toy Story   \n",
       "1                      Jumanji   \n",
       "2             Grumpier Old Men   \n",
       "3            Waiting to Exhale   \n",
       "4  Father of the Bride Part II   \n",
       "\n",
       "                                            overview  ... vote_average_float  \\\n",
       "0  Led by Woody, Andy's toys live happily in his ...  ...                7.7   \n",
       "1  When siblings Judy and Peter discover an encha...  ...                6.9   \n",
       "2  A family wedding reignites the ancient feud be...  ...                6.5   \n",
       "3  Cheated on, mistreated and stepped on, the wom...  ...                6.1   \n",
       "4  Just when George Banks has recovered from his ...  ...                5.7   \n",
       "\n",
       "  vote_count_float popularity_float runtime_float budget_float  \\\n",
       "0           5415.0        21.946943          81.0   30000000.0   \n",
       "1           2413.0        17.015539         104.0   65000000.0   \n",
       "2             92.0        11.712900         101.0          0.0   \n",
       "3             34.0         3.859495         127.0   16000000.0   \n",
       "4            173.0         8.387519         106.0          0.0   \n",
       "\n",
       "   release_date_datetime  adult_bool iso_3166_1                      name  \\\n",
       "0             1995-10-30        True         US  United States of America   \n",
       "1             1995-12-15        True         US  United States of America   \n",
       "2             1995-12-22        True         US  United States of America   \n",
       "3             1995-12-22        True         US  United States of America   \n",
       "4             1995-02-10        True         US  United States of America   \n",
       "\n",
       "  id_filme  \n",
       "0      862  \n",
       "1     8844  \n",
       "2    15602  \n",
       "3    31357  \n",
       "4    11862  \n",
       "\n",
       "[5 rows x 35 columns]"
      ]
     },
     "execution_count": 35,
     "metadata": {},
     "output_type": "execute_result"
    }
   ],
   "source": [
    "paises_moveis = movies_df.merge(right=paises_df,how='left',left_on='id',right_on='id_filme')\n",
    "paises_moveis.head()"
   ]
  },
  {
   "cell_type": "code",
   "execution_count": 36,
   "id": "99b549dd",
   "metadata": {
    "execution": {
     "iopub.execute_input": "2022-07-07T13:10:16.022299Z",
     "iopub.status.busy": "2022-07-07T13:10:16.021861Z",
     "iopub.status.idle": "2022-07-07T13:10:16.327713Z",
     "shell.execute_reply": "2022-07-07T13:10:16.326528Z"
    },
    "papermill": {
     "duration": 0.340518,
     "end_time": "2022-07-07T13:10:16.330449",
     "exception": false,
     "start_time": "2022-07-07T13:10:15.989931",
     "status": "completed"
    },
    "tags": []
   },
   "outputs": [
    {
     "data": {
      "text/plain": [
       "<AxesSubplot:xlabel='iso_3166_1'>"
      ]
     },
     "execution_count": 36,
     "metadata": {},
     "output_type": "execute_result"
    },
    {
     "data": {
      "image/png": "[encoded data removed]",
      "text/plain": [
       "<Figure size 1152x648 with 1 Axes>"
      ]
     },
     "metadata": {
      "needs_background": "light"
     },
     "output_type": "display_data"
    }
   ],
   "source": [
    "qtd_paises = paises_moveis.groupby('iso_3166_1').iso_3166_1.count().sort_values(ascending=False)[:20]\n",
    "\n",
    "\n",
    "\n",
    "fig,ax = plt.subplots(figsize=(16,9))\n",
    "\n",
    "sns.barplot(x = qtd_paises.keys(), y = qtd_paises.values,palette='pastel')\n"
   ]
  }
 ],
 "metadata": {
  "kernelspec": {
   "display_name": "Python 3",
   "language": "python",
   "name": "python3"
  },
  "language_info": {
   "codemirror_mode": {
    "name": "ipython",
    "version": 3
   },
   "file_extension": ".py",
   "mimetype": "text/x-python",
   "name": "python",
   "nbconvert_exporter": "python",
   "pygments_lexer": "ipython3",
   "version": "3.7.12"
  },
  "papermill": {
   "default_parameters": {},
   "duration": 389.003949,
   "end_time": "2022-07-07T13:10:19.546681",
   "environment_variables": {},
   "exception": null,
   "input_path": "__notebook__.ipynb",
   "output_path": "__notebook__.ipynb",
   "parameters": {},
   "start_time": "2022-07-07T13:03:50.542732",
   "version": "2.3.4"
  }
 },
 "nbformat": 4,
 "nbformat_minor": 5
}
